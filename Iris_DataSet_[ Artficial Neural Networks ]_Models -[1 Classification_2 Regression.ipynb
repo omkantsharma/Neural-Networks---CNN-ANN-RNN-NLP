{
 "cells": [
  {
   "cell_type": "raw",
   "id": "f7296705",
   "metadata": {},
   "source": [
    " Iris_DataSet_ML_Models -1. SV - [1.1 Classification (1ANN2LR3DTC4RFC5KNNC6SVM7NB)_1.2 Regression(1ANN2S-M-P-LR3DTR4RFR5KNNR6SVM)] 2. USL -[K-C & HC]]"
   ]
  },
  {
   "cell_type": "markdown",
   "id": "81e1c3c9",
   "metadata": {},
   "source": [
    "https://playground.tensorflow.org/#activation=sigmoid&batchSize=10&dataset=circle&regDataset=reg-plane&learningRate=0.03&regularizationRate=0&noise=0&networkShape=7,2&seed=0.10940&showTestData=false&discretize=false&percTrainData=50&x=true&y=true&xTimesY=false&xSquared=false&ySquared=false&cosX=false&sinX=false&cosY=false&sinY=false&collectStats=false&problem=classification&initZero=false&hideText=false"
   ]
  },
  {
   "cell_type": "markdown",
   "id": "316152d3",
   "metadata": {},
   "source": [
    "# Artificial Intelligence \n",
    "\n",
    "## Machine Learning \n",
    "\n",
    "## Supervised Learning\n",
    "\n",
    "### Classification - Artificial Neural Network (classification)\n",
    "- Logistic Regression / classification\n",
    "- Decision Tree Classifier\n",
    "- Random Forest Classifier\n",
    "- K-N Neighbor Classifier\n",
    "- Support Vector Machine - Linear, Ploly, RBF( Redial Basis Function )\n",
    "- Naive Bayes - MultinomialNB, BurnoulliNB, GoussianNB\n",
    "\n",
    "\n",
    "### Regression  -  Artificial Neural Network (Regression)\n",
    "- Simple Linear Regression\n",
    "- Multi- Linear Regression\n",
    "- Decision Tree Regresor\n",
    "- Random Forest Regressor\n",
    "- K -N Neighbour Regressor\n",
    "- Support Vector Machine Learning - Linear, polly, RBF - Redial Basis Function\n",
    "\n",
    "## Unsupervised Learning\n",
    "- K-Mean Clustering\n",
    "- Hierarchical Clustering"
   ]
  },
  {
   "cell_type": "markdown",
   "id": "a046d704",
   "metadata": {},
   "source": [
    "### 1. import Liberary "
   ]
  },
  {
   "cell_type": "raw",
   "id": "4463799e",
   "metadata": {},
   "source": []
  },
  {
   "cell_type": "code",
   "execution_count": 1,
   "id": "2b76eb24",
   "metadata": {},
   "outputs": [],
   "source": [
    "import seaborn as sns\n",
    "import pandas as pd \n",
    "import numpy as np "
   ]
  },
  {
   "cell_type": "markdown",
   "id": "9d56db1b",
   "metadata": {},
   "source": [
    "### 2. Read data set"
   ]
  },
  {
   "cell_type": "code",
   "execution_count": 2,
   "id": "123f9e2b",
   "metadata": {},
   "outputs": [],
   "source": [
    "iris=pd.read_csv('iris.csv')"
   ]
  },
  {
   "cell_type": "markdown",
   "id": "f52f817e",
   "metadata": {},
   "source": [
    "### 3. Analysing data set"
   ]
  },
  {
   "cell_type": "code",
   "execution_count": 3,
   "id": "308d74b5",
   "metadata": {},
   "outputs": [
    {
     "data": {
      "text/html": [
       "<div>\n",
       "<style scoped>\n",
       "    .dataframe tbody tr th:only-of-type {\n",
       "        vertical-align: middle;\n",
       "    }\n",
       "\n",
       "    .dataframe tbody tr th {\n",
       "        vertical-align: top;\n",
       "    }\n",
       "\n",
       "    .dataframe thead th {\n",
       "        text-align: right;\n",
       "    }\n",
       "</style>\n",
       "<table border=\"1\" class=\"dataframe\">\n",
       "  <thead>\n",
       "    <tr style=\"text-align: right;\">\n",
       "      <th></th>\n",
       "      <th>Id</th>\n",
       "      <th>SepalLengthCm</th>\n",
       "      <th>SepalWidthCm</th>\n",
       "      <th>PetalLengthCm</th>\n",
       "      <th>PetalWidthCm</th>\n",
       "      <th>Species</th>\n",
       "    </tr>\n",
       "  </thead>\n",
       "  <tbody>\n",
       "    <tr>\n",
       "      <th>0</th>\n",
       "      <td>1</td>\n",
       "      <td>5.1</td>\n",
       "      <td>3.5</td>\n",
       "      <td>1.4</td>\n",
       "      <td>0.2</td>\n",
       "      <td>Iris-setosa</td>\n",
       "    </tr>\n",
       "    <tr>\n",
       "      <th>1</th>\n",
       "      <td>2</td>\n",
       "      <td>4.9</td>\n",
       "      <td>3.0</td>\n",
       "      <td>1.4</td>\n",
       "      <td>0.2</td>\n",
       "      <td>Iris-setosa</td>\n",
       "    </tr>\n",
       "    <tr>\n",
       "      <th>2</th>\n",
       "      <td>3</td>\n",
       "      <td>4.7</td>\n",
       "      <td>3.2</td>\n",
       "      <td>1.3</td>\n",
       "      <td>0.2</td>\n",
       "      <td>Iris-setosa</td>\n",
       "    </tr>\n",
       "    <tr>\n",
       "      <th>3</th>\n",
       "      <td>4</td>\n",
       "      <td>4.6</td>\n",
       "      <td>3.1</td>\n",
       "      <td>1.5</td>\n",
       "      <td>0.2</td>\n",
       "      <td>Iris-setosa</td>\n",
       "    </tr>\n",
       "    <tr>\n",
       "      <th>4</th>\n",
       "      <td>5</td>\n",
       "      <td>5.0</td>\n",
       "      <td>3.6</td>\n",
       "      <td>1.4</td>\n",
       "      <td>0.2</td>\n",
       "      <td>Iris-setosa</td>\n",
       "    </tr>\n",
       "  </tbody>\n",
       "</table>\n",
       "</div>"
      ],
      "text/plain": [
       "   Id  SepalLengthCm  SepalWidthCm  PetalLengthCm  PetalWidthCm      Species\n",
       "0   1            5.1           3.5            1.4           0.2  Iris-setosa\n",
       "1   2            4.9           3.0            1.4           0.2  Iris-setosa\n",
       "2   3            4.7           3.2            1.3           0.2  Iris-setosa\n",
       "3   4            4.6           3.1            1.5           0.2  Iris-setosa\n",
       "4   5            5.0           3.6            1.4           0.2  Iris-setosa"
      ]
     },
     "execution_count": 3,
     "metadata": {},
     "output_type": "execute_result"
    }
   ],
   "source": [
    "df=iris\n",
    "df.head()"
   ]
  },
  {
   "cell_type": "code",
   "execution_count": 4,
   "id": "ed029000",
   "metadata": {},
   "outputs": [
    {
     "data": {
      "text/html": [
       "<div>\n",
       "<style scoped>\n",
       "    .dataframe tbody tr th:only-of-type {\n",
       "        vertical-align: middle;\n",
       "    }\n",
       "\n",
       "    .dataframe tbody tr th {\n",
       "        vertical-align: top;\n",
       "    }\n",
       "\n",
       "    .dataframe thead th {\n",
       "        text-align: right;\n",
       "    }\n",
       "</style>\n",
       "<table border=\"1\" class=\"dataframe\">\n",
       "  <thead>\n",
       "    <tr style=\"text-align: right;\">\n",
       "      <th></th>\n",
       "      <th>Id</th>\n",
       "      <th>SepalLengthCm</th>\n",
       "      <th>SepalWidthCm</th>\n",
       "      <th>PetalLengthCm</th>\n",
       "      <th>PetalWidthCm</th>\n",
       "      <th>Species</th>\n",
       "    </tr>\n",
       "  </thead>\n",
       "  <tbody>\n",
       "    <tr>\n",
       "      <th>145</th>\n",
       "      <td>146</td>\n",
       "      <td>6.7</td>\n",
       "      <td>3.0</td>\n",
       "      <td>5.2</td>\n",
       "      <td>2.3</td>\n",
       "      <td>Iris-virginica</td>\n",
       "    </tr>\n",
       "    <tr>\n",
       "      <th>146</th>\n",
       "      <td>147</td>\n",
       "      <td>6.3</td>\n",
       "      <td>2.5</td>\n",
       "      <td>5.0</td>\n",
       "      <td>1.9</td>\n",
       "      <td>Iris-virginica</td>\n",
       "    </tr>\n",
       "    <tr>\n",
       "      <th>147</th>\n",
       "      <td>148</td>\n",
       "      <td>6.5</td>\n",
       "      <td>3.0</td>\n",
       "      <td>5.2</td>\n",
       "      <td>2.0</td>\n",
       "      <td>Iris-virginica</td>\n",
       "    </tr>\n",
       "    <tr>\n",
       "      <th>148</th>\n",
       "      <td>149</td>\n",
       "      <td>6.2</td>\n",
       "      <td>3.4</td>\n",
       "      <td>5.4</td>\n",
       "      <td>2.3</td>\n",
       "      <td>Iris-virginica</td>\n",
       "    </tr>\n",
       "    <tr>\n",
       "      <th>149</th>\n",
       "      <td>150</td>\n",
       "      <td>5.9</td>\n",
       "      <td>3.0</td>\n",
       "      <td>5.1</td>\n",
       "      <td>1.8</td>\n",
       "      <td>Iris-virginica</td>\n",
       "    </tr>\n",
       "  </tbody>\n",
       "</table>\n",
       "</div>"
      ],
      "text/plain": [
       "      Id  SepalLengthCm  SepalWidthCm  PetalLengthCm  PetalWidthCm  \\\n",
       "145  146            6.7           3.0            5.2           2.3   \n",
       "146  147            6.3           2.5            5.0           1.9   \n",
       "147  148            6.5           3.0            5.2           2.0   \n",
       "148  149            6.2           3.4            5.4           2.3   \n",
       "149  150            5.9           3.0            5.1           1.8   \n",
       "\n",
       "            Species  \n",
       "145  Iris-virginica  \n",
       "146  Iris-virginica  \n",
       "147  Iris-virginica  \n",
       "148  Iris-virginica  \n",
       "149  Iris-virginica  "
      ]
     },
     "execution_count": 4,
     "metadata": {},
     "output_type": "execute_result"
    }
   ],
   "source": [
    "df.tail()"
   ]
  },
  {
   "cell_type": "code",
   "execution_count": 5,
   "id": "2d1081d0",
   "metadata": {},
   "outputs": [
    {
     "name": "stdout",
     "output_type": "stream",
     "text": [
      "<class 'pandas.core.frame.DataFrame'>\n",
      "RangeIndex: 150 entries, 0 to 149\n",
      "Data columns (total 6 columns):\n",
      " #   Column         Non-Null Count  Dtype  \n",
      "---  ------         --------------  -----  \n",
      " 0   Id             150 non-null    int64  \n",
      " 1   SepalLengthCm  150 non-null    float64\n",
      " 2   SepalWidthCm   150 non-null    float64\n",
      " 3   PetalLengthCm  150 non-null    float64\n",
      " 4   PetalWidthCm   150 non-null    float64\n",
      " 5   Species        150 non-null    object \n",
      "dtypes: float64(4), int64(1), object(1)\n",
      "memory usage: 7.2+ KB\n"
     ]
    }
   ],
   "source": [
    "df.info()"
   ]
  },
  {
   "cell_type": "code",
   "execution_count": 6,
   "id": "240346e7",
   "metadata": {},
   "outputs": [
    {
     "data": {
      "text/html": [
       "<div>\n",
       "<style scoped>\n",
       "    .dataframe tbody tr th:only-of-type {\n",
       "        vertical-align: middle;\n",
       "    }\n",
       "\n",
       "    .dataframe tbody tr th {\n",
       "        vertical-align: top;\n",
       "    }\n",
       "\n",
       "    .dataframe thead th {\n",
       "        text-align: right;\n",
       "    }\n",
       "</style>\n",
       "<table border=\"1\" class=\"dataframe\">\n",
       "  <thead>\n",
       "    <tr style=\"text-align: right;\">\n",
       "      <th></th>\n",
       "      <th>Id</th>\n",
       "      <th>SepalLengthCm</th>\n",
       "      <th>SepalWidthCm</th>\n",
       "      <th>PetalLengthCm</th>\n",
       "      <th>PetalWidthCm</th>\n",
       "    </tr>\n",
       "  </thead>\n",
       "  <tbody>\n",
       "    <tr>\n",
       "      <th>Id</th>\n",
       "      <td>1.000000</td>\n",
       "      <td>0.716676</td>\n",
       "      <td>-0.397729</td>\n",
       "      <td>0.882747</td>\n",
       "      <td>0.899759</td>\n",
       "    </tr>\n",
       "    <tr>\n",
       "      <th>SepalLengthCm</th>\n",
       "      <td>0.716676</td>\n",
       "      <td>1.000000</td>\n",
       "      <td>-0.109369</td>\n",
       "      <td>0.871754</td>\n",
       "      <td>0.817954</td>\n",
       "    </tr>\n",
       "    <tr>\n",
       "      <th>SepalWidthCm</th>\n",
       "      <td>-0.397729</td>\n",
       "      <td>-0.109369</td>\n",
       "      <td>1.000000</td>\n",
       "      <td>-0.420516</td>\n",
       "      <td>-0.356544</td>\n",
       "    </tr>\n",
       "    <tr>\n",
       "      <th>PetalLengthCm</th>\n",
       "      <td>0.882747</td>\n",
       "      <td>0.871754</td>\n",
       "      <td>-0.420516</td>\n",
       "      <td>1.000000</td>\n",
       "      <td>0.962757</td>\n",
       "    </tr>\n",
       "    <tr>\n",
       "      <th>PetalWidthCm</th>\n",
       "      <td>0.899759</td>\n",
       "      <td>0.817954</td>\n",
       "      <td>-0.356544</td>\n",
       "      <td>0.962757</td>\n",
       "      <td>1.000000</td>\n",
       "    </tr>\n",
       "  </tbody>\n",
       "</table>\n",
       "</div>"
      ],
      "text/plain": [
       "                     Id  SepalLengthCm  SepalWidthCm  PetalLengthCm  \\\n",
       "Id             1.000000       0.716676     -0.397729       0.882747   \n",
       "SepalLengthCm  0.716676       1.000000     -0.109369       0.871754   \n",
       "SepalWidthCm  -0.397729      -0.109369      1.000000      -0.420516   \n",
       "PetalLengthCm  0.882747       0.871754     -0.420516       1.000000   \n",
       "PetalWidthCm   0.899759       0.817954     -0.356544       0.962757   \n",
       "\n",
       "               PetalWidthCm  \n",
       "Id                 0.899759  \n",
       "SepalLengthCm      0.817954  \n",
       "SepalWidthCm      -0.356544  \n",
       "PetalLengthCm      0.962757  \n",
       "PetalWidthCm       1.000000  "
      ]
     },
     "execution_count": 6,
     "metadata": {},
     "output_type": "execute_result"
    }
   ],
   "source": [
    "df.corr()"
   ]
  },
  {
   "cell_type": "code",
   "execution_count": 7,
   "id": "3b50cd92",
   "metadata": {},
   "outputs": [
    {
     "data": {
      "text/html": [
       "<div>\n",
       "<style scoped>\n",
       "    .dataframe tbody tr th:only-of-type {\n",
       "        vertical-align: middle;\n",
       "    }\n",
       "\n",
       "    .dataframe tbody tr th {\n",
       "        vertical-align: top;\n",
       "    }\n",
       "\n",
       "    .dataframe thead th {\n",
       "        text-align: right;\n",
       "    }\n",
       "</style>\n",
       "<table border=\"1\" class=\"dataframe\">\n",
       "  <thead>\n",
       "    <tr style=\"text-align: right;\">\n",
       "      <th></th>\n",
       "      <th>Id</th>\n",
       "      <th>SepalLengthCm</th>\n",
       "      <th>SepalWidthCm</th>\n",
       "      <th>PetalLengthCm</th>\n",
       "      <th>PetalWidthCm</th>\n",
       "    </tr>\n",
       "  </thead>\n",
       "  <tbody>\n",
       "    <tr>\n",
       "      <th>count</th>\n",
       "      <td>150.000000</td>\n",
       "      <td>150.000000</td>\n",
       "      <td>150.000000</td>\n",
       "      <td>150.000000</td>\n",
       "      <td>150.000000</td>\n",
       "    </tr>\n",
       "    <tr>\n",
       "      <th>mean</th>\n",
       "      <td>75.500000</td>\n",
       "      <td>5.843333</td>\n",
       "      <td>3.054000</td>\n",
       "      <td>3.758667</td>\n",
       "      <td>1.198667</td>\n",
       "    </tr>\n",
       "    <tr>\n",
       "      <th>std</th>\n",
       "      <td>43.445368</td>\n",
       "      <td>0.828066</td>\n",
       "      <td>0.433594</td>\n",
       "      <td>1.764420</td>\n",
       "      <td>0.763161</td>\n",
       "    </tr>\n",
       "    <tr>\n",
       "      <th>min</th>\n",
       "      <td>1.000000</td>\n",
       "      <td>4.300000</td>\n",
       "      <td>2.000000</td>\n",
       "      <td>1.000000</td>\n",
       "      <td>0.100000</td>\n",
       "    </tr>\n",
       "    <tr>\n",
       "      <th>25%</th>\n",
       "      <td>38.250000</td>\n",
       "      <td>5.100000</td>\n",
       "      <td>2.800000</td>\n",
       "      <td>1.600000</td>\n",
       "      <td>0.300000</td>\n",
       "    </tr>\n",
       "    <tr>\n",
       "      <th>50%</th>\n",
       "      <td>75.500000</td>\n",
       "      <td>5.800000</td>\n",
       "      <td>3.000000</td>\n",
       "      <td>4.350000</td>\n",
       "      <td>1.300000</td>\n",
       "    </tr>\n",
       "    <tr>\n",
       "      <th>75%</th>\n",
       "      <td>112.750000</td>\n",
       "      <td>6.400000</td>\n",
       "      <td>3.300000</td>\n",
       "      <td>5.100000</td>\n",
       "      <td>1.800000</td>\n",
       "    </tr>\n",
       "    <tr>\n",
       "      <th>max</th>\n",
       "      <td>150.000000</td>\n",
       "      <td>7.900000</td>\n",
       "      <td>4.400000</td>\n",
       "      <td>6.900000</td>\n",
       "      <td>2.500000</td>\n",
       "    </tr>\n",
       "  </tbody>\n",
       "</table>\n",
       "</div>"
      ],
      "text/plain": [
       "               Id  SepalLengthCm  SepalWidthCm  PetalLengthCm  PetalWidthCm\n",
       "count  150.000000     150.000000    150.000000     150.000000    150.000000\n",
       "mean    75.500000       5.843333      3.054000       3.758667      1.198667\n",
       "std     43.445368       0.828066      0.433594       1.764420      0.763161\n",
       "min      1.000000       4.300000      2.000000       1.000000      0.100000\n",
       "25%     38.250000       5.100000      2.800000       1.600000      0.300000\n",
       "50%     75.500000       5.800000      3.000000       4.350000      1.300000\n",
       "75%    112.750000       6.400000      3.300000       5.100000      1.800000\n",
       "max    150.000000       7.900000      4.400000       6.900000      2.500000"
      ]
     },
     "execution_count": 7,
     "metadata": {},
     "output_type": "execute_result"
    }
   ],
   "source": [
    "df.describe()"
   ]
  },
  {
   "cell_type": "code",
   "execution_count": 8,
   "id": "9c3bd3c6",
   "metadata": {},
   "outputs": [
    {
     "data": {
      "text/plain": [
       "Id               0\n",
       "SepalLengthCm    0\n",
       "SepalWidthCm     0\n",
       "PetalLengthCm    0\n",
       "PetalWidthCm     0\n",
       "Species          0\n",
       "dtype: int64"
      ]
     },
     "execution_count": 8,
     "metadata": {},
     "output_type": "execute_result"
    }
   ],
   "source": [
    "df.isnull().sum()"
   ]
  },
  {
   "cell_type": "code",
   "execution_count": 9,
   "id": "2f13eeb9",
   "metadata": {},
   "outputs": [
    {
     "data": {
      "text/plain": [
       "Id               150\n",
       "SepalLengthCm     35\n",
       "SepalWidthCm      23\n",
       "PetalLengthCm     43\n",
       "PetalWidthCm      22\n",
       "Species            3\n",
       "dtype: int64"
      ]
     },
     "execution_count": 9,
     "metadata": {},
     "output_type": "execute_result"
    }
   ],
   "source": [
    "df.nunique()"
   ]
  },
  {
   "cell_type": "raw",
   "id": "e953f207",
   "metadata": {},
   "source": []
  },
  {
   "cell_type": "markdown",
   "id": "0b1cbbb5",
   "metadata": {},
   "source": [
    "# a. Artificial Neural Network - CLASSIFICATION        \n",
    "Classification Models using Artificial Neural Networks (ANN) --\n",
    "(Artificial Neural Network Algorithm - CLASSIFICATION Models)\n",
    "\n",
    "### 1. ANN Binary Classification\n",
    "### 2. ANN multiclass Classification\n",
    "- articals \n",
    "-- https://www.analyticsvidhya.com/blog/2021/07/demystifying-the-difference-between-multi-class-and-multi-label-classification-problem-statements-in-deep-learning/\n",
    "-- https://machinelearningmastery.com/multi-label-classification-with-deep-learning/"
   ]
  },
  {
   "cell_type": "raw",
   "id": "2fe5c34e",
   "metadata": {},
   "source": []
  },
  {
   "cell_type": "markdown",
   "id": "079688ca",
   "metadata": {},
   "source": [
    "## 1 ANN Binary Classification  \n",
    " \n",
    " - here should be two binary class in categorical column that will used in y  (output, targrt, label & depentent variable )\n",
    " - two class in y features "
   ]
  },
  {
   "cell_type": "code",
   "execution_count": 10,
   "id": "f34286d6",
   "metadata": {},
   "outputs": [
    {
     "data": {
      "text/plain": [
       "(   Id  SepalLengthCm  SepalWidthCm  PetalLengthCm  PetalWidthCm      Species\n",
       " 0   1            5.1           3.5            1.4           0.2  Iris-setosa\n",
       " 1   2            4.9           3.0            1.4           0.2  Iris-setosa,\n",
       "       Id  SepalLengthCm  SepalWidthCm  PetalLengthCm  PetalWidthCm  \\\n",
       " 148  149            6.2           3.4            5.4           2.3   \n",
       " 149  150            5.9           3.0            5.1           1.8   \n",
       " \n",
       "             Species  \n",
       " 148  Iris-virginica  \n",
       " 149  Iris-virginica  ,\n",
       " 3,\n",
       " Iris-setosa        50\n",
       " Iris-versicolor    50\n",
       " Iris-virginica     50\n",
       " Name: Species, dtype: int64,\n",
       " (150, 6))"
      ]
     },
     "execution_count": 10,
     "metadata": {},
     "output_type": "execute_result"
    }
   ],
   "source": [
    "df.head(2),df.tail(2),df['Species'].nunique(), df['Species'].value_counts(),df.shape"
   ]
  },
  {
   "cell_type": "markdown",
   "id": "a8c2f7f9",
   "metadata": {},
   "source": [
    "#### Did two class in y ((output, targrt, label & depentent variable)\n",
    "- df=df[df['Species']!=2] # did two class in label \n",
    "- df=df[df['Species']!='Iris-virginica']"
   ]
  },
  {
   "cell_type": "code",
   "execution_count": 11,
   "id": "6f7f9e7d",
   "metadata": {},
   "outputs": [],
   "source": [
    "df=df[df['Species']!='Iris-virginica'] # did two class in label "
   ]
  },
  {
   "cell_type": "raw",
   "id": "0e01ac45",
   "metadata": {},
   "source": []
  },
  {
   "cell_type": "code",
   "execution_count": 12,
   "id": "8fce5371",
   "metadata": {},
   "outputs": [
    {
     "data": {
      "text/plain": [
       "(   Id  SepalLengthCm  SepalWidthCm  PetalLengthCm  PetalWidthCm      Species\n",
       " 0   1            5.1           3.5            1.4           0.2  Iris-setosa\n",
       " 1   2            4.9           3.0            1.4           0.2  Iris-setosa,\n",
       "      Id  SepalLengthCm  SepalWidthCm  PetalLengthCm  PetalWidthCm  \\\n",
       " 98   99            5.1           2.5            3.0           1.1   \n",
       " 99  100            5.7           2.8            4.1           1.3   \n",
       " \n",
       "             Species  \n",
       " 98  Iris-versicolor  \n",
       " 99  Iris-versicolor  ,\n",
       " 2,\n",
       " Iris-setosa        50\n",
       " Iris-versicolor    50\n",
       " Name: Species, dtype: int64,\n",
       " (100, 6))"
      ]
     },
     "execution_count": 12,
     "metadata": {},
     "output_type": "execute_result"
    }
   ],
   "source": [
    "df.head(2),df.tail(2),df['Species'].nunique(), df['Species'].value_counts(),df.shape"
   ]
  },
  {
   "cell_type": "raw",
   "id": "2972cd56",
   "metadata": {},
   "source": []
  },
  {
   "cell_type": "markdown",
   "id": "358bbe4d",
   "metadata": {},
   "source": [
    "### 4. LABEL Encodinging \n",
    "\n",
    "#### 4.1.  by replace Pandas function \n",
    "df['Species']=df['Species'].replace({'Iris-setosa':0, 'Iris-versicolor':1, 'Iris-virginica':2})\n",
    "\n",
    "#### 4.2.  Label Encoder\n",
    "- from sklearn.preprocessing import LabelEncoder\n",
    "- le = LabelEncoder()\n",
    "- df['Species'] = le.fit_transform(df['Species'])\n",
    "- df"
   ]
  },
  {
   "cell_type": "code",
   "execution_count": 13,
   "id": "06318a88",
   "metadata": {},
   "outputs": [
    {
     "data": {
      "text/plain": [
       "array(['Iris-setosa', 'Iris-versicolor'], dtype=object)"
      ]
     },
     "execution_count": 13,
     "metadata": {},
     "output_type": "execute_result"
    }
   ],
   "source": [
    "df['Species'].unique()"
   ]
  },
  {
   "cell_type": "code",
   "execution_count": 14,
   "id": "b1fead5c",
   "metadata": {},
   "outputs": [
    {
     "name": "stderr",
     "output_type": "stream",
     "text": [
      "C:\\Users\\omkan\\AppData\\Local\\Temp/ipykernel_4744/237209451.py:2: SettingWithCopyWarning: \n",
      "A value is trying to be set on a copy of a slice from a DataFrame.\n",
      "Try using .loc[row_indexer,col_indexer] = value instead\n",
      "\n",
      "See the caveats in the documentation: https://pandas.pydata.org/pandas-docs/stable/user_guide/indexing.html#returning-a-view-versus-a-copy\n",
      "  df['Species']=df['Species'].replace({'Iris-setosa':0, 'Iris-versicolor':1, 'Iris-virginica':2})\n"
     ]
    },
    {
     "data": {
      "text/html": [
       "<div>\n",
       "<style scoped>\n",
       "    .dataframe tbody tr th:only-of-type {\n",
       "        vertical-align: middle;\n",
       "    }\n",
       "\n",
       "    .dataframe tbody tr th {\n",
       "        vertical-align: top;\n",
       "    }\n",
       "\n",
       "    .dataframe thead th {\n",
       "        text-align: right;\n",
       "    }\n",
       "</style>\n",
       "<table border=\"1\" class=\"dataframe\">\n",
       "  <thead>\n",
       "    <tr style=\"text-align: right;\">\n",
       "      <th></th>\n",
       "      <th>Id</th>\n",
       "      <th>SepalLengthCm</th>\n",
       "      <th>SepalWidthCm</th>\n",
       "      <th>PetalLengthCm</th>\n",
       "      <th>PetalWidthCm</th>\n",
       "      <th>Species</th>\n",
       "    </tr>\n",
       "  </thead>\n",
       "  <tbody>\n",
       "    <tr>\n",
       "      <th>0</th>\n",
       "      <td>1</td>\n",
       "      <td>5.1</td>\n",
       "      <td>3.5</td>\n",
       "      <td>1.4</td>\n",
       "      <td>0.2</td>\n",
       "      <td>0</td>\n",
       "    </tr>\n",
       "    <tr>\n",
       "      <th>1</th>\n",
       "      <td>2</td>\n",
       "      <td>4.9</td>\n",
       "      <td>3.0</td>\n",
       "      <td>1.4</td>\n",
       "      <td>0.2</td>\n",
       "      <td>0</td>\n",
       "    </tr>\n",
       "    <tr>\n",
       "      <th>2</th>\n",
       "      <td>3</td>\n",
       "      <td>4.7</td>\n",
       "      <td>3.2</td>\n",
       "      <td>1.3</td>\n",
       "      <td>0.2</td>\n",
       "      <td>0</td>\n",
       "    </tr>\n",
       "    <tr>\n",
       "      <th>3</th>\n",
       "      <td>4</td>\n",
       "      <td>4.6</td>\n",
       "      <td>3.1</td>\n",
       "      <td>1.5</td>\n",
       "      <td>0.2</td>\n",
       "      <td>0</td>\n",
       "    </tr>\n",
       "    <tr>\n",
       "      <th>4</th>\n",
       "      <td>5</td>\n",
       "      <td>5.0</td>\n",
       "      <td>3.6</td>\n",
       "      <td>1.4</td>\n",
       "      <td>0.2</td>\n",
       "      <td>0</td>\n",
       "    </tr>\n",
       "    <tr>\n",
       "      <th>...</th>\n",
       "      <td>...</td>\n",
       "      <td>...</td>\n",
       "      <td>...</td>\n",
       "      <td>...</td>\n",
       "      <td>...</td>\n",
       "      <td>...</td>\n",
       "    </tr>\n",
       "    <tr>\n",
       "      <th>95</th>\n",
       "      <td>96</td>\n",
       "      <td>5.7</td>\n",
       "      <td>3.0</td>\n",
       "      <td>4.2</td>\n",
       "      <td>1.2</td>\n",
       "      <td>1</td>\n",
       "    </tr>\n",
       "    <tr>\n",
       "      <th>96</th>\n",
       "      <td>97</td>\n",
       "      <td>5.7</td>\n",
       "      <td>2.9</td>\n",
       "      <td>4.2</td>\n",
       "      <td>1.3</td>\n",
       "      <td>1</td>\n",
       "    </tr>\n",
       "    <tr>\n",
       "      <th>97</th>\n",
       "      <td>98</td>\n",
       "      <td>6.2</td>\n",
       "      <td>2.9</td>\n",
       "      <td>4.3</td>\n",
       "      <td>1.3</td>\n",
       "      <td>1</td>\n",
       "    </tr>\n",
       "    <tr>\n",
       "      <th>98</th>\n",
       "      <td>99</td>\n",
       "      <td>5.1</td>\n",
       "      <td>2.5</td>\n",
       "      <td>3.0</td>\n",
       "      <td>1.1</td>\n",
       "      <td>1</td>\n",
       "    </tr>\n",
       "    <tr>\n",
       "      <th>99</th>\n",
       "      <td>100</td>\n",
       "      <td>5.7</td>\n",
       "      <td>2.8</td>\n",
       "      <td>4.1</td>\n",
       "      <td>1.3</td>\n",
       "      <td>1</td>\n",
       "    </tr>\n",
       "  </tbody>\n",
       "</table>\n",
       "<p>100 rows × 6 columns</p>\n",
       "</div>"
      ],
      "text/plain": [
       "     Id  SepalLengthCm  SepalWidthCm  PetalLengthCm  PetalWidthCm  Species\n",
       "0     1            5.1           3.5            1.4           0.2        0\n",
       "1     2            4.9           3.0            1.4           0.2        0\n",
       "2     3            4.7           3.2            1.3           0.2        0\n",
       "3     4            4.6           3.1            1.5           0.2        0\n",
       "4     5            5.0           3.6            1.4           0.2        0\n",
       "..  ...            ...           ...            ...           ...      ...\n",
       "95   96            5.7           3.0            4.2           1.2        1\n",
       "96   97            5.7           2.9            4.2           1.3        1\n",
       "97   98            6.2           2.9            4.3           1.3        1\n",
       "98   99            5.1           2.5            3.0           1.1        1\n",
       "99  100            5.7           2.8            4.1           1.3        1\n",
       "\n",
       "[100 rows x 6 columns]"
      ]
     },
     "execution_count": 14,
     "metadata": {},
     "output_type": "execute_result"
    }
   ],
   "source": [
    "# 1. by replace Pandas function\n",
    "df['Species']=df['Species'].replace({'Iris-setosa':0, 'Iris-versicolor':1, 'Iris-virginica':2})\n",
    "df"
   ]
  },
  {
   "cell_type": "code",
   "execution_count": 15,
   "id": "860dc044",
   "metadata": {},
   "outputs": [
    {
     "name": "stderr",
     "output_type": "stream",
     "text": [
      "C:\\Users\\omkan\\AppData\\Local\\Temp/ipykernel_4744/3779767555.py:4: SettingWithCopyWarning: \n",
      "A value is trying to be set on a copy of a slice from a DataFrame.\n",
      "Try using .loc[row_indexer,col_indexer] = value instead\n",
      "\n",
      "See the caveats in the documentation: https://pandas.pydata.org/pandas-docs/stable/user_guide/indexing.html#returning-a-view-versus-a-copy\n",
      "  df['Species'] = le.fit_transform(df['Species'])\n"
     ]
    },
    {
     "data": {
      "text/html": [
       "<div>\n",
       "<style scoped>\n",
       "    .dataframe tbody tr th:only-of-type {\n",
       "        vertical-align: middle;\n",
       "    }\n",
       "\n",
       "    .dataframe tbody tr th {\n",
       "        vertical-align: top;\n",
       "    }\n",
       "\n",
       "    .dataframe thead th {\n",
       "        text-align: right;\n",
       "    }\n",
       "</style>\n",
       "<table border=\"1\" class=\"dataframe\">\n",
       "  <thead>\n",
       "    <tr style=\"text-align: right;\">\n",
       "      <th></th>\n",
       "      <th>Id</th>\n",
       "      <th>SepalLengthCm</th>\n",
       "      <th>SepalWidthCm</th>\n",
       "      <th>PetalLengthCm</th>\n",
       "      <th>PetalWidthCm</th>\n",
       "      <th>Species</th>\n",
       "    </tr>\n",
       "  </thead>\n",
       "  <tbody>\n",
       "    <tr>\n",
       "      <th>97</th>\n",
       "      <td>98</td>\n",
       "      <td>6.2</td>\n",
       "      <td>2.9</td>\n",
       "      <td>4.3</td>\n",
       "      <td>1.3</td>\n",
       "      <td>1</td>\n",
       "    </tr>\n",
       "    <tr>\n",
       "      <th>98</th>\n",
       "      <td>99</td>\n",
       "      <td>5.1</td>\n",
       "      <td>2.5</td>\n",
       "      <td>3.0</td>\n",
       "      <td>1.1</td>\n",
       "      <td>1</td>\n",
       "    </tr>\n",
       "    <tr>\n",
       "      <th>99</th>\n",
       "      <td>100</td>\n",
       "      <td>5.7</td>\n",
       "      <td>2.8</td>\n",
       "      <td>4.1</td>\n",
       "      <td>1.3</td>\n",
       "      <td>1</td>\n",
       "    </tr>\n",
       "  </tbody>\n",
       "</table>\n",
       "</div>"
      ],
      "text/plain": [
       "     Id  SepalLengthCm  SepalWidthCm  PetalLengthCm  PetalWidthCm  Species\n",
       "97   98            6.2           2.9            4.3           1.3        1\n",
       "98   99            5.1           2.5            3.0           1.1        1\n",
       "99  100            5.7           2.8            4.1           1.3        1"
      ]
     },
     "execution_count": 15,
     "metadata": {},
     "output_type": "execute_result"
    }
   ],
   "source": [
    "# 2.  Label Encoder\n",
    "from sklearn.preprocessing import LabelEncoder\n",
    "le = LabelEncoder()\n",
    "df['Species'] = le.fit_transform(df['Species'])\n",
    "df.tail(3)"
   ]
  },
  {
   "cell_type": "markdown",
   "id": "fcb876b1",
   "metadata": {},
   "source": [
    "### 5. Define Variables x & y\n",
    "#### x [  indipendent variable, feature, input  ] \n",
    "####           &\n",
    "#### y [  dependent variable, target, Label, output  ]"
   ]
  },
  {
   "cell_type": "code",
   "execution_count": 16,
   "id": "ce9bbc76",
   "metadata": {},
   "outputs": [
    {
     "data": {
      "text/html": [
       "<div>\n",
       "<style scoped>\n",
       "    .dataframe tbody tr th:only-of-type {\n",
       "        vertical-align: middle;\n",
       "    }\n",
       "\n",
       "    .dataframe tbody tr th {\n",
       "        vertical-align: top;\n",
       "    }\n",
       "\n",
       "    .dataframe thead th {\n",
       "        text-align: right;\n",
       "    }\n",
       "</style>\n",
       "<table border=\"1\" class=\"dataframe\">\n",
       "  <thead>\n",
       "    <tr style=\"text-align: right;\">\n",
       "      <th></th>\n",
       "      <th>SepalLengthCm</th>\n",
       "      <th>SepalWidthCm</th>\n",
       "      <th>PetalLengthCm</th>\n",
       "      <th>PetalWidthCm</th>\n",
       "    </tr>\n",
       "  </thead>\n",
       "  <tbody>\n",
       "    <tr>\n",
       "      <th>0</th>\n",
       "      <td>5.1</td>\n",
       "      <td>3.5</td>\n",
       "      <td>1.4</td>\n",
       "      <td>0.2</td>\n",
       "    </tr>\n",
       "    <tr>\n",
       "      <th>1</th>\n",
       "      <td>4.9</td>\n",
       "      <td>3.0</td>\n",
       "      <td>1.4</td>\n",
       "      <td>0.2</td>\n",
       "    </tr>\n",
       "    <tr>\n",
       "      <th>2</th>\n",
       "      <td>4.7</td>\n",
       "      <td>3.2</td>\n",
       "      <td>1.3</td>\n",
       "      <td>0.2</td>\n",
       "    </tr>\n",
       "    <tr>\n",
       "      <th>3</th>\n",
       "      <td>4.6</td>\n",
       "      <td>3.1</td>\n",
       "      <td>1.5</td>\n",
       "      <td>0.2</td>\n",
       "    </tr>\n",
       "    <tr>\n",
       "      <th>4</th>\n",
       "      <td>5.0</td>\n",
       "      <td>3.6</td>\n",
       "      <td>1.4</td>\n",
       "      <td>0.2</td>\n",
       "    </tr>\n",
       "  </tbody>\n",
       "</table>\n",
       "</div>"
      ],
      "text/plain": [
       "   SepalLengthCm  SepalWidthCm  PetalLengthCm  PetalWidthCm\n",
       "0            5.1           3.5            1.4           0.2\n",
       "1            4.9           3.0            1.4           0.2\n",
       "2            4.7           3.2            1.3           0.2\n",
       "3            4.6           3.1            1.5           0.2\n",
       "4            5.0           3.6            1.4           0.2"
      ]
     },
     "execution_count": 16,
     "metadata": {},
     "output_type": "execute_result"
    }
   ],
   "source": [
    "x=df.iloc[:,1:5]\n",
    "y=df.iloc[:,5:]\n",
    "x.head()"
   ]
  },
  {
   "cell_type": "code",
   "execution_count": 24,
   "id": "c369cd4a",
   "metadata": {},
   "outputs": [
    {
     "data": {
      "text/plain": [
       "(   Species\n",
       " 0        0\n",
       " 1        0\n",
       " 2        0\n",
       " 3        0\n",
       " 4        0,\n",
       " pandas.core.frame.DataFrame)"
      ]
     },
     "execution_count": 24,
     "metadata": {},
     "output_type": "execute_result"
    }
   ],
   "source": [
    "y.head(),type(y)"
   ]
  },
  {
   "cell_type": "code",
   "execution_count": 26,
   "id": "36fe5228",
   "metadata": {},
   "outputs": [
    {
     "data": {
      "text/plain": [
       "pandas.core.series.Series"
      ]
     },
     "execution_count": 26,
     "metadata": {},
     "output_type": "execute_result"
    }
   ],
   "source": [
    "w=df['Species']\n",
    "type(w)"
   ]
  },
  {
   "cell_type": "markdown",
   "id": "56aa7436",
   "metadata": {},
   "source": [
    "### 6.Feature Scaling -  \n",
    "\n",
    "## Feature Scaling in x dependent variable\n",
    "\n",
    "#### 6.1.  from sklearn.preprocessing import StandardScaler\n",
    "ss=StandardScaler()\n",
    "ssx=ss.fit_transform(x)\n",
    "print(ssx)\n",
    "print(pd.DataFrame(ssx).describe())\n",
    "\n",
    "#### 6.2. from sklearn.preprocessing import MinMaxScaler\n",
    "mms=MinMaxScaler()\n",
    "mmsx=mms.fit_transform(x)\n",
    "print(mmsx)\n",
    "print(pd.DataFrame(mmsx).describe())\n",
    " \n",
    "- https://www.geeksforgeeks.org/standardscaler-minmaxscaler-and-robustscaler-techniques-ml/\n",
    "\n",
    "- https://www.geeksforgeeks.org/data-pre-processing-wit-sklearn-using-standard-and-minmax-scaler/\n",
    "\n",
    "- https://stackoverflow.com/questions/40758562/can-anyone-explain-me-standardscaler \n",
    "\n",
    "- https://machinelearninggeek.com/feature-scaling-minmax-standard-and-robust-scaler/\n",
    "\n",
    "'''StandardScaler follows Standard Normal Distribution (SND). \n",
    "Therefore, it makes mean = 0 and scales the data to unit variance. \n",
    "MinMaxScaler scales all the data features in the range [0, 1] or else \n",
    "in the range [-1, 1] if there are negative values in the dataset.'''"
   ]
  },
  {
   "cell_type": "code",
   "execution_count": 17,
   "id": "43572044",
   "metadata": {},
   "outputs": [
    {
     "name": "stdout",
     "output_type": "stream",
     "text": [
      "[[-0.5810659   0.85713543 -1.01435952 -1.03824799]\n",
      " [-0.89430898 -0.19845007 -1.01435952 -1.03824799]\n",
      " [-1.20755205  0.22378413 -1.08374115 -1.03824799]\n",
      " [-1.36417359  0.01266703 -0.94497788 -1.03824799]\n",
      " [-0.73768744  1.06825253 -1.01435952 -1.03824799]]\n",
      "                  0             1             2             3\n",
      "count  1.000000e+02  1.000000e+02  1.000000e+02  1.000000e+02\n",
      "mean  -1.547096e-15  2.176037e-16 -3.019807e-16  4.818368e-16\n",
      "std    1.005038e+00  1.005038e+00  1.005038e+00  1.005038e+00\n",
      "min   -1.834038e+00 -2.309621e+00 -1.291886e+00 -1.215726e+00\n",
      "25%   -7.376874e-01 -6.206843e-01 -9.449779e-01 -1.038248e+00\n",
      "50%   -1.112013e-01 -9.289152e-02 -2.858523e-01  2.662174e-02\n",
      "75%    6.719064e-01  6.460183e-01  1.015053e+00  9.140132e-01\n",
      "max    2.394743e+00  2.757189e+00  1.552761e+00  1.801405e+00\n"
     ]
    }
   ],
   "source": [
    "from sklearn.preprocessing import StandardScaler\n",
    "ss=StandardScaler()\n",
    "ssx=ss.fit_transform(x)\n",
    "print(ssx[:5])\n",
    "print(pd.DataFrame(ssx).describe())"
   ]
  },
  {
   "cell_type": "code",
   "execution_count": 18,
   "id": "bf3f5570",
   "metadata": {},
   "outputs": [
    {
     "name": "stdout",
     "output_type": "stream",
     "text": [
      "[[0.2962963  0.625      0.09756098 0.05882353]\n",
      " [0.22222222 0.41666667 0.09756098 0.05882353]\n",
      " [0.14814815 0.5        0.07317073 0.05882353]\n",
      " [0.11111111 0.45833333 0.12195122 0.05882353]\n",
      " [0.25925926 0.66666667 0.09756098 0.05882353]]\n",
      "                0           1           2           3\n",
      "count  100.000000  100.000000  100.000000  100.000000\n",
      "mean     0.433704    0.455833    0.454146    0.402941\n",
      "std      0.237666    0.198357    0.353308    0.333110\n",
      "min      0.000000    0.000000    0.000000    0.000000\n",
      "25%      0.259259    0.333333    0.121951    0.058824\n",
      "50%      0.407407    0.437500    0.353659    0.411765\n",
      "75%      0.592593    0.583333    0.810976    0.705882\n",
      "max      1.000000    1.000000    1.000000    1.000000\n"
     ]
    }
   ],
   "source": [
    "from sklearn.preprocessing import MinMaxScaler\n",
    "mms=MinMaxScaler()\n",
    "mmsx=mms.fit_transform(x)\n",
    "print(mmsx[:5])\n",
    "print(pd.DataFrame(mmsx).describe())"
   ]
  },
  {
   "cell_type": "raw",
   "id": "f3377d87",
   "metadata": {},
   "source": []
  },
  {
   "cell_type": "markdown",
   "id": "64bf39a5",
   "metadata": {},
   "source": [
    "### 7. LabelBinarizer -   \n",
    "\n",
    "## convert  y  Label  into binary \n",
    "\n",
    "#### 7.1. from sklearn.preprocessing import LabelBinarizer\n",
    "- lb = LabelBinarizer()\n",
    "- lby=lb.fit_transform(y)\n",
    "- print(lby)\n",
    "- https://scikit-learn.org/stable/modules/generated/sklearn.preprocessing.LabelBinarizer.html\n",
    "-\n",
    "\n",
    "#### 7.2. from keras.utils import np_utils\n",
    "- npy=np_u\n",
    "- npy=utils.to_categorical(y)\n",
    "- print(npy)\n",
    "-https://stackoverflow.com/questions/60218142/error-when-doing-import-tensorflow-keras-utils-np-utils\n",
    "-\n",
    "\n",
    "#### 7.3. import pandas as pd\n",
    "- y=pd.Series(y)\n",
    "- pdy=pd.get_dummies(y).values\n",
    "- print(pdy.head())\n",
    "         or \n",
    "- ys=y.squeeze()\n",
    "- pdy=pd.get_dummies(ys).values\n",
    "- print(pdy[:5])\n",
    "\n",
    "- https://www.geeksforgeeks.org/python-pandas-get_dummies-method/\n",
    "-\n",
    "\n",
    "\n",
    "- \n",
    "- https://www.geeksforgeeks.org/how-to-convert-categorical-data-to-binary-data-in-python/"
   ]
  },
  {
   "cell_type": "code",
   "execution_count": 19,
   "id": "b4e3b879",
   "metadata": {},
   "outputs": [
    {
     "name": "stdout",
     "output_type": "stream",
     "text": [
      "[[0]\n",
      " [0]\n",
      " [0]\n",
      " [0]\n",
      " [0]]\n"
     ]
    }
   ],
   "source": [
    "# 1.\n",
    "from sklearn.preprocessing import LabelBinarizer\n",
    "lb = LabelBinarizer()\n",
    "lby=lb.fit_transform(y)\n",
    "print(lby[:5])"
   ]
  },
  {
   "cell_type": "code",
   "execution_count": 20,
   "id": "24610fb6",
   "metadata": {},
   "outputs": [
    {
     "name": "stdout",
     "output_type": "stream",
     "text": [
      "[[1. 0.]\n",
      " [1. 0.]\n",
      " [1. 0.]\n",
      " [1. 0.]\n",
      " [1. 0.]]\n"
     ]
    }
   ],
   "source": [
    "#2. \n",
    "from keras.utils import np_utils\n",
    "npy=np_utils.to_categorical(y)\n",
    "print(npy[:5])"
   ]
  },
  {
   "cell_type": "code",
   "execution_count": null,
   "id": "60ae1811",
   "metadata": {},
   "outputs": [],
   "source": []
  },
  {
   "cell_type": "markdown",
   "id": "3f7c6c09",
   "metadata": {},
   "source": [
    "#### convert dataframe to series\n",
    "- https://datatofish.com/pandas-dataframe-to-series/\n",
    "- You can convert Pandas DataFrame to a Series using squeeze:\n",
    "\n",
    "- df.squeeze()"
   ]
  },
  {
   "cell_type": "code",
   "execution_count": 21,
   "id": "5533e77d",
   "metadata": {},
   "outputs": [
    {
     "data": {
      "text/html": [
       "<div>\n",
       "<style scoped>\n",
       "    .dataframe tbody tr th:only-of-type {\n",
       "        vertical-align: middle;\n",
       "    }\n",
       "\n",
       "    .dataframe tbody tr th {\n",
       "        vertical-align: top;\n",
       "    }\n",
       "\n",
       "    .dataframe thead th {\n",
       "        text-align: right;\n",
       "    }\n",
       "</style>\n",
       "<table border=\"1\" class=\"dataframe\">\n",
       "  <thead>\n",
       "    <tr style=\"text-align: right;\">\n",
       "      <th></th>\n",
       "      <th>Species</th>\n",
       "    </tr>\n",
       "  </thead>\n",
       "  <tbody>\n",
       "    <tr>\n",
       "      <th>0</th>\n",
       "      <td>0</td>\n",
       "    </tr>\n",
       "    <tr>\n",
       "      <th>1</th>\n",
       "      <td>0</td>\n",
       "    </tr>\n",
       "  </tbody>\n",
       "</table>\n",
       "</div>"
      ],
      "text/plain": [
       "   Species\n",
       "0        0\n",
       "1        0"
      ]
     },
     "execution_count": 21,
     "metadata": {},
     "output_type": "execute_result"
    }
   ],
   "source": [
    "y[:2]"
   ]
  },
  {
   "cell_type": "code",
   "execution_count": 22,
   "id": "0b690c40",
   "metadata": {},
   "outputs": [
    {
     "name": "stdout",
     "output_type": "stream",
     "text": [
      "[[1 0]\n",
      " [1 0]\n",
      " [1 0]\n",
      " [1 0]\n",
      " [1 0]]\n"
     ]
    }
   ],
   "source": [
    "# 3.\n",
    "import pandas as pd\n",
    "ys=y.squeeze()\n",
    "pdy=pd.get_dummies(ys).values\n",
    "print(pdy[:5])"
   ]
  },
  {
   "cell_type": "code",
   "execution_count": 23,
   "id": "21401e77",
   "metadata": {},
   "outputs": [
    {
     "name": "stdout",
     "output_type": "stream",
     "text": [
      "   0  1\n",
      "0  1  0\n",
      "1  1  0\n"
     ]
    }
   ],
   "source": [
    "#3.1 \n",
    "import pandas as pd\n",
    "pdydf=pd.get_dummies(ys)\n",
    "print(pdydf.head(2))"
   ]
  },
  {
   "cell_type": "markdown",
   "id": "5d0b953f",
   "metadata": {},
   "source": [
    "## 8. train_test_split  (Split data set in train and test)"
   ]
  },
  {
   "cell_type": "code",
   "execution_count": 24,
   "id": "dfba193c",
   "metadata": {},
   "outputs": [],
   "source": [
    "from sklearn.model_selection import train_test_split"
   ]
  },
  {
   "cell_type": "code",
   "execution_count": 25,
   "id": "67596ede",
   "metadata": {},
   "outputs": [],
   "source": [
    "x_train,x_test,y_train,y_test=train_test_split(ssx,pdy,test_size=.25, random_state=15)"
   ]
  },
  {
   "cell_type": "code",
   "execution_count": 26,
   "id": "b430f108",
   "metadata": {},
   "outputs": [
    {
     "name": "stdout",
     "output_type": "stream",
     "text": [
      "(75, 4)\n",
      "(25, 4)\n",
      "(75, 2)\n",
      "(25, 2)\n"
     ]
    }
   ],
   "source": [
    "print(x_train.shape)\n",
    "print(x_test.shape)\n",
    "print(y_train.shape)\n",
    "print(y_test.shape)"
   ]
  },
  {
   "cell_type": "raw",
   "id": "52f241aa",
   "metadata": {},
   "source": []
  },
  {
   "cell_type": "markdown",
   "id": "360cf098",
   "metadata": {},
   "source": [
    "## 9. Import Liberaries & Build NEURAL NETWORK  Model"
   ]
  },
  {
   "cell_type": "markdown",
   "id": "6d6f9313",
   "metadata": {},
   "source": [
    "---------------------REQUIRED TO READ--------------------------------\n",
    "https://www.javatpoint.com/artificial-neural-network\n",
    "\n",
    "https://blog.knoldus.com/getting-familiar-with-activation-function-and-its-types/ \n",
    "\n",
    "---------------------EXTRA---------------------------\n",
    "- https://analyticsindiamag.com/6-types-of-artificial-neural-networks-currently-being-used-in-todays-technology/\n",
    "- https://dotnettutorials.net/lesson/architecture-of-artificial-neural-network/ \n",
    "- https://medium.com/mlearning-ai/several-types-of-artificial-neural-networks-architecture-that-you-should-know-c169a5e22ec7\n",
    "- https://www.tutorialspoint.com/tensorflow/tensorflow_keras.htm#:~:text=Keras%20is%20compact%2C%20easy%20to%20learn%2C%20high-level%20Python,can%20be%20of%20the%20following%20two%20types%20%E2%88%92"
   ]
  },
  {
   "cell_type": "markdown",
   "id": "6709f114",
   "metadata": {},
   "source": [
    "### 9.1. import liberaries"
   ]
  },
  {
   "cell_type": "code",
   "execution_count": 27,
   "id": "08078e79",
   "metadata": {},
   "outputs": [],
   "source": [
    "import tensorflow as tf\n",
    "from tensorflow import keras\n",
    "from keras.models import Sequential\n",
    "from keras.layers import Dense,Activation\n",
    "from keras.optimizers import Adam\n",
    "from keras.metrics import binary_crossentropy"
   ]
  },
  {
   "cell_type": "markdown",
   "id": "c4e64ff0",
   "metadata": {},
   "source": [
    "- https://www.tensorflow.org/api_docs/python/tf/keras\n",
    "- https://keras.io/\n",
    "- https://www.tutorialspoint.com/tensorflow/tensorflow_keras.htm\n",
    "- "
   ]
  },
  {
   "cell_type": "raw",
   "id": "422033ba",
   "metadata": {},
   "source": []
  },
  {
   "cell_type": "markdown",
   "id": "8cfade64",
   "metadata": {},
   "source": [
    "## Types of Artificial Neural Networks Architecture \n",
    "### 9.2.1 Single layer feedforward neural networks\n",
    "### 9.2.2 Multi layer feedforward neural networks\n",
    "### 9.2.3 Multi layer Preceptron\n",
    "### 9.2.4 Recurent Neural Networks / Feedback Neural Network\n"
   ]
  },
  {
   "cell_type": "markdown",
   "id": "d4665cd9",
   "metadata": {},
   "source": [
    "- https://developer.ibm.com/articles/cc-machine-learning-deep-learning-architectures/\n",
    "- https://www.v7labs.com/blog/neural-network-architectures-guide\n",
    "- https://www.upgrad.com/blog/types-of-neural-networks/\n",
    "- https://www.geeksforgeeks.org/ml-architecture-and-learning-process-in-neural-network/\n",
    "- https://en.wikipedia.org/wiki/Types_of_artificial_neural_networks\n",
    "- https://medium.com/mlearning-ai/several-types-of-artificial-neural-networks-architecture-that-you-should-know-c169a5e22ec7\n",
    "- https://www.upgrad.com/blog/classification-model-using-artificial-neural-networks/#:~:text=Home%20%3E%20Artificial%20Intelligence%20%3E%20Classification%20Model%20using,classified%20as%20one%20of%20the%20predefined%20labelled%20classes.\n",
    "\n",
    "- https://www.tensorflow.org/tutorials/structured_data/preprocessing_layers"
   ]
  },
  {
   "cell_type": "code",
   "execution_count": 28,
   "id": "167d8107",
   "metadata": {},
   "outputs": [],
   "source": [
    "\n",
    "model=Sequential([\n",
    "    # input layer\n",
    "    Dense(units=5,input_shape=(4,),activation='relu'),   \n",
    "    \n",
    "    # hidden layer\n",
    "  #  Dense(units=25,activation='sigmoid'),\n",
    "  #  Dense(units=35,activation='sigmoid'),\n",
    "  #  Dense(units=55,activation='sigmoid'),\n",
    "\n",
    "    # output layers\n",
    "    Dense(units=2,activation='sigmoid')  #  act.- sigmoid in binary classification \n",
    "    # & output(units/output_dim) precepton - 2 two \n",
    "    \n",
    "])"
   ]
  },
  {
   "cell_type": "markdown",
   "id": "ddbefbc1",
   "metadata": {},
   "source": [
    " ##### Output Layers - Remember Note\n",
    "- Dense(units=2,activation='sigmoid')    act.- sigmoid in binary classification \n",
    "     & output(units/output_dim) precepton - 2 two \n",
    "\n",
    "- Dense(units= 3 or more, activation='softax') act.- softmax in multiclass classification & output(units/output_dim) precepton - tree or more put similar as much classes in y\n"
   ]
  },
  {
   "cell_type": "markdown",
   "id": "30c65b9e",
   "metadata": {},
   "source": [
    "### 9.3. Model Compile\n",
    "- model.compile\n",
    "- (loss='categorical_crossentropy {multiclass classification}'} (loss='binary_crossentropy {binary classificatio}'} \n",
    "- optimizer='adam'\n",
    "- metrics='accuracy')\n",
    "-\n",
    "-\n",
    "\n",
    "> Multiclass\n",
    "--- model.compile(loss='categorical_crossentropy',optimizer='adam', metrics='accuracy')\n",
    "\n",
    "> Binaryclass\n",
    "--- model.compile(optimizer='Adam',loss='binary_crossentropy', metrics=['accuracy'])\n",
    "- https://www.analyticsvidhya.com/blog/2021/10/a-comprehensive-guide-on-deep-learning-optimizers/\n",
    "- https://www.geeksforgeeks.org/adam-optimizer-in-tensorflow/\n",
    "- https://machinelearningmastery.com/adam-optimization-algorithm-for-deep-learning/\n",
    "- http://optimization.cbe.cornell.edu/index.php?title=Adam\n",
    "- \n",
    "-- https://github.com/tensorflow/tensorflow/issues/34003"
   ]
  },
  {
   "cell_type": "code",
   "execution_count": 29,
   "id": "283ddd18",
   "metadata": {},
   "outputs": [],
   "source": [
    "model.compile(loss='binary_crossentropy',optimizer='adam',metrics='accuracy')"
   ]
  },
  {
   "cell_type": "markdown",
   "id": "c3f7019f",
   "metadata": {},
   "source": [
    "### 9.4. Model Summery"
   ]
  },
  {
   "cell_type": "code",
   "execution_count": 30,
   "id": "e7a0d3a2",
   "metadata": {},
   "outputs": [
    {
     "name": "stdout",
     "output_type": "stream",
     "text": [
      "Model: \"sequential\"\n",
      "_________________________________________________________________\n",
      " Layer (type)                Output Shape              Param #   \n",
      "=================================================================\n",
      " dense (Dense)               (None, 5)                 25        \n",
      "                                                                 \n",
      " dense_1 (Dense)             (None, 2)                 12        \n",
      "                                                                 \n",
      "=================================================================\n",
      "Total params: 37\n",
      "Trainable params: 37\n",
      "Non-trainable params: 0\n",
      "_________________________________________________________________\n"
     ]
    }
   ],
   "source": [
    "model.summary()"
   ]
  },
  {
   "cell_type": "markdown",
   "id": "0d4f946a",
   "metadata": {},
   "source": [
    "## 10. Train the Model\n",
    "- 10.1 d=model.fit(x_train,y_train,validation_data=(x_test,y_test),epochs=100)\n",
    "- 10.2 model.fit(x_train,y_train, batch_size=100,epochs=100)"
   ]
  },
  {
   "cell_type": "code",
   "execution_count": 31,
   "id": "3b102f1c",
   "metadata": {
    "scrolled": true
   },
   "outputs": [
    {
     "name": "stdout",
     "output_type": "stream",
     "text": [
      "Epoch 1/100\n",
      "3/3 [==============================] - 1s 111ms/step - loss: 0.8891 - accuracy: 0.4800 - val_loss: 0.8896 - val_accuracy: 0.3600\n",
      "Epoch 2/100\n",
      "3/3 [==============================] - 0s 15ms/step - loss: 0.8795 - accuracy: 0.4800 - val_loss: 0.8808 - val_accuracy: 0.4000\n",
      "Epoch 3/100\n",
      "3/3 [==============================] - 0s 16ms/step - loss: 0.8713 - accuracy: 0.4800 - val_loss: 0.8718 - val_accuracy: 0.4000\n",
      "Epoch 4/100\n",
      "3/3 [==============================] - 0s 18ms/step - loss: 0.8626 - accuracy: 0.4800 - val_loss: 0.8630 - val_accuracy: 0.4400\n",
      "Epoch 5/100\n",
      "3/3 [==============================] - 0s 15ms/step - loss: 0.8541 - accuracy: 0.4933 - val_loss: 0.8545 - val_accuracy: 0.4400\n",
      "Epoch 6/100\n",
      "3/3 [==============================] - 0s 19ms/step - loss: 0.8453 - accuracy: 0.4933 - val_loss: 0.8461 - val_accuracy: 0.4400\n",
      "Epoch 7/100\n",
      "3/3 [==============================] - 0s 15ms/step - loss: 0.8376 - accuracy: 0.4933 - val_loss: 0.8376 - val_accuracy: 0.4400\n",
      "Epoch 8/100\n",
      "3/3 [==============================] - 0s 19ms/step - loss: 0.8292 - accuracy: 0.5067 - val_loss: 0.8294 - val_accuracy: 0.4800\n",
      "Epoch 9/100\n",
      "3/3 [==============================] - 0s 15ms/step - loss: 0.8211 - accuracy: 0.5200 - val_loss: 0.8212 - val_accuracy: 0.4800\n",
      "Epoch 10/100\n",
      "3/3 [==============================] - 0s 19ms/step - loss: 0.8134 - accuracy: 0.5333 - val_loss: 0.8132 - val_accuracy: 0.4800\n",
      "Epoch 11/100\n",
      "3/3 [==============================] - 0s 19ms/step - loss: 0.8056 - accuracy: 0.5333 - val_loss: 0.8052 - val_accuracy: 0.4800\n",
      "Epoch 12/100\n",
      "3/3 [==============================] - 0s 16ms/step - loss: 0.7979 - accuracy: 0.5467 - val_loss: 0.7974 - val_accuracy: 0.4800\n",
      "Epoch 13/100\n",
      "3/3 [==============================] - 0s 17ms/step - loss: 0.7901 - accuracy: 0.5600 - val_loss: 0.7897 - val_accuracy: 0.4800\n",
      "Epoch 14/100\n",
      "3/3 [==============================] - 0s 17ms/step - loss: 0.7829 - accuracy: 0.5733 - val_loss: 0.7819 - val_accuracy: 0.4800\n",
      "Epoch 15/100\n",
      "3/3 [==============================] - 0s 18ms/step - loss: 0.7755 - accuracy: 0.6000 - val_loss: 0.7744 - val_accuracy: 0.4800\n",
      "Epoch 16/100\n",
      "3/3 [==============================] - 0s 17ms/step - loss: 0.7684 - accuracy: 0.6133 - val_loss: 0.7670 - val_accuracy: 0.4800\n",
      "Epoch 17/100\n",
      "3/3 [==============================] - 0s 16ms/step - loss: 0.7614 - accuracy: 0.6133 - val_loss: 0.7596 - val_accuracy: 0.4800\n",
      "Epoch 18/100\n",
      "3/3 [==============================] - 0s 18ms/step - loss: 0.7546 - accuracy: 0.6400 - val_loss: 0.7524 - val_accuracy: 0.5200\n",
      "Epoch 19/100\n",
      "3/3 [==============================] - 0s 18ms/step - loss: 0.7476 - accuracy: 0.6667 - val_loss: 0.7453 - val_accuracy: 0.5200\n",
      "Epoch 20/100\n",
      "3/3 [==============================] - 0s 15ms/step - loss: 0.7412 - accuracy: 0.6667 - val_loss: 0.7384 - val_accuracy: 0.5200\n",
      "Epoch 21/100\n",
      "3/3 [==============================] - 0s 16ms/step - loss: 0.7345 - accuracy: 0.6800 - val_loss: 0.7318 - val_accuracy: 0.5200\n",
      "Epoch 22/100\n",
      "3/3 [==============================] - 0s 19ms/step - loss: 0.7285 - accuracy: 0.6800 - val_loss: 0.7254 - val_accuracy: 0.5600\n",
      "Epoch 23/100\n",
      "3/3 [==============================] - 0s 19ms/step - loss: 0.7221 - accuracy: 0.6800 - val_loss: 0.7192 - val_accuracy: 0.5600\n",
      "Epoch 24/100\n",
      "3/3 [==============================] - 0s 16ms/step - loss: 0.7163 - accuracy: 0.6800 - val_loss: 0.7130 - val_accuracy: 0.6000\n",
      "Epoch 25/100\n",
      "3/3 [==============================] - 0s 20ms/step - loss: 0.7099 - accuracy: 0.7067 - val_loss: 0.7071 - val_accuracy: 0.6400\n",
      "Epoch 26/100\n",
      "3/3 [==============================] - 0s 18ms/step - loss: 0.7042 - accuracy: 0.7067 - val_loss: 0.7010 - val_accuracy: 0.6400\n",
      "Epoch 27/100\n",
      "3/3 [==============================] - 0s 15ms/step - loss: 0.6984 - accuracy: 0.7333 - val_loss: 0.6951 - val_accuracy: 0.7200\n",
      "Epoch 28/100\n",
      "3/3 [==============================] - 0s 17ms/step - loss: 0.6924 - accuracy: 0.7333 - val_loss: 0.6892 - val_accuracy: 0.7200\n",
      "Epoch 29/100\n",
      "3/3 [==============================] - 0s 14ms/step - loss: 0.6864 - accuracy: 0.7333 - val_loss: 0.6831 - val_accuracy: 0.7600\n",
      "Epoch 30/100\n",
      "3/3 [==============================] - 0s 18ms/step - loss: 0.6807 - accuracy: 0.7600 - val_loss: 0.6771 - val_accuracy: 0.8000\n",
      "Epoch 31/100\n",
      "3/3 [==============================] - 0s 15ms/step - loss: 0.6746 - accuracy: 0.7867 - val_loss: 0.6711 - val_accuracy: 0.8000\n",
      "Epoch 32/100\n",
      "3/3 [==============================] - 0s 16ms/step - loss: 0.6692 - accuracy: 0.8133 - val_loss: 0.6652 - val_accuracy: 0.8000\n",
      "Epoch 33/100\n",
      "3/3 [==============================] - 0s 14ms/step - loss: 0.6633 - accuracy: 0.8133 - val_loss: 0.6596 - val_accuracy: 0.8400\n",
      "Epoch 34/100\n",
      "3/3 [==============================] - 0s 16ms/step - loss: 0.6581 - accuracy: 0.8267 - val_loss: 0.6540 - val_accuracy: 0.8400\n",
      "Epoch 35/100\n",
      "3/3 [==============================] - 0s 16ms/step - loss: 0.6526 - accuracy: 0.8267 - val_loss: 0.6486 - val_accuracy: 0.8400\n",
      "Epoch 36/100\n",
      "3/3 [==============================] - 0s 17ms/step - loss: 0.6475 - accuracy: 0.8267 - val_loss: 0.6432 - val_accuracy: 0.8800\n",
      "Epoch 37/100\n",
      "3/3 [==============================] - 0s 18ms/step - loss: 0.6423 - accuracy: 0.8267 - val_loss: 0.6380 - val_accuracy: 0.8800\n",
      "Epoch 38/100\n",
      "3/3 [==============================] - 0s 17ms/step - loss: 0.6371 - accuracy: 0.8267 - val_loss: 0.6328 - val_accuracy: 0.8800\n",
      "Epoch 39/100\n",
      "3/3 [==============================] - 0s 15ms/step - loss: 0.6320 - accuracy: 0.8400 - val_loss: 0.6277 - val_accuracy: 0.8800\n",
      "Epoch 40/100\n",
      "3/3 [==============================] - 0s 16ms/step - loss: 0.6270 - accuracy: 0.8667 - val_loss: 0.6225 - val_accuracy: 0.8800\n",
      "Epoch 41/100\n",
      "3/3 [==============================] - 0s 18ms/step - loss: 0.6217 - accuracy: 0.8667 - val_loss: 0.6172 - val_accuracy: 0.8800\n",
      "Epoch 42/100\n",
      "3/3 [==============================] - 0s 16ms/step - loss: 0.6167 - accuracy: 0.8667 - val_loss: 0.6119 - val_accuracy: 0.8800\n",
      "Epoch 43/100\n",
      "3/3 [==============================] - 0s 16ms/step - loss: 0.6117 - accuracy: 0.8667 - val_loss: 0.6067 - val_accuracy: 0.8800\n",
      "Epoch 44/100\n",
      "3/3 [==============================] - 0s 16ms/step - loss: 0.6066 - accuracy: 0.8667 - val_loss: 0.6015 - val_accuracy: 0.8800\n",
      "Epoch 45/100\n",
      "3/3 [==============================] - 0s 13ms/step - loss: 0.6016 - accuracy: 0.8933 - val_loss: 0.5964 - val_accuracy: 0.9600\n",
      "Epoch 46/100\n",
      "3/3 [==============================] - 0s 15ms/step - loss: 0.5965 - accuracy: 0.9333 - val_loss: 0.5913 - val_accuracy: 0.9600\n",
      "Epoch 47/100\n",
      "3/3 [==============================] - 0s 18ms/step - loss: 0.5915 - accuracy: 0.9333 - val_loss: 0.5861 - val_accuracy: 0.9600\n",
      "Epoch 48/100\n",
      "3/3 [==============================] - 0s 16ms/step - loss: 0.5867 - accuracy: 0.9467 - val_loss: 0.5809 - val_accuracy: 0.9600\n",
      "Epoch 49/100\n",
      "3/3 [==============================] - 0s 17ms/step - loss: 0.5817 - accuracy: 0.9467 - val_loss: 0.5758 - val_accuracy: 0.9600\n",
      "Epoch 50/100\n",
      "3/3 [==============================] - 0s 16ms/step - loss: 0.5768 - accuracy: 0.9467 - val_loss: 0.5706 - val_accuracy: 0.9600\n",
      "Epoch 51/100\n",
      "3/3 [==============================] - 0s 15ms/step - loss: 0.5718 - accuracy: 0.9467 - val_loss: 0.5655 - val_accuracy: 0.9600\n",
      "Epoch 52/100\n",
      "3/3 [==============================] - 0s 21ms/step - loss: 0.5669 - accuracy: 0.9467 - val_loss: 0.5604 - val_accuracy: 0.9600\n",
      "Epoch 53/100\n",
      "3/3 [==============================] - 0s 15ms/step - loss: 0.5622 - accuracy: 0.9467 - val_loss: 0.5553 - val_accuracy: 0.9600\n",
      "Epoch 54/100\n",
      "3/3 [==============================] - 0s 13ms/step - loss: 0.5574 - accuracy: 0.9467 - val_loss: 0.5503 - val_accuracy: 0.9600\n",
      "Epoch 55/100\n",
      "3/3 [==============================] - 0s 16ms/step - loss: 0.5526 - accuracy: 0.9467 - val_loss: 0.5455 - val_accuracy: 0.9600\n",
      "Epoch 56/100\n",
      "3/3 [==============================] - 0s 15ms/step - loss: 0.5479 - accuracy: 0.9467 - val_loss: 0.5407 - val_accuracy: 0.9600\n",
      "Epoch 57/100\n",
      "3/3 [==============================] - 0s 15ms/step - loss: 0.5432 - accuracy: 0.9467 - val_loss: 0.5358 - val_accuracy: 1.0000\n",
      "Epoch 58/100\n",
      "3/3 [==============================] - 0s 16ms/step - loss: 0.5387 - accuracy: 0.9467 - val_loss: 0.5310 - val_accuracy: 1.0000\n",
      "Epoch 59/100\n",
      "3/3 [==============================] - 0s 16ms/step - loss: 0.5341 - accuracy: 0.9467 - val_loss: 0.5263 - val_accuracy: 1.0000\n",
      "Epoch 60/100\n",
      "3/3 [==============================] - 0s 17ms/step - loss: 0.5296 - accuracy: 0.9467 - val_loss: 0.5216 - val_accuracy: 1.0000\n",
      "Epoch 61/100\n",
      "3/3 [==============================] - 0s 16ms/step - loss: 0.5251 - accuracy: 0.9467 - val_loss: 0.5170 - val_accuracy: 1.0000\n",
      "Epoch 62/100\n",
      "3/3 [==============================] - 0s 14ms/step - loss: 0.5207 - accuracy: 0.9467 - val_loss: 0.5124 - val_accuracy: 1.0000\n",
      "Epoch 63/100\n",
      "3/3 [==============================] - 0s 18ms/step - loss: 0.5162 - accuracy: 0.9467 - val_loss: 0.5078 - val_accuracy: 1.0000\n",
      "Epoch 64/100\n",
      "3/3 [==============================] - 0s 17ms/step - loss: 0.5117 - accuracy: 0.9467 - val_loss: 0.5032 - val_accuracy: 1.0000\n",
      "Epoch 65/100\n",
      "3/3 [==============================] - 0s 16ms/step - loss: 0.5073 - accuracy: 0.9467 - val_loss: 0.4987 - val_accuracy: 1.0000\n",
      "Epoch 66/100\n",
      "3/3 [==============================] - 0s 16ms/step - loss: 0.5029 - accuracy: 0.9600 - val_loss: 0.4941 - val_accuracy: 1.0000\n",
      "Epoch 67/100\n",
      "3/3 [==============================] - 0s 16ms/step - loss: 0.4984 - accuracy: 0.9733 - val_loss: 0.4895 - val_accuracy: 1.0000\n",
      "Epoch 68/100\n",
      "3/3 [==============================] - 0s 17ms/step - loss: 0.4940 - accuracy: 0.9733 - val_loss: 0.4850 - val_accuracy: 1.0000\n",
      "Epoch 69/100\n",
      "3/3 [==============================] - 0s 15ms/step - loss: 0.4896 - accuracy: 0.9733 - val_loss: 0.4804 - val_accuracy: 1.0000\n",
      "Epoch 70/100\n",
      "3/3 [==============================] - 0s 15ms/step - loss: 0.4852 - accuracy: 0.9733 - val_loss: 0.4759 - val_accuracy: 1.0000\n",
      "Epoch 71/100\n",
      "3/3 [==============================] - 0s 15ms/step - loss: 0.4809 - accuracy: 0.9733 - val_loss: 0.4714 - val_accuracy: 1.0000\n",
      "Epoch 72/100\n",
      "3/3 [==============================] - 0s 15ms/step - loss: 0.4767 - accuracy: 0.9733 - val_loss: 0.4669 - val_accuracy: 1.0000\n",
      "Epoch 73/100\n",
      "3/3 [==============================] - 0s 17ms/step - loss: 0.4723 - accuracy: 0.9733 - val_loss: 0.4626 - val_accuracy: 1.0000\n",
      "Epoch 74/100\n",
      "3/3 [==============================] - 0s 16ms/step - loss: 0.4681 - accuracy: 0.9733 - val_loss: 0.4583 - val_accuracy: 1.0000\n",
      "Epoch 75/100\n",
      "3/3 [==============================] - 0s 15ms/step - loss: 0.4639 - accuracy: 0.9733 - val_loss: 0.4541 - val_accuracy: 1.0000\n",
      "Epoch 76/100\n",
      "3/3 [==============================] - 0s 16ms/step - loss: 0.4598 - accuracy: 0.9733 - val_loss: 0.4498 - val_accuracy: 1.0000\n",
      "Epoch 77/100\n",
      "3/3 [==============================] - 0s 16ms/step - loss: 0.4557 - accuracy: 0.9733 - val_loss: 0.4456 - val_accuracy: 1.0000\n",
      "Epoch 78/100\n",
      "3/3 [==============================] - 0s 15ms/step - loss: 0.4516 - accuracy: 0.9733 - val_loss: 0.4413 - val_accuracy: 1.0000\n",
      "Epoch 79/100\n",
      "3/3 [==============================] - 0s 21ms/step - loss: 0.4477 - accuracy: 0.9733 - val_loss: 0.4371 - val_accuracy: 1.0000\n",
      "Epoch 80/100\n",
      "3/3 [==============================] - 0s 16ms/step - loss: 0.4437 - accuracy: 0.9733 - val_loss: 0.4330 - val_accuracy: 1.0000\n",
      "Epoch 81/100\n",
      "3/3 [==============================] - 0s 16ms/step - loss: 0.4397 - accuracy: 0.9733 - val_loss: 0.4289 - val_accuracy: 1.0000\n",
      "Epoch 82/100\n",
      "3/3 [==============================] - 0s 15ms/step - loss: 0.4357 - accuracy: 0.9733 - val_loss: 0.4249 - val_accuracy: 1.0000\n",
      "Epoch 83/100\n",
      "3/3 [==============================] - 0s 16ms/step - loss: 0.4319 - accuracy: 0.9867 - val_loss: 0.4209 - val_accuracy: 1.0000\n",
      "Epoch 84/100\n",
      "3/3 [==============================] - 0s 15ms/step - loss: 0.4280 - accuracy: 0.9867 - val_loss: 0.4169 - val_accuracy: 1.0000\n",
      "Epoch 85/100\n",
      "3/3 [==============================] - 0s 15ms/step - loss: 0.4241 - accuracy: 0.9867 - val_loss: 0.4129 - val_accuracy: 1.0000\n",
      "Epoch 86/100\n",
      "3/3 [==============================] - 0s 15ms/step - loss: 0.4203 - accuracy: 0.9867 - val_loss: 0.4090 - val_accuracy: 1.0000\n",
      "Epoch 87/100\n",
      "3/3 [==============================] - 0s 17ms/step - loss: 0.4164 - accuracy: 0.9867 - val_loss: 0.4051 - val_accuracy: 1.0000\n",
      "Epoch 88/100\n",
      "3/3 [==============================] - 0s 16ms/step - loss: 0.4126 - accuracy: 0.9867 - val_loss: 0.4013 - val_accuracy: 1.0000\n",
      "Epoch 89/100\n",
      "3/3 [==============================] - 0s 16ms/step - loss: 0.4087 - accuracy: 0.9867 - val_loss: 0.3975 - val_accuracy: 1.0000\n",
      "Epoch 90/100\n",
      "3/3 [==============================] - 0s 16ms/step - loss: 0.4049 - accuracy: 0.9867 - val_loss: 0.3937 - val_accuracy: 1.0000\n",
      "Epoch 91/100\n",
      "3/3 [==============================] - 0s 16ms/step - loss: 0.4010 - accuracy: 0.9867 - val_loss: 0.3899 - val_accuracy: 1.0000\n",
      "Epoch 92/100\n",
      "3/3 [==============================] - 0s 15ms/step - loss: 0.3972 - accuracy: 0.9867 - val_loss: 0.3861 - val_accuracy: 1.0000\n",
      "Epoch 93/100\n",
      "3/3 [==============================] - 0s 16ms/step - loss: 0.3934 - accuracy: 0.9867 - val_loss: 0.3823 - val_accuracy: 1.0000\n",
      "Epoch 94/100\n",
      "3/3 [==============================] - 0s 16ms/step - loss: 0.3895 - accuracy: 0.9867 - val_loss: 0.3785 - val_accuracy: 1.0000\n",
      "Epoch 95/100\n",
      "3/3 [==============================] - 0s 17ms/step - loss: 0.3857 - accuracy: 0.9867 - val_loss: 0.3748 - val_accuracy: 1.0000\n",
      "Epoch 96/100\n",
      "3/3 [==============================] - 0s 15ms/step - loss: 0.3820 - accuracy: 0.9867 - val_loss: 0.3710 - val_accuracy: 1.0000\n",
      "Epoch 97/100\n",
      "3/3 [==============================] - 0s 21ms/step - loss: 0.3781 - accuracy: 1.0000 - val_loss: 0.3673 - val_accuracy: 1.0000\n",
      "Epoch 98/100\n",
      "3/3 [==============================] - 0s 17ms/step - loss: 0.3744 - accuracy: 1.0000 - val_loss: 0.3636 - val_accuracy: 1.0000\n",
      "Epoch 99/100\n",
      "3/3 [==============================] - 0s 16ms/step - loss: 0.3707 - accuracy: 1.0000 - val_loss: 0.3600 - val_accuracy: 1.0000\n",
      "Epoch 100/100\n",
      "3/3 [==============================] - 0s 18ms/step - loss: 0.3670 - accuracy: 1.0000 - val_loss: 0.3564 - val_accuracy: 1.0000\n"
     ]
    }
   ],
   "source": [
    "d=model.fit(x_train,y_train,validation_data=(x_test,y_test),epochs=100)"
   ]
  },
  {
   "cell_type": "markdown",
   "id": "88661fed",
   "metadata": {},
   "source": [
    "## 11. Model Prediction\n",
    "- y_pred1=model.predict(x_test)\n",
    "- y_pred1"
   ]
  },
  {
   "cell_type": "code",
   "execution_count": 32,
   "id": "df5013bf",
   "metadata": {},
   "outputs": [
    {
     "name": "stdout",
     "output_type": "stream",
     "text": [
      "1/1 [==============================] - 0s 71ms/step\n"
     ]
    },
    {
     "data": {
      "text/plain": [
       "array([[0.35632122, 0.79355645],\n",
       "       [0.45324525, 0.21426894],\n",
       "       [0.25447538, 0.84117913],\n",
       "       [0.42536646, 0.786521  ],\n",
       "       [0.413159  , 0.11853209],\n",
       "       [0.31681812, 0.8682604 ],\n",
       "       [0.2372292 , 0.86821324],\n",
       "       [0.420932  , 0.13377081],\n",
       "       [0.4658677 , 0.13000166],\n",
       "       [0.28528187, 0.84965974],\n",
       "       [0.37201688, 0.80710095],\n",
       "       [0.51269567, 0.12046862],\n",
       "       [0.42344606, 0.1390244 ],\n",
       "       [0.22992049, 0.9079846 ],\n",
       "       [0.5103609 , 0.14275613],\n",
       "       [0.5287743 , 0.21951197],\n",
       "       [0.2993209 , 0.88676655],\n",
       "       [0.5151383 , 0.16925743],\n",
       "       [0.26059264, 0.8918561 ],\n",
       "       [0.31687665, 0.8731712 ],\n",
       "       [0.29762527, 0.8641351 ],\n",
       "       [0.50577   , 0.1379226 ],\n",
       "       [0.47631812, 0.22830497],\n",
       "       [0.27522358, 0.88604224],\n",
       "       [0.45224497, 0.11221167]], dtype=float32)"
      ]
     },
     "execution_count": 32,
     "metadata": {},
     "output_type": "execute_result"
    }
   ],
   "source": [
    "y_pred1=model.predict(x_test)\n",
    "y_pred1"
   ]
  },
  {
   "cell_type": "markdown",
   "id": "d42da2cb",
   "metadata": {},
   "source": [
    " Model prediction coparision with y_test & Predict"
   ]
  },
  {
   "cell_type": "code",
   "execution_count": 33,
   "id": "1ca1afbb",
   "metadata": {},
   "outputs": [
    {
     "data": {
      "text/plain": [
       "(array([1, 0, 1, 1, 0, 1, 1, 0, 0, 1, 1, 0, 0, 1, 0, 0, 1, 0, 1, 1, 1, 0,\n",
       "        0, 1, 0], dtype=int64),\n",
       " array([1, 0, 1, 1, 0, 1, 1, 0, 0, 1, 1, 0, 0, 1, 0, 0, 1, 0, 1, 1, 1, 0,\n",
       "        0, 1, 0], dtype=int64))"
      ]
     },
     "execution_count": 33,
     "metadata": {},
     "output_type": "execute_result"
    }
   ],
   "source": [
    "y_test_class=np.argmax(y_test,axis=1)\n",
    "y_pred1_class=np.argmax(y_pred1,axis=1)\n",
    "y_pred1_class,y_test_class"
   ]
  },
  {
   "cell_type": "markdown",
   "id": "5d80c609",
   "metadata": {},
   "source": [
    "## 12 Model Evaluation \n",
    "- from sklearn.metrics import classification_report,confusion_matrix,accuracy_score"
   ]
  },
  {
   "cell_type": "code",
   "execution_count": 34,
   "id": "37bfc42c",
   "metadata": {},
   "outputs": [],
   "source": [
    "from sklearn.metrics import classification_report,confusion_matrix,accuracy_score"
   ]
  },
  {
   "cell_type": "code",
   "execution_count": 35,
   "id": "0062cde6",
   "metadata": {
    "scrolled": true
   },
   "outputs": [
    {
     "name": "stdout",
     "output_type": "stream",
     "text": [
      "[[12  0]\n",
      " [ 0 13]]\n",
      "              precision    recall  f1-score   support\n",
      "\n",
      "           0       1.00      1.00      1.00        12\n",
      "           1       1.00      1.00      1.00        13\n",
      "\n",
      "    accuracy                           1.00        25\n",
      "   macro avg       1.00      1.00      1.00        25\n",
      "weighted avg       1.00      1.00      1.00        25\n",
      "\n",
      "1.0\n"
     ]
    }
   ],
   "source": [
    "print(confusion_matrix(y_test_class,y_pred1_class))\n",
    "print(classification_report(y_test_class,y_pred1_class))\n",
    "print(accuracy_score(y_test_class,y_pred1_class))"
   ]
  },
  {
   "cell_type": "code",
   "execution_count": null,
   "id": "ac5364f7",
   "metadata": {},
   "outputs": [],
   "source": [
    "# pre=tp/tp+fp\n",
    "# reecall=tp/tp/fn\n",
    "# f1-score= 2*(pre*recall)/(pre+recall)\n",
    "# acc = tp+tn/25(tp+tn+fp+fn)\n",
    "# mic Av= pre0+pre1/2\n",
    "# weight av= (pre0*sup0)+(pre1*sup1)/total amt. "
   ]
  },
  {
   "cell_type": "code",
   "execution_count": 8,
   "id": "5acebbe2",
   "metadata": {},
   "outputs": [
    {
     "data": {
      "text/plain": [
       "(1.0, 1.0, 3.0)"
      ]
     },
     "execution_count": 8,
     "metadata": {},
     "output_type": "execute_result"
    }
   ],
   "source": [
    "12/(12+0),12/(12+0),2*(1*1)/1+1"
   ]
  },
  {
   "cell_type": "markdown",
   "id": "b6f9c160",
   "metadata": {},
   "source": [
    "https://datascience.stackexchange.com/questions/65839/macro-average-and-weighted-average-meaning-in-classification-report\n",
    "\n",
    "https://medium.com/@kennymiyasato/classification-report-precision-recall-f1-score-accuracy-16a245a437a5\n",
    "\n",
    "-http://sefidian.com/2022/06/19/understanding-micro-macro-and-weighted-averages-for-scikit-learn-metrics-in-multi-class-classification-with-example/#:~:text=With%20weighted%20averaging%2C%20the%20output%20average%20would%20have,F1%20score%20in%20our%20classification%20report.%20Micro%20Average"
   ]
  },
  {
   "cell_type": "raw",
   "id": "453136f0",
   "metadata": {},
   "source": [
    "(TN) True Negatives = 35\n",
    "(FP) False Positives = 15\n",
    "(FN) False Negatives = 25\n",
    "(TP) True Positives = 25"
   ]
  },
  {
   "cell_type": "code",
   "execution_count": 16,
   "id": "c7cedd98",
   "metadata": {},
   "outputs": [
    {
     "data": {
      "text/plain": [
       "(0.625, 0.5, 0.5535714285714285, 0.6)"
      ]
     },
     "execution_count": 16,
     "metadata": {},
     "output_type": "execute_result"
    }
   ],
   "source": [
    "25/(25+15),25/(25+25),2*(.62*.5)/(.62+.5),(25+35)/(100)"
   ]
  },
  {
   "cell_type": "code",
   "execution_count": 23,
   "id": "fc29ee45",
   "metadata": {},
   "outputs": [
    {
     "data": {
      "text/plain": [
       "(0.6, 28.999999999999996, 15.5)"
      ]
     },
     "execution_count": 23,
     "metadata": {},
     "output_type": "execute_result"
    }
   ],
   "source": [
    "(.58+.62)/2,(.58*50),+(.62*50)/2"
   ]
  },
  {
   "cell_type": "code",
   "execution_count": null,
   "id": "29f30ed5",
   "metadata": {},
   "outputs": [],
   "source": []
  },
  {
   "cell_type": "code",
   "execution_count": null,
   "id": "11728a28",
   "metadata": {},
   "outputs": [],
   "source": []
  },
  {
   "cell_type": "markdown",
   "id": "7e6b324a",
   "metadata": {},
   "source": [
    "# a. Artificial Neural Network - CLASSIFICATION        \n",
    "Classification Models using Artificial Neural Networks (ANN) --\n",
    "(Artificial Neural Network Algorithm - CLASSIFICATION Models)\n",
    "\n",
    "### 1. ANN Binary Classification\n",
    "### 2. ANN multiclass Classification\n",
    "- articals \n",
    "-- https://www.analyticsvidhya.com/blog/2021/07/demystifying-the-difference-between-multi-class-and-multi-label-classification-problem-statements-in-deep-learning/\n",
    "-- https://machinelearningmastery.com/multi-label-classification-with-deep-learning/"
   ]
  },
  {
   "cell_type": "markdown",
   "id": "2a2b1860",
   "metadata": {},
   "source": [
    "# 2. ANN Multiclass Classification"
   ]
  },
  {
   "cell_type": "markdown",
   "id": "f788ed54",
   "metadata": {},
   "source": [
    "- here should be three OR more class in categorical column that will used in y  (output, targrt, label & depentent variable )\n",
    " - three OR more class in y features "
   ]
  },
  {
   "cell_type": "code",
   "execution_count": 36,
   "id": "899fa5e3",
   "metadata": {},
   "outputs": [
    {
     "data": {
      "text/plain": [
       "((150, 6),\n",
       "    Id  SepalLengthCm  SepalWidthCm  PetalLengthCm  PetalWidthCm      Species\n",
       " 0   1            5.1           3.5            1.4           0.2  Iris-setosa\n",
       " 1   2            4.9           3.0            1.4           0.2  Iris-setosa\n",
       " 2   3            4.7           3.2            1.3           0.2  Iris-setosa\n",
       " 3   4            4.6           3.1            1.5           0.2  Iris-setosa\n",
       " 4   5            5.0           3.6            1.4           0.2  Iris-setosa)"
      ]
     },
     "execution_count": 36,
     "metadata": {},
     "output_type": "execute_result"
    }
   ],
   "source": [
    "df=iris\n",
    "df.shape,df.head()"
   ]
  },
  {
   "cell_type": "code",
   "execution_count": 37,
   "id": "080212a6",
   "metadata": {},
   "outputs": [
    {
     "name": "stdout",
     "output_type": "stream",
     "text": [
      "['Iris-setosa' 'Iris-versicolor' 'Iris-virginica']\n"
     ]
    }
   ],
   "source": [
    "print(df['Species'].unique())"
   ]
  },
  {
   "cell_type": "code",
   "execution_count": 38,
   "id": "2cd54a34",
   "metadata": {},
   "outputs": [
    {
     "data": {
      "text/html": [
       "<div>\n",
       "<style scoped>\n",
       "    .dataframe tbody tr th:only-of-type {\n",
       "        vertical-align: middle;\n",
       "    }\n",
       "\n",
       "    .dataframe tbody tr th {\n",
       "        vertical-align: top;\n",
       "    }\n",
       "\n",
       "    .dataframe thead th {\n",
       "        text-align: right;\n",
       "    }\n",
       "</style>\n",
       "<table border=\"1\" class=\"dataframe\">\n",
       "  <thead>\n",
       "    <tr style=\"text-align: right;\">\n",
       "      <th></th>\n",
       "      <th>Id</th>\n",
       "      <th>SepalLengthCm</th>\n",
       "      <th>SepalWidthCm</th>\n",
       "      <th>PetalLengthCm</th>\n",
       "      <th>PetalWidthCm</th>\n",
       "      <th>Species</th>\n",
       "    </tr>\n",
       "  </thead>\n",
       "  <tbody>\n",
       "    <tr>\n",
       "      <th>0</th>\n",
       "      <td>1</td>\n",
       "      <td>5.1</td>\n",
       "      <td>3.5</td>\n",
       "      <td>1.4</td>\n",
       "      <td>0.2</td>\n",
       "      <td>0</td>\n",
       "    </tr>\n",
       "    <tr>\n",
       "      <th>1</th>\n",
       "      <td>2</td>\n",
       "      <td>4.9</td>\n",
       "      <td>3.0</td>\n",
       "      <td>1.4</td>\n",
       "      <td>0.2</td>\n",
       "      <td>0</td>\n",
       "    </tr>\n",
       "    <tr>\n",
       "      <th>2</th>\n",
       "      <td>3</td>\n",
       "      <td>4.7</td>\n",
       "      <td>3.2</td>\n",
       "      <td>1.3</td>\n",
       "      <td>0.2</td>\n",
       "      <td>0</td>\n",
       "    </tr>\n",
       "  </tbody>\n",
       "</table>\n",
       "</div>"
      ],
      "text/plain": [
       "   Id  SepalLengthCm  SepalWidthCm  PetalLengthCm  PetalWidthCm  Species\n",
       "0   1            5.1           3.5            1.4           0.2        0\n",
       "1   2            4.9           3.0            1.4           0.2        0\n",
       "2   3            4.7           3.2            1.3           0.2        0"
      ]
     },
     "execution_count": 38,
     "metadata": {},
     "output_type": "execute_result"
    }
   ],
   "source": [
    "### 4. LABEL Encodinging \n",
    "# 4.1. by replace Pandas function\n",
    "df['Species']=df['Species'].replace({'Iris-setosa':0, 'Iris-versicolor':1, 'Iris-virginica':2})\n",
    "df[:3]"
   ]
  },
  {
   "cell_type": "code",
   "execution_count": 39,
   "id": "6e1d73c9",
   "metadata": {},
   "outputs": [
    {
     "name": "stdout",
     "output_type": "stream",
     "text": [
      "[0 1 2]\n"
     ]
    }
   ],
   "source": [
    "print(df['Species'].unique())"
   ]
  },
  {
   "cell_type": "code",
   "execution_count": 40,
   "id": "80410988",
   "metadata": {},
   "outputs": [
    {
     "data": {
      "text/plain": [
       "(array([[5.1, 3.5, 1.4, 0.2],\n",
       "        [4.9, 3. , 1.4, 0.2]]),\n",
       " array([[2],\n",
       "        [2]], dtype=int64))"
      ]
     },
     "execution_count": 40,
     "metadata": {},
     "output_type": "execute_result"
    }
   ],
   "source": [
    "### 5. Define Variables x & y\n",
    "#### x [  indipendent variable, feature, input  ] \n",
    "####           &\n",
    "#### y [  dependent variable, target, Label, output  ]\n",
    "\n",
    "x=df.iloc[:,1:5].values\n",
    "y=df.iloc[:,5:].values\n",
    "x[:2],y[148:]"
   ]
  },
  {
   "cell_type": "code",
   "execution_count": 41,
   "id": "7a9ff682",
   "metadata": {},
   "outputs": [
    {
     "name": "stdout",
     "output_type": "stream",
     "text": [
      "[[0.22222222 0.625      0.06779661 0.04166667]\n",
      " [0.16666667 0.41666667 0.06779661 0.04166667]\n",
      " [0.11111111 0.5        0.05084746 0.04166667]\n",
      " [0.08333333 0.45833333 0.08474576 0.04166667]\n",
      " [0.19444444 0.66666667 0.06779661 0.04166667]]\n",
      "                0           1           2           3\n",
      "count  150.000000  150.000000  150.000000  150.000000\n",
      "mean     0.428704    0.439167    0.467571    0.457778\n",
      "std      0.230018    0.180664    0.299054    0.317984\n",
      "min      0.000000    0.000000    0.000000    0.000000\n",
      "25%      0.222222    0.333333    0.101695    0.083333\n",
      "50%      0.416667    0.416667    0.567797    0.500000\n",
      "75%      0.583333    0.541667    0.694915    0.708333\n",
      "max      1.000000    1.000000    1.000000    1.000000\n"
     ]
    }
   ],
   "source": [
    "### 6.Feature Scaling -  \n",
    "## Feature Scaling in x dependent variable\n",
    "#### 6.1.  from sklearn.preprocessing import StandardScaler\n",
    "#### 6.2. from sklearn.preprocessing import MinMaxScaler\n",
    "from sklearn.preprocessing import MinMaxScaler\n",
    "mms=MinMaxScaler()\n",
    "mmsx=mms.fit_transform(x)\n",
    "print(mmsx[:5])\n",
    "print(pd.DataFrame(mmsx).describe())"
   ]
  },
  {
   "cell_type": "code",
   "execution_count": 42,
   "id": "9a31f6a5",
   "metadata": {},
   "outputs": [
    {
     "name": "stdout",
     "output_type": "stream",
     "text": [
      "[[1. 0. 0.]\n",
      " [1. 0. 0.]\n",
      " [1. 0. 0.]\n",
      " [1. 0. 0.]\n",
      " [1. 0. 0.]]\n"
     ]
    }
   ],
   "source": [
    "### 7. LabelBinarizer -   \n",
    "## convert  y  Label  into binary \n",
    "#### 7.1. from sklearn.preprocessing import LabelBinarizer\n",
    "#### 7.2. from keras.utils import np_utils\n",
    "#### 7.3. import pandas as pd\n",
    "\n",
    "#2. \n",
    "from keras.utils import np_utils\n",
    "npy=np_utils.to_categorical(y)\n",
    "print(npy[:5])"
   ]
  },
  {
   "cell_type": "code",
   "execution_count": 43,
   "id": "992432b1",
   "metadata": {},
   "outputs": [
    {
     "name": "stdout",
     "output_type": "stream",
     "text": [
      "(112, 4)\n",
      "(38, 4)\n",
      "(112, 3)\n",
      "(38, 3)\n"
     ]
    }
   ],
   "source": [
    "## 8. train_test_split  (Split data set in train and test)\n",
    "from sklearn.model_selection import train_test_split\n",
    "#x_train,x_test,y_train,y_test=train_test_split(mmsx,y,test_size=.25, random_state=15)\n",
    "x_train,x_test,y_train,y_test=train_test_split(mmsx,npy,test_size=.25, random_state=15)\n",
    "print(x_train.shape)\n",
    "print(x_test.shape)\n",
    "print(y_train.shape)\n",
    "print(y_test.shape)"
   ]
  },
  {
   "cell_type": "code",
   "execution_count": 44,
   "id": "e469676d",
   "metadata": {},
   "outputs": [],
   "source": [
    "## 9. Import Liberaries & Build NEURAL NETWORK  Model\n",
    "### 9.1. import liberaries\n",
    "import tensorflow as tf\n",
    "from tensorflow import keras\n",
    "from keras.models import Sequential\n",
    "from keras.layers import Dense,Activation\n",
    "from keras.optimizers import Adam\n",
    "from keras.metrics import categorical_crossentropy"
   ]
  },
  {
   "cell_type": "code",
   "execution_count": 45,
   "id": "29a922ec",
   "metadata": {},
   "outputs": [
    {
     "data": {
      "text/plain": [
       "1"
      ]
     },
     "execution_count": 45,
     "metadata": {},
     "output_type": "execute_result"
    }
   ],
   "source": [
    "## Types of Artificial Neural Networks Architecture \n",
    "### 9.2.1 Single layer feedforward neural networks\n",
    "### 9.2.2 Multi layer feedforward neural networks\n",
    "### 9.2.3 Multi layer Preceptron\n",
    "### 9.2.4 Recurent Neural Networks / Feedback Neural Network\n",
    "\n",
    "# building tje model\n",
    "model= Sequential() # here we build sequential model\n",
    "# input layer/first layer  - has 4 neuron or nodes , it could be 100 or 200\n",
    "model.add(Dense(4,input_shape=(4,),activation='relu'))\n",
    "'''\n",
    "# model.add(Dense((4-nerons/nodes),input_shape=(4,-input feature amt.\n",
    "alweys use coma , represent of input as one dientional array - ),\n",
    "actiation='relu'- relu is rectifire linear unit function-that means if\n",
    "it get any negative value, it will ake it zero else pass the alue at it is))\n",
    "'''\n",
    "# hidden layer\n",
    "\n",
    "model.add(Dense(14,activation='relu'))\n",
    "model.add(Dense(14,activation='relu'))\n",
    "\n",
    "# output Layer\n",
    "model.add(Dense(3,activation='softmax')) # if label/classes more then two\n",
    "''' here use three nodes because it has three columns in binary, here using activation\n",
    "funtion - softmax because  here label/classes are three\n",
    "'''\n",
    " #  act.- softmax in multiclass classification \n",
    "    # & output(units/output_dim) precepton - tree or more put similar as much columns in y\n",
    "1"
   ]
  },
  {
   "cell_type": "code",
   "execution_count": 46,
   "id": "df148998",
   "metadata": {},
   "outputs": [
    {
     "data": {
      "text/plain": [
       "1"
      ]
     },
     "execution_count": 46,
     "metadata": {},
     "output_type": "execute_result"
    }
   ],
   "source": [
    "### 9.3. Model Compile\n",
    "# Multiclass\n",
    "#model.compile(loss='categorical_crossentropy',optimizer='adam', metrics='accuracy')\n",
    "# compile the model\n",
    "model.compile(optimizer='Adam',loss='categorical_crossentropy', metrics=['accuracy'])\n",
    "''' we useing here adam optimizer. other stochatice gredient desent\n",
    "   sparse_categorical_crossentropy\n",
    "'''\n",
    "1"
   ]
  },
  {
   "cell_type": "code",
   "execution_count": 47,
   "id": "8cfc5e16",
   "metadata": {},
   "outputs": [
    {
     "name": "stdout",
     "output_type": "stream",
     "text": [
      "Model: \"sequential_1\"\n",
      "_________________________________________________________________\n",
      " Layer (type)                Output Shape              Param #   \n",
      "=================================================================\n",
      " dense_2 (Dense)             (None, 4)                 20        \n",
      "                                                                 \n",
      " dense_3 (Dense)             (None, 14)                70        \n",
      "                                                                 \n",
      " dense_4 (Dense)             (None, 14)                210       \n",
      "                                                                 \n",
      " dense_5 (Dense)             (None, 3)                 45        \n",
      "                                                                 \n",
      "=================================================================\n",
      "Total params: 345\n",
      "Trainable params: 345\n",
      "Non-trainable params: 0\n",
      "_________________________________________________________________\n"
     ]
    }
   ],
   "source": [
    "### 9.4. Model Summery\n",
    "model.summary()"
   ]
  },
  {
   "cell_type": "code",
   "execution_count": 48,
   "id": "955701d4",
   "metadata": {},
   "outputs": [
    {
     "name": "stdout",
     "output_type": "stream",
     "text": [
      "Epoch 1/100\n",
      "2/2 [==============================] - 0s 4ms/step - loss: 1.0997 - accuracy: 0.3393\n",
      "Epoch 2/100\n",
      "2/2 [==============================] - 0s 3ms/step - loss: 1.0935 - accuracy: 0.3393\n",
      "Epoch 3/100\n",
      "2/2 [==============================] - 0s 2ms/step - loss: 1.0878 - accuracy: 0.3393\n",
      "Epoch 4/100\n",
      "2/2 [==============================] - 0s 4ms/step - loss: 1.0825 - accuracy: 0.3393\n",
      "Epoch 5/100\n",
      "2/2 [==============================] - 0s 3ms/step - loss: 1.0774 - accuracy: 0.3393\n",
      "Epoch 6/100\n",
      "2/2 [==============================] - 0s 5ms/step - loss: 1.0729 - accuracy: 0.3393\n",
      "Epoch 7/100\n",
      "2/2 [==============================] - 0s 3ms/step - loss: 1.0696 - accuracy: 0.3393\n",
      "Epoch 8/100\n",
      "2/2 [==============================] - 0s 5ms/step - loss: 1.0671 - accuracy: 0.3393\n",
      "Epoch 9/100\n",
      "2/2 [==============================] - 0s 3ms/step - loss: 1.0650 - accuracy: 0.3393\n",
      "Epoch 10/100\n",
      "2/2 [==============================] - 0s 3ms/step - loss: 1.0628 - accuracy: 0.3393\n",
      "Epoch 11/100\n",
      "2/2 [==============================] - 0s 3ms/step - loss: 1.0606 - accuracy: 0.3393\n",
      "Epoch 12/100\n",
      "2/2 [==============================] - 0s 3ms/step - loss: 1.0583 - accuracy: 0.3393\n",
      "Epoch 13/100\n",
      "2/2 [==============================] - 0s 3ms/step - loss: 1.0560 - accuracy: 0.3393\n",
      "Epoch 14/100\n",
      "2/2 [==============================] - 0s 3ms/step - loss: 1.0536 - accuracy: 0.3393\n",
      "Epoch 15/100\n",
      "2/2 [==============================] - 0s 4ms/step - loss: 1.0512 - accuracy: 0.3393\n",
      "Epoch 16/100\n",
      "2/2 [==============================] - 0s 3ms/step - loss: 1.0487 - accuracy: 0.3393\n",
      "Epoch 17/100\n",
      "2/2 [==============================] - 0s 3ms/step - loss: 1.0463 - accuracy: 0.3393\n",
      "Epoch 18/100\n",
      "2/2 [==============================] - 0s 2ms/step - loss: 1.0438 - accuracy: 0.3393\n",
      "Epoch 19/100\n",
      "2/2 [==============================] - 0s 2ms/step - loss: 1.0413 - accuracy: 0.3393\n",
      "Epoch 20/100\n",
      "2/2 [==============================] - 0s 4ms/step - loss: 1.0388 - accuracy: 0.3393\n",
      "Epoch 21/100\n",
      "2/2 [==============================] - 0s 3ms/step - loss: 1.0362 - accuracy: 0.3393\n",
      "Epoch 22/100\n",
      "2/2 [==============================] - 0s 4ms/step - loss: 1.0335 - accuracy: 0.3393\n",
      "Epoch 23/100\n",
      "2/2 [==============================] - 0s 3ms/step - loss: 1.0308 - accuracy: 0.3482\n",
      "Epoch 24/100\n",
      "2/2 [==============================] - 0s 4ms/step - loss: 1.0279 - accuracy: 0.3661\n",
      "Epoch 25/100\n",
      "2/2 [==============================] - 0s 3ms/step - loss: 1.0250 - accuracy: 0.3661\n",
      "Epoch 26/100\n",
      "2/2 [==============================] - 0s 2ms/step - loss: 1.0219 - accuracy: 0.3661\n",
      "Epoch 27/100\n",
      "2/2 [==============================] - 0s 3ms/step - loss: 1.0190 - accuracy: 0.3750\n",
      "Epoch 28/100\n",
      "2/2 [==============================] - 0s 3ms/step - loss: 1.0159 - accuracy: 0.3750\n",
      "Epoch 29/100\n",
      "2/2 [==============================] - 0s 3ms/step - loss: 1.0127 - accuracy: 0.3750\n",
      "Epoch 30/100\n",
      "2/2 [==============================] - 0s 4ms/step - loss: 1.0094 - accuracy: 0.3750\n",
      "Epoch 31/100\n",
      "2/2 [==============================] - 0s 3ms/step - loss: 1.0060 - accuracy: 0.3839\n",
      "Epoch 32/100\n",
      "2/2 [==============================] - 0s 3ms/step - loss: 1.0025 - accuracy: 0.3929\n",
      "Epoch 33/100\n",
      "2/2 [==============================] - 0s 3ms/step - loss: 0.9988 - accuracy: 0.3929\n",
      "Epoch 34/100\n",
      "2/2 [==============================] - 0s 3ms/step - loss: 0.9952 - accuracy: 0.4196\n",
      "Epoch 35/100\n",
      "2/2 [==============================] - 0s 3ms/step - loss: 0.9915 - accuracy: 0.4196\n",
      "Epoch 36/100\n",
      "2/2 [==============================] - 0s 3ms/step - loss: 0.9876 - accuracy: 0.4464\n",
      "Epoch 37/100\n",
      "2/2 [==============================] - 0s 3ms/step - loss: 0.9837 - accuracy: 0.4464\n",
      "Epoch 38/100\n",
      "2/2 [==============================] - 0s 3ms/step - loss: 0.9795 - accuracy: 0.4554\n",
      "Epoch 39/100\n",
      "2/2 [==============================] - 0s 3ms/step - loss: 0.9750 - accuracy: 0.4821\n",
      "Epoch 40/100\n",
      "2/2 [==============================] - 0s 2ms/step - loss: 0.9706 - accuracy: 0.5089\n",
      "Epoch 41/100\n",
      "2/2 [==============================] - 0s 3ms/step - loss: 0.9660 - accuracy: 0.5446\n",
      "Epoch 42/100\n",
      "2/2 [==============================] - 0s 3ms/step - loss: 0.9615 - accuracy: 0.5536\n",
      "Epoch 43/100\n",
      "2/2 [==============================] - 0s 3ms/step - loss: 0.9570 - accuracy: 0.5982\n",
      "Epoch 44/100\n",
      "2/2 [==============================] - 0s 3ms/step - loss: 0.9523 - accuracy: 0.6161\n",
      "Epoch 45/100\n",
      "2/2 [==============================] - 0s 3ms/step - loss: 0.9475 - accuracy: 0.6339\n",
      "Epoch 46/100\n",
      "2/2 [==============================] - 0s 2ms/step - loss: 0.9427 - accuracy: 0.6339\n",
      "Epoch 47/100\n",
      "2/2 [==============================] - 0s 2ms/step - loss: 0.9376 - accuracy: 0.6518\n",
      "Epoch 48/100\n",
      "2/2 [==============================] - 0s 2ms/step - loss: 0.9322 - accuracy: 0.6607\n",
      "Epoch 49/100\n",
      "2/2 [==============================] - 0s 2ms/step - loss: 0.9268 - accuracy: 0.6696\n",
      "Epoch 50/100\n",
      "2/2 [==============================] - 0s 3ms/step - loss: 0.9211 - accuracy: 0.6786\n",
      "Epoch 51/100\n",
      "2/2 [==============================] - 0s 2ms/step - loss: 0.9153 - accuracy: 0.6875\n",
      "Epoch 52/100\n",
      "2/2 [==============================] - 0s 3ms/step - loss: 0.9095 - accuracy: 0.6875\n",
      "Epoch 53/100\n",
      "2/2 [==============================] - 0s 2ms/step - loss: 0.9037 - accuracy: 0.6875\n",
      "Epoch 54/100\n",
      "2/2 [==============================] - 0s 2ms/step - loss: 0.8976 - accuracy: 0.6786\n",
      "Epoch 55/100\n",
      "2/2 [==============================] - 0s 4ms/step - loss: 0.8912 - accuracy: 0.6786\n",
      "Epoch 56/100\n",
      "2/2 [==============================] - 0s 3ms/step - loss: 0.8849 - accuracy: 0.6786\n",
      "Epoch 57/100\n",
      "2/2 [==============================] - 0s 3ms/step - loss: 0.8784 - accuracy: 0.6786\n",
      "Epoch 58/100\n",
      "2/2 [==============================] - 0s 4ms/step - loss: 0.8717 - accuracy: 0.6786\n",
      "Epoch 59/100\n",
      "2/2 [==============================] - 0s 3ms/step - loss: 0.8648 - accuracy: 0.6786\n",
      "Epoch 60/100\n",
      "2/2 [==============================] - 0s 3ms/step - loss: 0.8574 - accuracy: 0.6786\n",
      "Epoch 61/100\n",
      "2/2 [==============================] - 0s 3ms/step - loss: 0.8497 - accuracy: 0.6786\n",
      "Epoch 62/100\n",
      "2/2 [==============================] - 0s 4ms/step - loss: 0.8412 - accuracy: 0.6786\n",
      "Epoch 63/100\n",
      "2/2 [==============================] - 0s 3ms/step - loss: 0.8326 - accuracy: 0.6786\n",
      "Epoch 64/100\n",
      "2/2 [==============================] - 0s 3ms/step - loss: 0.8225 - accuracy: 0.6786\n",
      "Epoch 65/100\n",
      "2/2 [==============================] - 0s 3ms/step - loss: 0.8119 - accuracy: 0.6786\n",
      "Epoch 66/100\n",
      "2/2 [==============================] - 0s 3ms/step - loss: 0.7998 - accuracy: 0.6786\n",
      "Epoch 67/100\n",
      "2/2 [==============================] - 0s 3ms/step - loss: 0.7863 - accuracy: 0.6786\n",
      "Epoch 68/100\n",
      "2/2 [==============================] - 0s 3ms/step - loss: 0.7724 - accuracy: 0.6786\n",
      "Epoch 69/100\n",
      "2/2 [==============================] - 0s 3ms/step - loss: 0.7582 - accuracy: 0.6786\n",
      "Epoch 70/100\n",
      "2/2 [==============================] - 0s 3ms/step - loss: 0.7438 - accuracy: 0.6786\n",
      "Epoch 71/100\n",
      "2/2 [==============================] - 0s 3ms/step - loss: 0.7294 - accuracy: 0.6786\n",
      "Epoch 72/100\n",
      "2/2 [==============================] - 0s 3ms/step - loss: 0.7154 - accuracy: 0.6786\n",
      "Epoch 73/100\n",
      "2/2 [==============================] - 0s 3ms/step - loss: 0.7015 - accuracy: 0.6786\n",
      "Epoch 74/100\n",
      "2/2 [==============================] - 0s 3ms/step - loss: 0.6875 - accuracy: 0.6786\n",
      "Epoch 75/100\n",
      "2/2 [==============================] - 0s 3ms/step - loss: 0.6723 - accuracy: 0.6964\n",
      "Epoch 76/100\n",
      "2/2 [==============================] - 0s 3ms/step - loss: 0.6568 - accuracy: 0.6964\n",
      "Epoch 77/100\n",
      "2/2 [==============================] - 0s 4ms/step - loss: 0.6427 - accuracy: 0.6964\n",
      "Epoch 78/100\n",
      "2/2 [==============================] - 0s 3ms/step - loss: 0.6321 - accuracy: 0.6964\n",
      "Epoch 79/100\n",
      "2/2 [==============================] - 0s 4ms/step - loss: 0.6215 - accuracy: 0.7143\n",
      "Epoch 80/100\n",
      "2/2 [==============================] - 0s 3ms/step - loss: 0.6111 - accuracy: 0.7143\n",
      "Epoch 81/100\n",
      "2/2 [==============================] - 0s 3ms/step - loss: 0.6007 - accuracy: 0.7143\n",
      "Epoch 82/100\n",
      "2/2 [==============================] - 0s 3ms/step - loss: 0.5905 - accuracy: 0.7143\n",
      "Epoch 83/100\n",
      "2/2 [==============================] - 0s 4ms/step - loss: 0.5806 - accuracy: 0.7143\n",
      "Epoch 84/100\n",
      "2/2 [==============================] - 0s 3ms/step - loss: 0.5707 - accuracy: 0.7054\n",
      "Epoch 85/100\n",
      "2/2 [==============================] - 0s 3ms/step - loss: 0.5614 - accuracy: 0.7054\n",
      "Epoch 86/100\n",
      "2/2 [==============================] - 0s 3ms/step - loss: 0.5525 - accuracy: 0.6964\n",
      "Epoch 87/100\n",
      "2/2 [==============================] - 0s 4ms/step - loss: 0.5449 - accuracy: 0.6964\n",
      "Epoch 88/100\n",
      "2/2 [==============================] - 0s 3ms/step - loss: 0.5372 - accuracy: 0.6964\n",
      "Epoch 89/100\n",
      "2/2 [==============================] - 0s 3ms/step - loss: 0.5300 - accuracy: 0.6964\n",
      "Epoch 90/100\n",
      "2/2 [==============================] - 0s 3ms/step - loss: 0.5227 - accuracy: 0.6964\n",
      "Epoch 91/100\n",
      "2/2 [==============================] - 0s 3ms/step - loss: 0.5156 - accuracy: 0.6964\n",
      "Epoch 92/100\n",
      "2/2 [==============================] - 0s 3ms/step - loss: 0.5089 - accuracy: 0.6964\n",
      "Epoch 93/100\n",
      "2/2 [==============================] - 0s 3ms/step - loss: 0.5025 - accuracy: 0.6964\n",
      "Epoch 94/100\n",
      "2/2 [==============================] - 0s 4ms/step - loss: 0.4968 - accuracy: 0.6964\n",
      "Epoch 95/100\n",
      "2/2 [==============================] - 0s 3ms/step - loss: 0.4915 - accuracy: 0.7054\n",
      "Epoch 96/100\n",
      "2/2 [==============================] - 0s 4ms/step - loss: 0.4864 - accuracy: 0.7054\n",
      "Epoch 97/100\n",
      "2/2 [==============================] - 0s 3ms/step - loss: 0.4816 - accuracy: 0.7054\n",
      "Epoch 98/100\n",
      "2/2 [==============================] - 0s 4ms/step - loss: 0.4770 - accuracy: 0.7054\n",
      "Epoch 99/100\n",
      "2/2 [==============================] - 0s 3ms/step - loss: 0.4727 - accuracy: 0.7054\n",
      "Epoch 100/100\n",
      "2/2 [==============================] - 0s 4ms/step - loss: 0.4685 - accuracy: 0.7054\n"
     ]
    },
    {
     "data": {
      "text/plain": [
       "<keras.callbacks.History at 0x2af0d538a00>"
      ]
     },
     "execution_count": 48,
     "metadata": {},
     "output_type": "execute_result"
    }
   ],
   "source": [
    "## 10. Train the Model\n",
    "#- 10.1 d=model.fit(x_train,y_train,validation_data=(x_test,y_test),epochs=100)\n",
    "#- 10.2 model.fit(x_train,y_train, batch_size=100,epochs=100) batch_size -  DATA ROW SIZE\n",
    "model.fit(x_train,y_train, batch_size=100,epochs=100)"
   ]
  },
  {
   "cell_type": "code",
   "execution_count": 49,
   "id": "53d582c5",
   "metadata": {},
   "outputs": [
    {
     "name": "stdout",
     "output_type": "stream",
     "text": [
      "2/2 [==============================] - 0s 1ms/step\n"
     ]
    },
    {
     "data": {
      "text/plain": [
       "array([[0.9285499 , 0.05483145, 0.01661871],\n",
       "       [0.08018914, 0.4111649 , 0.508646  ],\n",
       "       [0.07539763, 0.41908064, 0.5055217 ],\n",
       "       [0.89437073, 0.07866919, 0.02696015],\n",
       "       [0.9168644 , 0.06218121, 0.02095439]], dtype=float32)"
      ]
     },
     "execution_count": 49,
     "metadata": {},
     "output_type": "execute_result"
    }
   ],
   "source": [
    "## 11. Model Prediction\n",
    "y_pred1=model.predict(x_test)\n",
    "y_pred1[:5]"
   ]
  },
  {
   "cell_type": "code",
   "execution_count": 50,
   "id": "fc4239e2",
   "metadata": {},
   "outputs": [
    {
     "data": {
      "text/plain": [
       "(array([0, 2, 2, 0, 0, 2, 2, 1, 2, 2, 2, 2, 2, 2, 2, 0, 2, 2, 0, 2, 2, 0,\n",
       "        2, 1, 0, 0, 2, 2, 2, 2, 0, 2, 2, 2, 0, 0, 2, 0], dtype=int64),\n",
       " array([0, 1, 1, 0, 0, 1, 2, 1, 1, 2, 2, 1, 1, 1, 2, 0, 1, 2, 0, 2, 1, 0,\n",
       "        1, 1, 0, 0, 2, 2, 2, 1, 0, 2, 1, 2, 0, 0, 2, 0], dtype=int64))"
      ]
     },
     "execution_count": 50,
     "metadata": {},
     "output_type": "execute_result"
    }
   ],
   "source": [
    "# Model prediction comparision with y_test & Predict\n",
    "# np.argmax(y_test,axis=1) - we use this because y in binary\n",
    "y_test_class=np.argmax(y_test,axis=1)\n",
    "y_pred1_class=np.argmax(y_pred1,axis=1)\n",
    "y_pred1_class,y_test_class"
   ]
  },
  {
   "cell_type": "code",
   "execution_count": 51,
   "id": "c319ba3f",
   "metadata": {},
   "outputs": [
    {
     "name": "stdout",
     "output_type": "stream",
     "text": [
      "[[12  0  0]\n",
      " [ 0  2 12]\n",
      " [ 0  0 12]]\n",
      "              precision    recall  f1-score   support\n",
      "\n",
      "           0       1.00      1.00      1.00        12\n",
      "           1       1.00      0.14      0.25        14\n",
      "           2       0.50      1.00      0.67        12\n",
      "\n",
      "    accuracy                           0.68        38\n",
      "   macro avg       0.83      0.71      0.64        38\n",
      "weighted avg       0.84      0.68      0.62        38\n",
      "\n",
      "0.6842105263157895\n"
     ]
    }
   ],
   "source": [
    "## 12 Model Evaluation \n",
    "from sklearn.metrics import classification_report,confusion_matrix,accuracy_score\n",
    "\n",
    "print(confusion_matrix(y_test_class,y_pred1_class))\n",
    "print(classification_report(y_test_class,y_pred1_class))\n",
    "print(accuracy_score(y_test_class,y_pred1_class))"
   ]
  },
  {
   "cell_type": "code",
   "execution_count": 52,
   "id": "e7e5d640",
   "metadata": {},
   "outputs": [
    {
     "data": {
      "text/plain": [
       "0.631578947368421"
      ]
     },
     "execution_count": 52,
     "metadata": {},
     "output_type": "execute_result"
    }
   ],
   "source": [
    "(12+0+12)/38    ## accuracy "
   ]
  },
  {
   "cell_type": "raw",
   "id": "198cc32a",
   "metadata": {},
   "source": [
    "## 12 Model Evaluation \n",
    "from sklearn.metrics import classification_report,confusion_matrix,accuracy_score\n",
    "\n",
    "print(confusion_matrix(y_test_class,y_pred1))\n",
    "print(classification_report(y_test_class,y_pred1))\n",
    "print(accuracy_score(y_test_class,y_pred1))"
   ]
  },
  {
   "cell_type": "code",
   "execution_count": null,
   "id": "173adad4",
   "metadata": {},
   "outputs": [],
   "source": []
  },
  {
   "cell_type": "code",
   "execution_count": null,
   "id": "fb68e58c",
   "metadata": {},
   "outputs": [],
   "source": []
  },
  {
   "cell_type": "markdown",
   "id": "4a0a8391",
   "metadata": {},
   "source": [
    "# b. Artificial Neural Network - REGRESSION\n",
    "\n",
    "- b.1. import keras libery and funtions\n",
    "- b.2. from sklearn.neural_network import MLPRegressor\n",
    "--\n",
    "--\n",
    "-- https://scikit-learn.org/stable/modules/generated/sklearn.neural_network.MLPRegressor.html\n",
    "-- https://stackoverflow.com/questions/55786860/how-is-the-hidden-layer-size-determined-for-mlpregressor-in-scikitlearn\n",
    "-- https://www.programcreek.com/python/example/93778/sklearn.neural_network.MLPRegressor"
   ]
  },
  {
   "cell_type": "code",
   "execution_count": 53,
   "id": "571be1a9",
   "metadata": {},
   "outputs": [
    {
     "data": {
      "text/html": [
       "<div>\n",
       "<style scoped>\n",
       "    .dataframe tbody tr th:only-of-type {\n",
       "        vertical-align: middle;\n",
       "    }\n",
       "\n",
       "    .dataframe tbody tr th {\n",
       "        vertical-align: top;\n",
       "    }\n",
       "\n",
       "    .dataframe thead th {\n",
       "        text-align: right;\n",
       "    }\n",
       "</style>\n",
       "<table border=\"1\" class=\"dataframe\">\n",
       "  <thead>\n",
       "    <tr style=\"text-align: right;\">\n",
       "      <th></th>\n",
       "      <th>Id</th>\n",
       "      <th>SepalLengthCm</th>\n",
       "      <th>SepalWidthCm</th>\n",
       "      <th>PetalLengthCm</th>\n",
       "      <th>PetalWidthCm</th>\n",
       "      <th>Species</th>\n",
       "    </tr>\n",
       "  </thead>\n",
       "  <tbody>\n",
       "    <tr>\n",
       "      <th>0</th>\n",
       "      <td>1</td>\n",
       "      <td>5.1</td>\n",
       "      <td>3.5</td>\n",
       "      <td>1.4</td>\n",
       "      <td>0.2</td>\n",
       "      <td>0</td>\n",
       "    </tr>\n",
       "    <tr>\n",
       "      <th>1</th>\n",
       "      <td>2</td>\n",
       "      <td>4.9</td>\n",
       "      <td>3.0</td>\n",
       "      <td>1.4</td>\n",
       "      <td>0.2</td>\n",
       "      <td>0</td>\n",
       "    </tr>\n",
       "    <tr>\n",
       "      <th>2</th>\n",
       "      <td>3</td>\n",
       "      <td>4.7</td>\n",
       "      <td>3.2</td>\n",
       "      <td>1.3</td>\n",
       "      <td>0.2</td>\n",
       "      <td>0</td>\n",
       "    </tr>\n",
       "    <tr>\n",
       "      <th>3</th>\n",
       "      <td>4</td>\n",
       "      <td>4.6</td>\n",
       "      <td>3.1</td>\n",
       "      <td>1.5</td>\n",
       "      <td>0.2</td>\n",
       "      <td>0</td>\n",
       "    </tr>\n",
       "    <tr>\n",
       "      <th>4</th>\n",
       "      <td>5</td>\n",
       "      <td>5.0</td>\n",
       "      <td>3.6</td>\n",
       "      <td>1.4</td>\n",
       "      <td>0.2</td>\n",
       "      <td>0</td>\n",
       "    </tr>\n",
       "    <tr>\n",
       "      <th>...</th>\n",
       "      <td>...</td>\n",
       "      <td>...</td>\n",
       "      <td>...</td>\n",
       "      <td>...</td>\n",
       "      <td>...</td>\n",
       "      <td>...</td>\n",
       "    </tr>\n",
       "    <tr>\n",
       "      <th>145</th>\n",
       "      <td>146</td>\n",
       "      <td>6.7</td>\n",
       "      <td>3.0</td>\n",
       "      <td>5.2</td>\n",
       "      <td>2.3</td>\n",
       "      <td>2</td>\n",
       "    </tr>\n",
       "    <tr>\n",
       "      <th>146</th>\n",
       "      <td>147</td>\n",
       "      <td>6.3</td>\n",
       "      <td>2.5</td>\n",
       "      <td>5.0</td>\n",
       "      <td>1.9</td>\n",
       "      <td>2</td>\n",
       "    </tr>\n",
       "    <tr>\n",
       "      <th>147</th>\n",
       "      <td>148</td>\n",
       "      <td>6.5</td>\n",
       "      <td>3.0</td>\n",
       "      <td>5.2</td>\n",
       "      <td>2.0</td>\n",
       "      <td>2</td>\n",
       "    </tr>\n",
       "    <tr>\n",
       "      <th>148</th>\n",
       "      <td>149</td>\n",
       "      <td>6.2</td>\n",
       "      <td>3.4</td>\n",
       "      <td>5.4</td>\n",
       "      <td>2.3</td>\n",
       "      <td>2</td>\n",
       "    </tr>\n",
       "    <tr>\n",
       "      <th>149</th>\n",
       "      <td>150</td>\n",
       "      <td>5.9</td>\n",
       "      <td>3.0</td>\n",
       "      <td>5.1</td>\n",
       "      <td>1.8</td>\n",
       "      <td>2</td>\n",
       "    </tr>\n",
       "  </tbody>\n",
       "</table>\n",
       "<p>150 rows × 6 columns</p>\n",
       "</div>"
      ],
      "text/plain": [
       "      Id  SepalLengthCm  SepalWidthCm  PetalLengthCm  PetalWidthCm  Species\n",
       "0      1            5.1           3.5            1.4           0.2        0\n",
       "1      2            4.9           3.0            1.4           0.2        0\n",
       "2      3            4.7           3.2            1.3           0.2        0\n",
       "3      4            4.6           3.1            1.5           0.2        0\n",
       "4      5            5.0           3.6            1.4           0.2        0\n",
       "..   ...            ...           ...            ...           ...      ...\n",
       "145  146            6.7           3.0            5.2           2.3        2\n",
       "146  147            6.3           2.5            5.0           1.9        2\n",
       "147  148            6.5           3.0            5.2           2.0        2\n",
       "148  149            6.2           3.4            5.4           2.3        2\n",
       "149  150            5.9           3.0            5.1           1.8        2\n",
       "\n",
       "[150 rows x 6 columns]"
      ]
     },
     "execution_count": 53,
     "metadata": {},
     "output_type": "execute_result"
    }
   ],
   "source": [
    "df"
   ]
  },
  {
   "cell_type": "code",
   "execution_count": 54,
   "id": "d3ab2593",
   "metadata": {},
   "outputs": [
    {
     "data": {
      "text/plain": [
       "(array([[5.1, 3.5],\n",
       "        [4.9, 3. ],\n",
       "        [4.7, 3.2],\n",
       "        [4.6, 3.1],\n",
       "        [5. , 3.6]]),\n",
       " array([0.2, 0.2, 0.2, 0.2, 0.2]))"
      ]
     },
     "execution_count": 54,
     "metadata": {},
     "output_type": "execute_result"
    }
   ],
   "source": [
    "# Define x & y\n",
    "x=df.iloc[:,1:3].values\n",
    "y=df.iloc[:,4].values\n",
    "x[:5],y[:5]"
   ]
  },
  {
   "cell_type": "code",
   "execution_count": 55,
   "id": "f9a4eb54",
   "metadata": {},
   "outputs": [],
   "source": [
    "# Split x & y in train_test\n",
    "from sklearn.model_selection import train_test_split\n",
    "x_train,x_test,y_train,y_test=train_test_split(x,y,test_size=.25, random_state=15)"
   ]
  },
  {
   "cell_type": "code",
   "execution_count": 56,
   "id": "27ba9f2f",
   "metadata": {},
   "outputs": [
    {
     "data": {
      "text/plain": [
       "(array([[0.22222222, 0.70833333],\n",
       "        [0.63888889, 0.375     ],\n",
       "        [0.86111111, 0.33333333],\n",
       "        [0.        , 0.41666667],\n",
       "        [0.13888889, 0.58333333]]),\n",
       " array([[0.        , 0.66666667],\n",
       "        [0.41935484, 0.4       ],\n",
       "        [0.29032258, 0.13333333],\n",
       "        [0.06451613, 0.46666667],\n",
       "        [0.25806452, 0.66666667]]))"
      ]
     },
     "execution_count": 56,
     "metadata": {},
     "output_type": "execute_result"
    }
   ],
   "source": [
    "from sklearn.preprocessing import MinMaxScaler\n",
    "mms=MinMaxScaler()\n",
    "x_train=mms.fit_transform(x_train)\n",
    "x_test=mms.fit_transform(x_test)\n",
    "x_train[:5],x_test[:5]"
   ]
  },
  {
   "cell_type": "code",
   "execution_count": 57,
   "id": "369befe0",
   "metadata": {},
   "outputs": [
    {
     "name": "stdout",
     "output_type": "stream",
     "text": [
      "                0           1\n",
      "count  112.000000  112.000000\n",
      "mean     0.429563    0.438616\n",
      "std      0.235110    0.192528\n",
      "min      0.000000    0.000000\n",
      "25%      0.222222    0.333333\n",
      "50%      0.416667    0.416667\n",
      "75%      0.590278    0.541667\n",
      "max      1.000000    1.000000\n",
      "               0          1\n",
      "count  38.000000  38.000000\n",
      "mean    0.398132   0.438596\n",
      "std     0.252365   0.227604\n",
      "min     0.000000   0.000000\n",
      "25%     0.193548   0.283333\n",
      "50%     0.403226   0.400000\n",
      "75%     0.548387   0.583333\n",
      "max     1.000000   1.000000\n"
     ]
    }
   ],
   "source": [
    "print(pd.DataFrame(x_train).describe())\n",
    "print(pd.DataFrame(x_test).describe())"
   ]
  },
  {
   "cell_type": "code",
   "execution_count": 58,
   "id": "c05f67cd",
   "metadata": {},
   "outputs": [
    {
     "name": "stdout",
     "output_type": "stream",
     "text": [
      "(112, 2)\n",
      "(38, 2)\n",
      "(112,)\n",
      "(38,)\n"
     ]
    }
   ],
   "source": [
    "print(x_train.shape)\n",
    "print(x_test.shape)\n",
    "print(y_train.shape)\n",
    "print(y_test.shape)"
   ]
  },
  {
   "cell_type": "code",
   "execution_count": 59,
   "id": "3674418f",
   "metadata": {},
   "outputs": [],
   "source": [
    "# import keras libery and funtions\n",
    "import keras\n",
    "from keras.models import Sequential\n",
    "from keras.layers import Dense\n",
    "from keras import metrics"
   ]
  },
  {
   "cell_type": "code",
   "execution_count": 60,
   "id": "530f644a",
   "metadata": {},
   "outputs": [
    {
     "data": {
      "text/plain": [
       "'\\nregression so use linear activation and one preceptron\\nbecause output in single value.\\n'"
      ]
     },
     "execution_count": 60,
     "metadata": {},
     "output_type": "execute_result"
    }
   ],
   "source": [
    "\n",
    "# first input and first hidden layer\n",
    "model = Sequential()\n",
    "model.add(Dense(1,input_dim=2, activation='relu'))\n",
    "\n",
    "# second hidden layer\n",
    "model.add(Dense(10, activation='relu'))\n",
    "model.add(Dense(10, activation='relu'))\n",
    "model.add(Dense(10, activation='relu'))\n",
    "\n",
    "# output layer\n",
    "model.add(Dense(1, activation='linear'))\n",
    "'''\n",
    "regression so use linear activation and one preceptron\n",
    "because output in single value.\n",
    "'''\n"
   ]
  },
  {
   "cell_type": "code",
   "execution_count": 61,
   "id": "62f6b6fe",
   "metadata": {},
   "outputs": [],
   "source": [
    "# compile ANN\n",
    "model.compile(optimizer= 'Adam', loss='mean_squared_error',metrics=['accuracy'])"
   ]
  },
  {
   "cell_type": "code",
   "execution_count": 62,
   "id": "d2a9a77d",
   "metadata": {},
   "outputs": [
    {
     "name": "stdout",
     "output_type": "stream",
     "text": [
      "Model: \"sequential_2\"\n",
      "_________________________________________________________________\n",
      " Layer (type)                Output Shape              Param #   \n",
      "=================================================================\n",
      " dense_6 (Dense)             (None, 1)                 3         \n",
      "                                                                 \n",
      " dense_7 (Dense)             (None, 10)                20        \n",
      "                                                                 \n",
      " dense_8 (Dense)             (None, 10)                110       \n",
      "                                                                 \n",
      " dense_9 (Dense)             (None, 10)                110       \n",
      "                                                                 \n",
      " dense_10 (Dense)            (None, 1)                 11        \n",
      "                                                                 \n",
      "=================================================================\n",
      "Total params: 254\n",
      "Trainable params: 254\n",
      "Non-trainable params: 0\n",
      "_________________________________________________________________\n"
     ]
    }
   ],
   "source": [
    "model.summary()"
   ]
  },
  {
   "cell_type": "code",
   "execution_count": 63,
   "id": "d0a138fa",
   "metadata": {},
   "outputs": [
    {
     "name": "stdout",
     "output_type": "stream",
     "text": [
      "Epoch 1/100\n",
      "4/4 [==============================] - 0s 45ms/step - loss: 2.0204 - accuracy: 0.0000e+00 - val_loss: 2.0112 - val_accuracy: 0.0000e+00\n",
      "Epoch 2/100\n",
      "4/4 [==============================] - 0s 13ms/step - loss: 1.9910 - accuracy: 0.0000e+00 - val_loss: 1.9818 - val_accuracy: 0.0000e+00\n",
      "Epoch 3/100\n",
      "4/4 [==============================] - 0s 12ms/step - loss: 1.9627 - accuracy: 0.0000e+00 - val_loss: 1.9530 - val_accuracy: 0.0000e+00\n",
      "Epoch 4/100\n",
      "4/4 [==============================] - 0s 12ms/step - loss: 1.9336 - accuracy: 0.0000e+00 - val_loss: 1.9244 - val_accuracy: 0.0000e+00\n",
      "Epoch 5/100\n",
      "4/4 [==============================] - 0s 12ms/step - loss: 1.9062 - accuracy: 0.0000e+00 - val_loss: 1.8957 - val_accuracy: 0.0000e+00\n",
      "Epoch 6/100\n",
      "4/4 [==============================] - 0s 12ms/step - loss: 1.8777 - accuracy: 0.0000e+00 - val_loss: 1.8671 - val_accuracy: 0.0000e+00\n",
      "Epoch 7/100\n",
      "4/4 [==============================] - 0s 13ms/step - loss: 1.8487 - accuracy: 0.0000e+00 - val_loss: 1.8385 - val_accuracy: 0.0000e+00\n",
      "Epoch 8/100\n",
      "4/4 [==============================] - 0s 12ms/step - loss: 1.8202 - accuracy: 0.0000e+00 - val_loss: 1.8091 - val_accuracy: 0.0000e+00\n",
      "Epoch 9/100\n",
      "4/4 [==============================] - 0s 13ms/step - loss: 1.7909 - accuracy: 0.0000e+00 - val_loss: 1.7791 - val_accuracy: 0.0000e+00\n",
      "Epoch 10/100\n",
      "4/4 [==============================] - 0s 17ms/step - loss: 1.7611 - accuracy: 0.0000e+00 - val_loss: 1.7487 - val_accuracy: 0.0000e+00\n",
      "Epoch 11/100\n",
      "4/4 [==============================] - 0s 12ms/step - loss: 1.7302 - accuracy: 0.0000e+00 - val_loss: 1.7174 - val_accuracy: 0.0000e+00\n",
      "Epoch 12/100\n",
      "4/4 [==============================] - 0s 13ms/step - loss: 1.6997 - accuracy: 0.0000e+00 - val_loss: 1.6851 - val_accuracy: 0.0000e+00\n",
      "Epoch 13/100\n",
      "4/4 [==============================] - 0s 13ms/step - loss: 1.6663 - accuracy: 0.0000e+00 - val_loss: 1.6522 - val_accuracy: 0.0000e+00\n",
      "Epoch 14/100\n",
      "4/4 [==============================] - 0s 13ms/step - loss: 1.6342 - accuracy: 0.0000e+00 - val_loss: 1.6184 - val_accuracy: 0.0000e+00\n",
      "Epoch 15/100\n",
      "4/4 [==============================] - 0s 13ms/step - loss: 1.5995 - accuracy: 0.0000e+00 - val_loss: 1.5844 - val_accuracy: 0.0000e+00\n",
      "Epoch 16/100\n",
      "4/4 [==============================] - 0s 14ms/step - loss: 1.5658 - accuracy: 0.0000e+00 - val_loss: 1.5495 - val_accuracy: 0.0000e+00\n",
      "Epoch 17/100\n",
      "4/4 [==============================] - 0s 16ms/step - loss: 1.5299 - accuracy: 0.0000e+00 - val_loss: 1.5141 - val_accuracy: 0.0000e+00\n",
      "Epoch 18/100\n",
      "4/4 [==============================] - 0s 14ms/step - loss: 1.4951 - accuracy: 0.0000e+00 - val_loss: 1.4777 - val_accuracy: 0.0000e+00\n",
      "Epoch 19/100\n",
      "4/4 [==============================] - 0s 13ms/step - loss: 1.4568 - accuracy: 0.0000e+00 - val_loss: 1.4412 - val_accuracy: 0.0000e+00\n",
      "Epoch 20/100\n",
      "4/4 [==============================] - 0s 14ms/step - loss: 1.4217 - accuracy: 0.0000e+00 - val_loss: 1.4036 - val_accuracy: 0.0000e+00\n",
      "Epoch 21/100\n",
      "4/4 [==============================] - 0s 14ms/step - loss: 1.3824 - accuracy: 0.0000e+00 - val_loss: 1.3656 - val_accuracy: 0.0000e+00\n",
      "Epoch 22/100\n",
      "4/4 [==============================] - 0s 12ms/step - loss: 1.3457 - accuracy: 0.0000e+00 - val_loss: 1.3265 - val_accuracy: 0.0000e+00\n",
      "Epoch 23/100\n",
      "4/4 [==============================] - 0s 11ms/step - loss: 1.3068 - accuracy: 0.0000e+00 - val_loss: 1.2878 - val_accuracy: 0.0000e+00\n",
      "Epoch 24/100\n",
      "4/4 [==============================] - 0s 14ms/step - loss: 1.2672 - accuracy: 0.0000e+00 - val_loss: 1.2482 - val_accuracy: 0.0000e+00\n",
      "Epoch 25/100\n",
      "4/4 [==============================] - 0s 12ms/step - loss: 1.2289 - accuracy: 0.0000e+00 - val_loss: 1.2085 - val_accuracy: 0.0000e+00\n",
      "Epoch 26/100\n",
      "4/4 [==============================] - 0s 12ms/step - loss: 1.1888 - accuracy: 0.0000e+00 - val_loss: 1.1690 - val_accuracy: 0.0000e+00\n",
      "Epoch 27/100\n",
      "4/4 [==============================] - 0s 13ms/step - loss: 1.1495 - accuracy: 0.0000e+00 - val_loss: 1.1293 - val_accuracy: 0.0000e+00\n",
      "Epoch 28/100\n",
      "4/4 [==============================] - 0s 12ms/step - loss: 1.1097 - accuracy: 0.0000e+00 - val_loss: 1.0902 - val_accuracy: 0.0000e+00\n",
      "Epoch 29/100\n",
      "4/4 [==============================] - 0s 12ms/step - loss: 1.0710 - accuracy: 0.0179 - val_loss: 1.0509 - val_accuracy: 0.0526\n",
      "Epoch 30/100\n",
      "4/4 [==============================] - 0s 12ms/step - loss: 1.0315 - accuracy: 0.0446 - val_loss: 1.0122 - val_accuracy: 0.0526\n",
      "Epoch 31/100\n",
      "4/4 [==============================] - 0s 11ms/step - loss: 0.9927 - accuracy: 0.0446 - val_loss: 0.9741 - val_accuracy: 0.0526\n",
      "Epoch 32/100\n",
      "4/4 [==============================] - 0s 12ms/step - loss: 0.9550 - accuracy: 0.0446 - val_loss: 0.9372 - val_accuracy: 0.0526\n",
      "Epoch 33/100\n",
      "4/4 [==============================] - 0s 14ms/step - loss: 0.9169 - accuracy: 0.0446 - val_loss: 0.9014 - val_accuracy: 0.0526\n",
      "Epoch 34/100\n",
      "4/4 [==============================] - 0s 10ms/step - loss: 0.8834 - accuracy: 0.0446 - val_loss: 0.8656 - val_accuracy: 0.0526\n",
      "Epoch 35/100\n",
      "4/4 [==============================] - 0s 12ms/step - loss: 0.8483 - accuracy: 0.0446 - val_loss: 0.8310 - val_accuracy: 0.0526\n",
      "Epoch 36/100\n",
      "4/4 [==============================] - 0s 12ms/step - loss: 0.8164 - accuracy: 0.0446 - val_loss: 0.7984 - val_accuracy: 0.0526\n",
      "Epoch 37/100\n",
      "4/4 [==============================] - 0s 12ms/step - loss: 0.7844 - accuracy: 0.0446 - val_loss: 0.7679 - val_accuracy: 0.0526\n",
      "Epoch 38/100\n",
      "4/4 [==============================] - 0s 15ms/step - loss: 0.7568 - accuracy: 0.0446 - val_loss: 0.7390 - val_accuracy: 0.0526\n",
      "Epoch 39/100\n",
      "4/4 [==============================] - 0s 11ms/step - loss: 0.7267 - accuracy: 0.0446 - val_loss: 0.7114 - val_accuracy: 0.0526\n",
      "Epoch 40/100\n",
      "4/4 [==============================] - 0s 11ms/step - loss: 0.7008 - accuracy: 0.0446 - val_loss: 0.6839 - val_accuracy: 0.0526\n",
      "Epoch 41/100\n",
      "4/4 [==============================] - 0s 12ms/step - loss: 0.6741 - accuracy: 0.0446 - val_loss: 0.6578 - val_accuracy: 0.0526\n",
      "Epoch 42/100\n",
      "4/4 [==============================] - 0s 14ms/step - loss: 0.6475 - accuracy: 0.0446 - val_loss: 0.6322 - val_accuracy: 0.0526\n",
      "Epoch 43/100\n",
      "4/4 [==============================] - 0s 12ms/step - loss: 0.6252 - accuracy: 0.0446 - val_loss: 0.6065 - val_accuracy: 0.0526\n",
      "Epoch 44/100\n",
      "4/4 [==============================] - 0s 12ms/step - loss: 0.5991 - accuracy: 0.0446 - val_loss: 0.5789 - val_accuracy: 0.0526\n",
      "Epoch 45/100\n",
      "4/4 [==============================] - 0s 13ms/step - loss: 0.5740 - accuracy: 0.0446 - val_loss: 0.5502 - val_accuracy: 0.0526\n",
      "Epoch 46/100\n",
      "4/4 [==============================] - 0s 12ms/step - loss: 0.5443 - accuracy: 0.0446 - val_loss: 0.5183 - val_accuracy: 0.0526\n",
      "Epoch 47/100\n",
      "4/4 [==============================] - 0s 11ms/step - loss: 0.5104 - accuracy: 0.0446 - val_loss: 0.4816 - val_accuracy: 0.0526\n",
      "Epoch 48/100\n",
      "4/4 [==============================] - 0s 10ms/step - loss: 0.4689 - accuracy: 0.0446 - val_loss: 0.4556 - val_accuracy: 0.0526\n",
      "Epoch 49/100\n",
      "4/4 [==============================] - 0s 9ms/step - loss: 0.4366 - accuracy: 0.0446 - val_loss: 0.4321 - val_accuracy: 0.0526\n",
      "Epoch 50/100\n",
      "4/4 [==============================] - 0s 9ms/step - loss: 0.4031 - accuracy: 0.0446 - val_loss: 0.4090 - val_accuracy: 0.0526\n",
      "Epoch 51/100\n",
      "4/4 [==============================] - 0s 12ms/step - loss: 0.3717 - accuracy: 0.0446 - val_loss: 0.3861 - val_accuracy: 0.0526\n",
      "Epoch 52/100\n",
      "4/4 [==============================] - 0s 12ms/step - loss: 0.3434 - accuracy: 0.0446 - val_loss: 0.3659 - val_accuracy: 0.0526\n",
      "Epoch 53/100\n",
      "4/4 [==============================] - 0s 11ms/step - loss: 0.3183 - accuracy: 0.0446 - val_loss: 0.3457 - val_accuracy: 0.0526\n",
      "Epoch 54/100\n",
      "4/4 [==============================] - 0s 12ms/step - loss: 0.2927 - accuracy: 0.0446 - val_loss: 0.3222 - val_accuracy: 0.0526\n",
      "Epoch 55/100\n",
      "4/4 [==============================] - 0s 13ms/step - loss: 0.2700 - accuracy: 0.0446 - val_loss: 0.3025 - val_accuracy: 0.0526\n",
      "Epoch 56/100\n",
      "4/4 [==============================] - 0s 12ms/step - loss: 0.2503 - accuracy: 0.0446 - val_loss: 0.2858 - val_accuracy: 0.0526\n",
      "Epoch 57/100\n",
      "4/4 [==============================] - 0s 11ms/step - loss: 0.2325 - accuracy: 0.0446 - val_loss: 0.2730 - val_accuracy: 0.0526\n",
      "Epoch 58/100\n",
      "4/4 [==============================] - 0s 13ms/step - loss: 0.2178 - accuracy: 0.0446 - val_loss: 0.2611 - val_accuracy: 0.0526\n",
      "Epoch 59/100\n",
      "4/4 [==============================] - 0s 12ms/step - loss: 0.2044 - accuracy: 0.0446 - val_loss: 0.2482 - val_accuracy: 0.0526\n",
      "Epoch 60/100\n",
      "4/4 [==============================] - 0s 15ms/step - loss: 0.1920 - accuracy: 0.0446 - val_loss: 0.2403 - val_accuracy: 0.0526\n",
      "Epoch 61/100\n",
      "4/4 [==============================] - 0s 12ms/step - loss: 0.1825 - accuracy: 0.0446 - val_loss: 0.2348 - val_accuracy: 0.0526\n",
      "Epoch 62/100\n",
      "4/4 [==============================] - 0s 11ms/step - loss: 0.1742 - accuracy: 0.0446 - val_loss: 0.2333 - val_accuracy: 0.0526\n",
      "Epoch 63/100\n",
      "4/4 [==============================] - 0s 12ms/step - loss: 0.1681 - accuracy: 0.0446 - val_loss: 0.2326 - val_accuracy: 0.0526\n",
      "Epoch 64/100\n",
      "4/4 [==============================] - 0s 12ms/step - loss: 0.1629 - accuracy: 0.0446 - val_loss: 0.2276 - val_accuracy: 0.0526\n",
      "Epoch 65/100\n",
      "4/4 [==============================] - 0s 12ms/step - loss: 0.1582 - accuracy: 0.0446 - val_loss: 0.2223 - val_accuracy: 0.0526\n",
      "Epoch 66/100\n",
      "4/4 [==============================] - 0s 14ms/step - loss: 0.1539 - accuracy: 0.0446 - val_loss: 0.2185 - val_accuracy: 0.0526\n",
      "Epoch 67/100\n",
      "4/4 [==============================] - 0s 12ms/step - loss: 0.1514 - accuracy: 0.0446 - val_loss: 0.2164 - val_accuracy: 0.0526\n",
      "Epoch 68/100\n",
      "4/4 [==============================] - 0s 11ms/step - loss: 0.1494 - accuracy: 0.0446 - val_loss: 0.2153 - val_accuracy: 0.0526\n",
      "Epoch 69/100\n",
      "4/4 [==============================] - 0s 12ms/step - loss: 0.1476 - accuracy: 0.0446 - val_loss: 0.2123 - val_accuracy: 0.0526\n",
      "Epoch 70/100\n",
      "4/4 [==============================] - 0s 12ms/step - loss: 0.1468 - accuracy: 0.0446 - val_loss: 0.2127 - val_accuracy: 0.0526\n",
      "Epoch 71/100\n",
      "4/4 [==============================] - 0s 11ms/step - loss: 0.1453 - accuracy: 0.0446 - val_loss: 0.2103 - val_accuracy: 0.0526\n",
      "Epoch 72/100\n",
      "4/4 [==============================] - 0s 11ms/step - loss: 0.1441 - accuracy: 0.0446 - val_loss: 0.2077 - val_accuracy: 0.0526\n",
      "Epoch 73/100\n",
      "4/4 [==============================] - 0s 11ms/step - loss: 0.1433 - accuracy: 0.0446 - val_loss: 0.2057 - val_accuracy: 0.0526\n",
      "Epoch 74/100\n",
      "4/4 [==============================] - 0s 11ms/step - loss: 0.1424 - accuracy: 0.0446 - val_loss: 0.2047 - val_accuracy: 0.0526\n",
      "Epoch 75/100\n",
      "4/4 [==============================] - 0s 12ms/step - loss: 0.1416 - accuracy: 0.0446 - val_loss: 0.2023 - val_accuracy: 0.0526\n",
      "Epoch 76/100\n",
      "4/4 [==============================] - 0s 11ms/step - loss: 0.1408 - accuracy: 0.0446 - val_loss: 0.2011 - val_accuracy: 0.0526\n",
      "Epoch 77/100\n",
      "4/4 [==============================] - 0s 11ms/step - loss: 0.1402 - accuracy: 0.0446 - val_loss: 0.2016 - val_accuracy: 0.0526\n",
      "Epoch 78/100\n",
      "4/4 [==============================] - 0s 12ms/step - loss: 0.1394 - accuracy: 0.0446 - val_loss: 0.1989 - val_accuracy: 0.0526\n",
      "Epoch 79/100\n",
      "4/4 [==============================] - 0s 12ms/step - loss: 0.1391 - accuracy: 0.0446 - val_loss: 0.1959 - val_accuracy: 0.0526\n",
      "Epoch 80/100\n",
      "4/4 [==============================] - 0s 12ms/step - loss: 0.1382 - accuracy: 0.0446 - val_loss: 0.1960 - val_accuracy: 0.0526\n",
      "Epoch 81/100\n",
      "4/4 [==============================] - 0s 12ms/step - loss: 0.1375 - accuracy: 0.0446 - val_loss: 0.1961 - val_accuracy: 0.0526\n",
      "Epoch 82/100\n",
      "4/4 [==============================] - 0s 12ms/step - loss: 0.1369 - accuracy: 0.0446 - val_loss: 0.1952 - val_accuracy: 0.0526\n",
      "Epoch 83/100\n",
      "4/4 [==============================] - 0s 11ms/step - loss: 0.1364 - accuracy: 0.0446 - val_loss: 0.1949 - val_accuracy: 0.0526\n",
      "Epoch 84/100\n",
      "4/4 [==============================] - 0s 15ms/step - loss: 0.1362 - accuracy: 0.0446 - val_loss: 0.1947 - val_accuracy: 0.0526\n",
      "Epoch 85/100\n",
      "4/4 [==============================] - 0s 12ms/step - loss: 0.1354 - accuracy: 0.0446 - val_loss: 0.1910 - val_accuracy: 0.0526\n",
      "Epoch 86/100\n",
      "4/4 [==============================] - 0s 12ms/step - loss: 0.1351 - accuracy: 0.0446 - val_loss: 0.1881 - val_accuracy: 0.0526\n",
      "Epoch 87/100\n",
      "4/4 [==============================] - 0s 11ms/step - loss: 0.1347 - accuracy: 0.0446 - val_loss: 0.1872 - val_accuracy: 0.0526\n",
      "Epoch 88/100\n",
      "4/4 [==============================] - 0s 11ms/step - loss: 0.1343 - accuracy: 0.0446 - val_loss: 0.1877 - val_accuracy: 0.0526\n",
      "Epoch 89/100\n",
      "4/4 [==============================] - 0s 11ms/step - loss: 0.1338 - accuracy: 0.0446 - val_loss: 0.1879 - val_accuracy: 0.0526\n",
      "Epoch 90/100\n",
      "4/4 [==============================] - 0s 12ms/step - loss: 0.1333 - accuracy: 0.0446 - val_loss: 0.1874 - val_accuracy: 0.0526\n",
      "Epoch 91/100\n",
      "4/4 [==============================] - 0s 13ms/step - loss: 0.1329 - accuracy: 0.0446 - val_loss: 0.1862 - val_accuracy: 0.0526\n",
      "Epoch 92/100\n",
      "4/4 [==============================] - 0s 14ms/step - loss: 0.1327 - accuracy: 0.0446 - val_loss: 0.1856 - val_accuracy: 0.0526\n",
      "Epoch 93/100\n",
      "4/4 [==============================] - 0s 12ms/step - loss: 0.1322 - accuracy: 0.0446 - val_loss: 0.1829 - val_accuracy: 0.0526\n",
      "Epoch 94/100\n",
      "4/4 [==============================] - 0s 11ms/step - loss: 0.1322 - accuracy: 0.0446 - val_loss: 0.1819 - val_accuracy: 0.0526\n",
      "Epoch 95/100\n",
      "4/4 [==============================] - 0s 12ms/step - loss: 0.1318 - accuracy: 0.0446 - val_loss: 0.1810 - val_accuracy: 0.0526\n",
      "Epoch 96/100\n",
      "4/4 [==============================] - 0s 12ms/step - loss: 0.1312 - accuracy: 0.0446 - val_loss: 0.1808 - val_accuracy: 0.0526\n",
      "Epoch 97/100\n",
      "4/4 [==============================] - 0s 11ms/step - loss: 0.1310 - accuracy: 0.0446 - val_loss: 0.1800 - val_accuracy: 0.0526\n",
      "Epoch 98/100\n",
      "4/4 [==============================] - 0s 12ms/step - loss: 0.1307 - accuracy: 0.0446 - val_loss: 0.1791 - val_accuracy: 0.0526\n",
      "Epoch 99/100\n",
      "4/4 [==============================] - 0s 11ms/step - loss: 0.1307 - accuracy: 0.0446 - val_loss: 0.1778 - val_accuracy: 0.0526\n",
      "Epoch 100/100\n",
      "4/4 [==============================] - 0s 11ms/step - loss: 0.1300 - accuracy: 0.0446 - val_loss: 0.1786 - val_accuracy: 0.0526\n"
     ]
    },
    {
     "data": {
      "text/plain": [
       "<keras.callbacks.History at 0x2af0e5f5760>"
      ]
     },
     "execution_count": 63,
     "metadata": {},
     "output_type": "execute_result"
    }
   ],
   "source": [
    "##  TRAIN THE MODEL\n",
    "# fit and display the summary\n",
    "#model.fit(x_train,y_train, batch_size=100,epochs=100)\n",
    "model.fit(x_train,y_train,validation_data=(x_test,y_test),epochs=100)\n",
    "#model.fit(x_train,y_train,epochs=1000,verbose=1)\n",
    "#verbose=1 paraeter for visulise epoch "
   ]
  },
  {
   "cell_type": "code",
   "execution_count": 64,
   "id": "ada9cfcc",
   "metadata": {},
   "outputs": [],
   "source": [
    "# given 100 epochs in 4 layers"
   ]
  },
  {
   "cell_type": "code",
   "execution_count": 65,
   "id": "f5fb0f71",
   "metadata": {},
   "outputs": [
    {
     "name": "stdout",
     "output_type": "stream",
     "text": [
      "2/2 [==============================] - 0s 3ms/step\n",
      "[0.3 1.5 1.2 0.2 0.4] [[-0.10434344]\n",
      " [ 1.5950947 ]\n",
      " [ 1.7084649 ]\n",
      " [ 0.24040714]\n",
      " [ 0.29407766]]\n"
     ]
    }
   ],
   "source": [
    "# Model prediction / testing the test dataset\n",
    "y_pred_r=model.predict(x_test)\n",
    "print(y_test[:5],y_pred_r[:5])"
   ]
  },
  {
   "cell_type": "code",
   "execution_count": 66,
   "id": "a07ab109",
   "metadata": {},
   "outputs": [
    {
     "name": "stdout",
     "output_type": "stream",
     "text": [
      "0.3295591668078774 0.17855632936833854 0.6396754621905472\n"
     ]
    }
   ],
   "source": [
    "# model evaluation\n",
    "from sklearn import metrics\n",
    "\n",
    "mae=metrics.mean_absolute_error(y_test,y_pred_r)\n",
    "mse=metrics.mean_squared_error(y_pred_r,y_test)\n",
    "r2sq=metrics.r2_score(y_pred_r,y_test)\n",
    "\n",
    "print(mae,mse,r2sq)"
   ]
  },
  {
   "cell_type": "raw",
   "id": "a2b4d319",
   "metadata": {},
   "source": []
  },
  {
   "cell_type": "raw",
   "id": "0e555b05",
   "metadata": {},
   "source": [
    "visualization"
   ]
  },
  {
   "cell_type": "code",
   "execution_count": 67,
   "id": "ef7db6c6",
   "metadata": {
    "scrolled": true
   },
   "outputs": [
    {
     "data": {
      "image/png": "[encoded data removed]",
      "text/plain": [
       "<Figure size 432x288 with 1 Axes>"
      ]
     },
     "metadata": {
      "needs_background": "light"
     },
     "output_type": "display_data"
    }
   ],
   "source": [
    "import matplotlib.pyplot as plt\n",
    "plt.scatter(x=x_test[:,0],y=y_test,label ='actual')\n",
    "plt.scatter(x_test[:,0],y_pred_r, c='y',label ='predicted')\n",
    "plt.plot(x_test[:5,0],y_pred_r[:5], c='r',label ='predicted')\n",
    "plt.legend()\n",
    "plt.grid()\n",
    "plt.show()"
   ]
  },
  {
   "cell_type": "code",
   "execution_count": 68,
   "id": "36294685",
   "metadata": {},
   "outputs": [
    {
     "data": {
      "image/png": "[encoded data removed]",
      "text/plain": [
       "<Figure size 432x288 with 1 Axes>"
      ]
     },
     "metadata": {
      "needs_background": "light"
     },
     "output_type": "display_data"
    }
   ],
   "source": [
    "import matplotlib.pyplot as plt\n",
    "plt.scatter(x=y_test,y=y_pred_r,label ='actual')\n",
    "plt.legend()\n",
    "plt.grid()\n",
    "plt.show()"
   ]
  },
  {
   "cell_type": "code",
   "execution_count": null,
   "id": "a07c5969",
   "metadata": {},
   "outputs": [],
   "source": []
  },
  {
   "cell_type": "code",
   "execution_count": 69,
   "id": "4233e630",
   "metadata": {},
   "outputs": [],
   "source": [
    "from sklearn import metrics"
   ]
  },
  {
   "cell_type": "code",
   "execution_count": 70,
   "id": "8dbd84a6",
   "metadata": {},
   "outputs": [],
   "source": [
    "mae=metrics.mean_absolute_error(y_test,y_pred_r)\n",
    "mse=metrics.mean_squared_error(y_pred_r,y_test)\n",
    "r2sq=metrics.r2_score(y_pred_r,y_test)"
   ]
  },
  {
   "cell_type": "code",
   "execution_count": 71,
   "id": "32635864",
   "metadata": {},
   "outputs": [
    {
     "name": "stdout",
     "output_type": "stream",
     "text": [
      "0.3295591668078774 0.17855632936833854 0.6396754621905472\n"
     ]
    }
   ],
   "source": [
    "print(mae,mse,r2sq)"
   ]
  },
  {
   "cell_type": "code",
   "execution_count": null,
   "id": "7bc4e2c2",
   "metadata": {},
   "outputs": [],
   "source": []
  },
  {
   "cell_type": "markdown",
   "id": "4e0d6977",
   "metadata": {},
   "source": [
    "# 2. from sklearn.neural_network import MLPRegressor\n",
    "- https://stackoverflow.com/questions/55786860/how-is-the-hidden-layer-size-determined-for-mlpregressor-in-scikitlearn"
   ]
  },
  {
   "cell_type": "code",
   "execution_count": 72,
   "id": "0f9a82e4",
   "metadata": {},
   "outputs": [
    {
     "name": "stdout",
     "output_type": "stream",
     "text": [
      "y_test [0.3 1.5 1.2 0.2 0.4 1.3 2.5 1.1 1.4 1.8 1.8 1.3 1.3 1.  2.3 0.2 1.2 2.5\n",
      " 0.1 1.6 1.3 0.2 1.5 1.  0.2 0.4 2.1 2.3 2.  1.5 0.2 2.3 1.5 1.8 0.2 0.2\n",
      " 1.8 0.1]\n",
      "y_pred_r [0.01879973 1.43188419 1.26836063 0.37377016 0.57835958 1.35012241\n",
      " 2.04977831 1.07475514 1.07792443 1.68014967 1.63926878 1.62232039\n",
      " 1.73797894 1.42490007 1.68713379 0.59901265 1.30793907 1.60920071\n",
      " 0.41878286 2.15657005 1.5814395  0.19542975 1.87451411 1.02297382\n",
      " 0.16591297 0.0681939  1.94417908 1.40109535 2.45057186 1.50666185\n",
      " 0.19720513 1.91104461 1.7479432  1.77885983 0.57835958 0.26741224\n",
      " 1.54754274 0.46208517]\n",
      "0.2697821053991374 0.1223741007647035 0.7240736052011382\n"
     ]
    },
    {
     "name": "stderr",
     "output_type": "stream",
     "text": [
      "C:\\ProgramData\\Anaconda3\\lib\\site-packages\\sklearn\\neural_network\\_multilayer_perceptron.py:500: ConvergenceWarning: lbfgs failed to converge (status=1):\n",
      "STOP: TOTAL NO. of ITERATIONS REACHED LIMIT.\n",
      "\n",
      "Increase the number of iterations (max_iter) or scale the data as shown in:\n",
      "    https://scikit-learn.org/stable/modules/preprocessing.html\n",
      "  self.n_iter_ = _check_optimize_result(\"lbfgs\", opt_res, self.max_iter)\n"
     ]
    },
    {
     "data": {
      "image/png": "[encoded data removed]",
      "text/plain": [
       "<Figure size 432x288 with 1 Axes>"
      ]
     },
     "metadata": {
      "needs_background": "light"
     },
     "output_type": "display_data"
    },
    {
     "data": {
      "image/png": "[encoded data removed]",
      "text/plain": [
       "<Figure size 432x288 with 1 Axes>"
      ]
     },
     "metadata": {
      "needs_background": "light"
     },
     "output_type": "display_data"
    }
   ],
   "source": [
    "from sklearn.neural_network import MLPRegressor\n",
    "\n",
    "mlpr=MLPRegressor(hidden_layer_sizes=(10,10,),activation='logistic',\n",
    "                  max_iter=10, solver='lbfgs')\n",
    "\n",
    "mlpr=MLPRegressor(hidden_layer_sizes=(10,10,),activation='relu',\n",
    "                  max_iter=10, solver='lbfgs')\n",
    "\n",
    "mlpr=MLPRegressor(hidden_layer_sizes=(10,10,),activation='relu',\n",
    "                  max_iter=10, solver='lbfgs')\n",
    "\n",
    "mlpr.fit(x_train, y_train)\n",
    "\n",
    "y_pred_r=mlpr.predict(x_test)\n",
    "print('y_test',y_test)\n",
    "print('y_pred_r',y_pred_r)\n",
    "\n",
    "\n",
    "from sklearn import metrics\n",
    "\n",
    "mae=metrics.mean_absolute_error(y_test,y_pred_r)\n",
    "mse=metrics.mean_squared_error(y_pred_r,y_test)\n",
    "r2sq=metrics.r2_score(y_pred_r,y_test)\n",
    "\n",
    "print(mae,mse,r2sq)\n",
    "\n",
    " #visualization\n",
    "import matplotlib.pyplot as plt\n",
    "plt.scatter(x=x_test[:,0],y=y_test,label ='actual')\n",
    "plt.scatter(x_test[:,0],y_pred_r, c='y',label ='predicted')\n",
    "plt.plot(x_test[:5,0],y_pred_r[:5], c='r',label ='predicted')\n",
    "plt.legend()\n",
    "plt.grid()\n",
    "plt.show()\n",
    "import matplotlib.pyplot as plt\n",
    "plt.scatter(x=y_test,y=y_pred_r,label ='actual')\n",
    "plt.legend()\n",
    "plt.grid()\n",
    "plt.show()"
   ]
  },
  {
   "cell_type": "markdown",
   "id": "f4a46286",
   "metadata": {},
   "source": [
    "# from sklearn.linear_model import LinearRegression"
   ]
  },
  {
   "cell_type": "markdown",
   "id": "5284eedc",
   "metadata": {},
   "source": [
    "https://www.cuemath.com/data/correlation-and-regression/\n",
    "\n",
    "Regression analysis is used to determine the relationship between two variables such that the value of the unknown variable can be estimated using the knowledge of the known variables.\n"
   ]
  },
  {
   "cell_type": "raw",
   "id": "b2bd2fd3",
   "metadata": {},
   "source": [
    "x=x_test[:,0]\n",
    "y=y_test\n",
    "x,y"
   ]
  },
  {
   "cell_type": "code",
   "execution_count": 73,
   "id": "69575136",
   "metadata": {},
   "outputs": [
    {
     "data": {
      "text/plain": [
       "(array([0.22222222, 0.63888889, 0.86111111, 0.        ]),\n",
       " array([[0.22222222, 0.70833333],\n",
       "        [0.63888889, 0.375     ],\n",
       "        [0.86111111, 0.33333333],\n",
       "        [0.        , 0.41666667]]),\n",
       " array([0.        , 0.41935484, 0.29032258, 0.06451613]),\n",
       " array([[0.        , 0.66666667],\n",
       "        [0.41935484, 0.4       ],\n",
       "        [0.29032258, 0.13333333],\n",
       "        [0.06451613, 0.46666667]]))"
      ]
     },
     "execution_count": 73,
     "metadata": {},
     "output_type": "execute_result"
    }
   ],
   "source": [
    "#x_train[start_row0:stop_row4,start_column0] -start:stop:step\n",
    "x_train[:4,0],x_train[:4],x_test[:4,0],x_test[:4]"
   ]
  },
  {
   "cell_type": "code",
   "execution_count": 74,
   "id": "66637291",
   "metadata": {},
   "outputs": [
    {
     "data": {
      "text/plain": [
       "(array([0.4, 1.3, 1.9, 0.1]),\n",
       " array([0.4, 1.3, 1.9, 0.1]),\n",
       " array([0.3, 1.5, 1.2, 0.2]),\n",
       " array([0.3, 1.5, 1.2, 0.2]))"
      ]
     },
     "execution_count": 74,
     "metadata": {},
     "output_type": "execute_result"
    }
   ],
   "source": [
    "y_train[:4],y_train[:4],y_test[:4],y_test[:4]"
   ]
  },
  {
   "cell_type": "code",
   "execution_count": 75,
   "id": "608a6977",
   "metadata": {},
   "outputs": [
    {
     "name": "stdout",
     "output_type": "stream",
     "text": [
      "0.7542547834376911\n",
      "---------------------------------------\n",
      "[0.3 1.5 1.2 0.2]\n",
      "[-0.16283954  1.21853916  1.21059647  0.23982738]\n",
      "---------------------------------------\n",
      "2.533468405579969 0.6345516162534967\n",
      "-1.1960867374603343 0.6345516162534967\n",
      "[ 2.53346841 -1.19608674] 0.6345516162534967\n",
      "---------------------------------------\n",
      "[[0.         0.66666667]] [0.]\n",
      "---------------------------------------\n",
      "y=b1*x1+b2*x2+c\n",
      "0.14795671540869348\n",
      "[-0.16283954]\n"
     ]
    }
   ],
   "source": [
    "# mlr\n",
    "from sklearn.linear_model import LinearRegression\n",
    "model =LinearRegression()\n",
    "model.fit(x_train,y_train)\n",
    "print(model.score(x_train,y_train))\n",
    "print('---------------------------------------')\n",
    "y_pred=model.predict(x_test)\n",
    "print(y_test[:4])\n",
    "print(y_pred[:4])\n",
    "print('---------------------------------------')\n",
    "print(model.coef_[0],model.intercept_)\n",
    "print(model.coef_[1],model.intercept_)\n",
    "print(model.coef_,model.intercept_)\n",
    "print('---------------------------------------')\n",
    "print(x_test[:1],x_test[:1,0])\n",
    "print('---------------------------------------')\n",
    "print('y=b1*x1+b2*x2+c')\n",
    "mlr_1=(2.533468405579969*0.08333333+-1.1960867374603343*0.58333333+0.6345516162534967)\n",
    "print(mlr_1)\n",
    "mlr_=(x_test[:1,0]*model.coef_[0]+x_test[:1,1]*model.coef_[1]+model.intercept_)\n",
    "print(mlr_)"
   ]
  },
  {
   "cell_type": "code",
   "execution_count": 76,
   "id": "4add382c",
   "metadata": {},
   "outputs": [
    {
     "name": "stdout",
     "output_type": "stream",
     "text": [
      "0.3308054213888762 0.19470351690821103 0.6096798363761641\n"
     ]
    }
   ],
   "source": [
    "from sklearn import metrics\n",
    "\n",
    "mae=metrics.mean_absolute_error(y_test,y_pred)\n",
    "mse=metrics.mean_squared_error(y_pred,y_test)\n",
    "r2sq=metrics.r2_score(y_pred,y_test)\n",
    "print(mae,mse,r2sq)"
   ]
  },
  {
   "cell_type": "code",
   "execution_count": 77,
   "id": "ddfcdba4",
   "metadata": {},
   "outputs": [
    {
     "data": {
      "image/png": "[encoded data removed]",
      "text/plain": [
       "<Figure size 432x288 with 1 Axes>"
      ]
     },
     "metadata": {
      "needs_background": "light"
     },
     "output_type": "display_data"
    },
    {
     "data": {
      "image/png": "[encoded data removed]",
      "text/plain": [
       "<Figure size 432x288 with 1 Axes>"
      ]
     },
     "metadata": {
      "needs_background": "light"
     },
     "output_type": "display_data"
    }
   ],
   "source": [
    "import matplotlib.pyplot as plt\n",
    "plt.scatter(x=x_test[:,0],y=y_test,label ='actual')\n",
    "plt.scatter(x_test[:,0],y_pred, c='y',label ='predicted')\n",
    "plt.plot(x_test[:5,0],y_pred[:5], c='r',label ='predicted')\n",
    "plt.legend()\n",
    "plt.grid()\n",
    "plt.show()\n",
    "\n",
    "import matplotlib.pyplot as plt\n",
    "plt.scatter(x=y_test,y=y_pred,label ='actual')\n",
    "plt.legend()\n",
    "plt.grid()\n",
    "plt.show()\n",
    "\n"
   ]
  },
  {
   "cell_type": "raw",
   "id": "45d38178",
   "metadata": {},
   "source": [
    "Om Kant Sharma"
   ]
  },
  {
   "cell_type": "raw",
   "id": "6a9823b5",
   "metadata": {},
   "source": []
  }
 ],
 "metadata": {
  "kernelspec": {
   "display_name": "Python 3 (ipykernel)",
   "language": "python",
   "name": "python3"
  },
  "language_info": {
   "codemirror_mode": {
    "name": "ipython",
    "version": 3
   },
   "file_extension": ".py",
   "mimetype": "text/x-python",
   "name": "python",
   "nbconvert_exporter": "python",
   "pygments_lexer": "ipython3",
   "version": "3.9.7"
  }
 },
 "nbformat": 4,
 "nbformat_minor": 5
}
