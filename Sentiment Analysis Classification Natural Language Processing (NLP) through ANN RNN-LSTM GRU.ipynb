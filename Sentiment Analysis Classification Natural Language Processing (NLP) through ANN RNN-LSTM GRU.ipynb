{
 "cells": [
  {
   "cell_type": "code",
   "execution_count": 1,
   "id": "b07dfb30",
   "metadata": {},
   "outputs": [],
   "source": [
    "import pandas as pd \n",
    "import numpy as np"
   ]
  },
  {
   "cell_type": "code",
   "execution_count": 2,
   "id": "e4d5de1d",
   "metadata": {},
   "outputs": [],
   "source": [
    "df=pd.read_csv('Sheet_1.csv')"
   ]
  },
  {
   "cell_type": "code",
   "execution_count": 3,
   "id": "5e8ddeaa",
   "metadata": {
    "scrolled": true
   },
   "outputs": [
    {
     "data": {
      "text/html": [
       "<div>\n",
       "<style scoped>\n",
       "    .dataframe tbody tr th:only-of-type {\n",
       "        vertical-align: middle;\n",
       "    }\n",
       "\n",
       "    .dataframe tbody tr th {\n",
       "        vertical-align: top;\n",
       "    }\n",
       "\n",
       "    .dataframe thead th {\n",
       "        text-align: right;\n",
       "    }\n",
       "</style>\n",
       "<table border=\"1\" class=\"dataframe\">\n",
       "  <thead>\n",
       "    <tr style=\"text-align: right;\">\n",
       "      <th></th>\n",
       "      <th>response_id</th>\n",
       "      <th>class</th>\n",
       "      <th>response_text</th>\n",
       "      <th>Unnamed: 3</th>\n",
       "      <th>Unnamed: 4</th>\n",
       "      <th>Unnamed: 5</th>\n",
       "      <th>Unnamed: 6</th>\n",
       "      <th>Unnamed: 7</th>\n",
       "    </tr>\n",
       "  </thead>\n",
       "  <tbody>\n",
       "    <tr>\n",
       "      <th>0</th>\n",
       "      <td>response_1</td>\n",
       "      <td>not_flagged</td>\n",
       "      <td>I try and avoid this sort of conflict</td>\n",
       "      <td>NaN</td>\n",
       "      <td>NaN</td>\n",
       "      <td>NaN</td>\n",
       "      <td>NaN</td>\n",
       "      <td>NaN</td>\n",
       "    </tr>\n",
       "    <tr>\n",
       "      <th>1</th>\n",
       "      <td>response_2</td>\n",
       "      <td>flagged</td>\n",
       "      <td>Had a friend open up to me about his mental ad...</td>\n",
       "      <td>NaN</td>\n",
       "      <td>NaN</td>\n",
       "      <td>NaN</td>\n",
       "      <td>NaN</td>\n",
       "      <td>NaN</td>\n",
       "    </tr>\n",
       "    <tr>\n",
       "      <th>2</th>\n",
       "      <td>response_3</td>\n",
       "      <td>flagged</td>\n",
       "      <td>I saved a girl from suicide once. She was goin...</td>\n",
       "      <td>NaN</td>\n",
       "      <td>NaN</td>\n",
       "      <td>NaN</td>\n",
       "      <td>NaN</td>\n",
       "      <td>NaN</td>\n",
       "    </tr>\n",
       "  </tbody>\n",
       "</table>\n",
       "</div>"
      ],
      "text/plain": [
       "  response_id        class                                      response_text  \\\n",
       "0  response_1  not_flagged              I try and avoid this sort of conflict   \n",
       "1  response_2      flagged  Had a friend open up to me about his mental ad...   \n",
       "2  response_3      flagged  I saved a girl from suicide once. She was goin...   \n",
       "\n",
       "  Unnamed: 3  Unnamed: 4 Unnamed: 5  Unnamed: 6 Unnamed: 7  \n",
       "0        NaN         NaN        NaN         NaN        NaN  \n",
       "1        NaN         NaN        NaN         NaN        NaN  \n",
       "2        NaN         NaN        NaN         NaN        NaN  "
      ]
     },
     "execution_count": 3,
     "metadata": {},
     "output_type": "execute_result"
    }
   ],
   "source": [
    "df.head(3)"
   ]
  },
  {
   "cell_type": "code",
   "execution_count": 4,
   "id": "b4150719",
   "metadata": {},
   "outputs": [],
   "source": [
    "df['text']=df['response_text']"
   ]
  },
  {
   "cell_type": "code",
   "execution_count": 5,
   "id": "c3206b69",
   "metadata": {},
   "outputs": [
    {
     "data": {
      "text/plain": [
       "(0                I try and avoid this sort of conflict\n",
       " 1    Had a friend open up to me about his mental ad...\n",
       " 2    I saved a girl from suicide once. She was goin...\n",
       " Name: text, dtype: object,\n",
       " 80,\n",
       " (80,))"
      ]
     },
     "execution_count": 5,
     "metadata": {},
     "output_type": "execute_result"
    }
   ],
   "source": [
    "x=df['text']\n",
    "x.head(3),x.nunique(),x.shape"
   ]
  },
  {
   "cell_type": "code",
   "execution_count": 6,
   "id": "7739f400",
   "metadata": {},
   "outputs": [
    {
     "data": {
      "text/plain": [
       "not_flagged    55\n",
       "flagged        25\n",
       "Name: class, dtype: int64"
      ]
     },
     "execution_count": 6,
     "metadata": {},
     "output_type": "execute_result"
    }
   ],
   "source": [
    "df['class'].value_counts()"
   ]
  },
  {
   "cell_type": "code",
   "execution_count": 7,
   "id": "7793ed1e",
   "metadata": {},
   "outputs": [
    {
     "data": {
      "text/plain": [
       "1    55\n",
       "0    25\n",
       "Name: class, dtype: int64"
      ]
     },
     "execution_count": 7,
     "metadata": {},
     "output_type": "execute_result"
    }
   ],
   "source": [
    "from sklearn.preprocessing import LabelEncoder\n",
    "lb=LabelEncoder()\n",
    "df['class']=lb.fit_transform(df['class'])\n",
    "df['class'].value_counts()"
   ]
  },
  {
   "cell_type": "code",
   "execution_count": 8,
   "id": "26a32e53",
   "metadata": {},
   "outputs": [],
   "source": [
    "y=df['class']"
   ]
  },
  {
   "cell_type": "markdown",
   "id": "36938346",
   "metadata": {},
   "source": [
    "# CountVectorizer"
   ]
  },
  {
   "cell_type": "code",
   "execution_count": 9,
   "id": "d9741e38",
   "metadata": {},
   "outputs": [
    {
     "data": {
      "text/plain": [
       "<80x505 sparse matrix of type '<class 'numpy.int64'>'\n",
       "\twith 913 stored elements in Compressed Sparse Row format>"
      ]
     },
     "execution_count": 9,
     "metadata": {},
     "output_type": "execute_result"
    }
   ],
   "source": [
    "from sklearn.feature_extraction.text import CountVectorizer\n",
    "from nltk.tokenize import RegexpTokenizer\n",
    "token = RegexpTokenizer(r'[a-zA-Z0-9]+')\n",
    "cv = CountVectorizer(lowercase=True,stop_words='english',ngram_range=(1,1), tokenizer = token.tokenize)\n",
    "x = cv.fit_transform(df['text'])\n",
    "x"
   ]
  },
  {
   "cell_type": "raw",
   "id": "fad52e8c",
   "metadata": {},
   "source": [
    "from sklearn.feature_extraction.text import CountVectorizer\n",
    "cv = CountVectorizer()\n",
    "x = cv.fit_transform(df['text'])\n",
    "x"
   ]
  },
  {
   "cell_type": "code",
   "execution_count": 10,
   "id": "416be32d",
   "metadata": {},
   "outputs": [
    {
     "name": "stdout",
     "output_type": "stream",
     "text": [
      "[[0. 1.]\n",
      " [1. 0.]\n",
      " [1. 0.]\n",
      " [0. 1.]\n",
      " [0. 1.]]\n"
     ]
    }
   ],
   "source": [
    "from keras.utils import np_utils\n",
    "npy=np_utils.to_categorical(y)\n",
    "print(npy[:5])"
   ]
  },
  {
   "cell_type": "markdown",
   "id": "0918f8a6",
   "metadata": {},
   "source": [
    "# ANN"
   ]
  },
  {
   "cell_type": "code",
   "execution_count": 11,
   "id": "4993ab66",
   "metadata": {},
   "outputs": [
    {
     "name": "stdout",
     "output_type": "stream",
     "text": [
      "(60, 505)\n",
      "(20, 505)\n",
      "(60, 2)\n",
      "(20, 2)\n",
      "(60, 505)\n",
      "(20, 505)\n",
      "(60, 2)\n",
      "(20, 2)\n",
      "Model: \"sequential\"\n",
      "_________________________________________________________________\n",
      " Layer (type)                Output Shape              Param #   \n",
      "=================================================================\n",
      " dense (Dense)               (None, 16)                8096      \n",
      "                                                                 \n",
      " dense_1 (Dense)             (None, 2)                 34        \n",
      "                                                                 \n",
      "=================================================================\n",
      "Total params: 8,130\n",
      "Trainable params: 8,130\n",
      "Non-trainable params: 0\n",
      "_________________________________________________________________\n",
      "Epoch 1/10\n"
     ]
    },
    {
     "name": "stderr",
     "output_type": "stream",
     "text": [
      "C:\\ProgramData\\Anaconda3\\lib\\site-packages\\tensorflow\\python\\framework\\indexed_slices.py:444: UserWarning: Converting sparse IndexedSlices(IndexedSlices(indices=Tensor(\"gradient_tape/sequential/dense/embedding_lookup_sparse/Reshape_1:0\", shape=(None,), dtype=int32), values=Tensor(\"gradient_tape/sequential/dense/embedding_lookup_sparse/Reshape:0\", shape=(None, 16), dtype=float32), dense_shape=Tensor(\"gradient_tape/sequential/dense/embedding_lookup_sparse/Cast:0\", shape=(2,), dtype=int32))) to a dense Tensor of unknown shape. This may consume a large amount of memory.\n",
      "  warnings.warn(\n"
     ]
    },
    {
     "name": "stdout",
     "output_type": "stream",
     "text": [
      "2/2 [==============================] - 1s 4ms/step - loss: 0.8844 - accuracy: 0.6667\n",
      "Epoch 2/10\n",
      "2/2 [==============================] - 0s 3ms/step - loss: 0.7433 - accuracy: 0.6833\n",
      "Epoch 3/10\n",
      "2/2 [==============================] - 0s 3ms/step - loss: 0.6267 - accuracy: 0.7333\n",
      "Epoch 4/10\n",
      "2/2 [==============================] - 0s 4ms/step - loss: 0.5591 - accuracy: 0.7667\n",
      "Epoch 5/10\n",
      "2/2 [==============================] - 0s 4ms/step - loss: 0.5015 - accuracy: 0.7667\n",
      "Epoch 6/10\n",
      "2/2 [==============================] - 0s 3ms/step - loss: 0.4517 - accuracy: 0.7833\n",
      "Epoch 7/10\n",
      "2/2 [==============================] - 0s 2ms/step - loss: 0.4159 - accuracy: 0.8000\n",
      "Epoch 8/10\n",
      "2/2 [==============================] - 0s 2ms/step - loss: 0.3848 - accuracy: 0.8167\n",
      "Epoch 9/10\n",
      "2/2 [==============================] - 0s 4ms/step - loss: 0.3564 - accuracy: 0.8167\n",
      "Epoch 10/10\n",
      "2/2 [==============================] - 0s 2ms/step - loss: 0.3355 - accuracy: 0.8167\n"
     ]
    },
    {
     "data": {
      "text/plain": [
       "<keras.callbacks.History at 0x1611c8183d0>"
      ]
     },
     "execution_count": 11,
     "metadata": {},
     "output_type": "execute_result"
    }
   ],
   "source": [
    "from sklearn.model_selection import train_test_split\n",
    "x_train,x_test,y_train,y_test=train_test_split(x,npy,test_size=.25, random_state=15)\n",
    "\n",
    "print(x_train.shape)\n",
    "print(x_test.shape)\n",
    "print(y_train.shape)\n",
    "print(y_test.shape)\n",
    "\n",
    "from sklearn.preprocessing import StandardScaler\n",
    "sc = StandardScaler(with_mean=False)\n",
    "x_train = sc.fit_transform(x_train)\n",
    "x_test = sc.transform(x_test)\n",
    "\n",
    "print(x_train.shape)\n",
    "print(x_test.shape)\n",
    "print(y_train.shape)\n",
    "print(y_test.shape)\n",
    "\n",
    "import tensorflow as tf\n",
    "from tensorflow import keras\n",
    "from keras.models import Sequential\n",
    "from keras.layers import Dense,Activation,Dropout\n",
    "from keras.optimizers import Adam\n",
    "from keras.metrics import categorical_crossentropy\n",
    "\n",
    "model = Sequential()\n",
    "model.add(Dense(units=16,activation='relu', input_dim=505)) \n",
    "model.add(Dense(units=2,activation='sigmoid'))\n",
    "\n",
    "\n",
    "model.compile(optimizer= 'Adam', loss='categorical_crossentropy',metrics=['accuracy'])\n",
    "\n",
    "\n",
    "model.summary()\n",
    "\n",
    "model.fit(x_train,y_train, epochs=10, verbose=1)"
   ]
  },
  {
   "cell_type": "code",
   "execution_count": 12,
   "id": "b1ff691f",
   "metadata": {},
   "outputs": [
    {
     "name": "stdout",
     "output_type": "stream",
     "text": [
      "1/1 [==============================] - 0s 84ms/step\n"
     ]
    },
    {
     "data": {
      "text/plain": [
       "array([[0.5290749 , 0.8302494 ],\n",
       "       [0.56156003, 0.53598475],\n",
       "       [0.8187493 , 0.89032173],\n",
       "       [0.61716294, 0.6754408 ],\n",
       "       [0.6080903 , 0.73351926],\n",
       "       [0.16555728, 0.4859988 ],\n",
       "       [0.33346853, 0.6169858 ],\n",
       "       [0.24020985, 0.80633867],\n",
       "       [0.45718488, 0.5602619 ],\n",
       "       [0.5195393 , 0.57742447],\n",
       "       [0.41907957, 0.5384567 ],\n",
       "       [0.40747267, 0.70419014],\n",
       "       [0.34848258, 0.8408444 ],\n",
       "       [0.48398453, 0.60092   ],\n",
       "       [0.40631115, 0.8984616 ],\n",
       "       [0.18614896, 0.83808017],\n",
       "       [0.27955285, 0.4629471 ],\n",
       "       [0.42439848, 0.5979068 ],\n",
       "       [0.5134166 , 0.8559857 ],\n",
       "       [0.50435966, 0.53181094]], dtype=float32)"
      ]
     },
     "execution_count": 12,
     "metadata": {},
     "output_type": "execute_result"
    }
   ],
   "source": [
    "y_pred=model.predict(x_test)\n",
    "y_pred"
   ]
  },
  {
   "cell_type": "raw",
   "id": "a6f7d2d9",
   "metadata": {},
   "source": [
    "https://www.geeksforgeeks.org/numpy-argmax-python/"
   ]
  },
  {
   "cell_type": "code",
   "execution_count": 13,
   "id": "b2e6fd96",
   "metadata": {},
   "outputs": [
    {
     "data": {
      "text/plain": [
       "(array([1, 0, 1, 1, 1, 1, 1, 1, 1, 1, 1, 1, 1, 1, 1, 1, 1, 1, 1, 1],\n",
       "       dtype=int64),\n",
       " array([0, 1, 0, 0, 0, 0, 0, 1, 1, 1, 0, 1, 0, 1, 1, 1, 1, 1, 1, 1],\n",
       "       dtype=int64))"
      ]
     },
     "execution_count": 13,
     "metadata": {},
     "output_type": "execute_result"
    }
   ],
   "source": [
    "y_pred=np.argmax(y_pred,axis=1) \n",
    "y_test=np.argmax(y_test,axis=1) \n",
    "\n",
    "y_pred,y_test"
   ]
  },
  {
   "cell_type": "code",
   "execution_count": 14,
   "id": "395b23ab",
   "metadata": {},
   "outputs": [
    {
     "name": "stdout",
     "output_type": "stream",
     "text": [
      "0.55\n",
      "[[ 0  8]\n",
      " [ 1 11]]\n",
      "              precision    recall  f1-score   support\n",
      "\n",
      "           0       0.00      0.00      0.00         1\n",
      "           1       0.92      0.58      0.71        19\n",
      "\n",
      "    accuracy                           0.55        20\n",
      "   macro avg       0.46      0.29      0.35        20\n",
      "weighted avg       0.87      0.55      0.67        20\n",
      "\n"
     ]
    }
   ],
   "source": [
    "from sklearn.metrics import confusion_matrix\n",
    "from sklearn.metrics import classification_report\n",
    "from sklearn.metrics import accuracy_score\n",
    "print(accuracy_score(y_test,y_pred))\n",
    "print(confusion_matrix (y_test,y_pred))\n",
    "print(classification_report(y_pred,y_test))\n"
   ]
  },
  {
   "cell_type": "markdown",
   "id": "100b5f48",
   "metadata": {},
   "source": [
    "# BernoulliNB"
   ]
  },
  {
   "cell_type": "code",
   "execution_count": 15,
   "id": "622f5f69",
   "metadata": {},
   "outputs": [
    {
     "name": "stdout",
     "output_type": "stream",
     "text": [
      "0.8\n",
      "0.75\n",
      "20\n",
      "[1 1 1 1 1 1 1 1 0 1 1 1 1 1 1 1 1 1 1 1]\n",
      "0.75\n",
      "[[ 1  5]\n",
      " [ 0 14]]\n",
      "              precision    recall  f1-score   support\n",
      "\n",
      "           0       0.17      1.00      0.29         1\n",
      "           1       1.00      0.74      0.85        19\n",
      "\n",
      "    accuracy                           0.75        20\n",
      "   macro avg       0.58      0.87      0.57        20\n",
      "weighted avg       0.96      0.75      0.82        20\n",
      "\n"
     ]
    }
   ],
   "source": [
    "from sklearn.naive_bayes import BernoulliNB \n",
    "from sklearn import metrics\n",
    "from sklearn.model_selection import train_test_split\n",
    "x_train,x_test,y_train,y_test=train_test_split(x,y,test_size=.25)\n",
    "nb= BernoulliNB().fit(x_train,y_train)\n",
    "print(nb.score(x_train,y_train))\n",
    "print(nb.score(x_test,y_test))\n",
    "y_pred_nb= nb.predict(x_test)\n",
    "print(len(y_pred_nb))\n",
    "print(y_pred_nb)\n",
    "\n",
    "from sklearn.metrics import confusion_matrix\n",
    "from sklearn.metrics import classification_report\n",
    "from sklearn.metrics import accuracy_score\n",
    "\n",
    "print(metrics.accuracy_score(y_test,y_pred_nb))\n",
    "print(confusion_matrix (y_test,y_pred_nb))\n",
    "print(classification_report(y_pred_nb,y_test))"
   ]
  },
  {
   "cell_type": "markdown",
   "id": "a1349b4d",
   "metadata": {},
   "source": [
    "# MultinomialNB"
   ]
  },
  {
   "cell_type": "code",
   "execution_count": 16,
   "id": "14b3c6c6",
   "metadata": {},
   "outputs": [
    {
     "name": "stdout",
     "output_type": "stream",
     "text": [
      "1.0\n",
      "0.6\n",
      "20\n",
      "[0 1 1 1 1 1 1 1 1 1 0 0 1 0 1 1 0 0 0 1]\n",
      "0.6\n",
      "[[3 4]\n",
      " [4 9]]\n"
     ]
    }
   ],
   "source": [
    "\n",
    "from sklearn.naive_bayes import MultinomialNB \n",
    "from sklearn import metrics\n",
    "from sklearn.model_selection import train_test_split\n",
    "x_train,x_test,y_train,y_test=train_test_split(x,y,test_size=.25)\n",
    "nb= MultinomialNB().fit(x_train,y_train)\n",
    "print(nb.score(x_train,y_train))\n",
    "print(nb.score(x_test,y_test))\n",
    "y_pred_nb= nb.predict(x_test)\n",
    "print(len(y_pred_nb))\n",
    "print(y_pred_nb)\n",
    "\n",
    "from sklearn.metrics import confusion_matrix\n",
    "from sklearn.metrics import classification_report\n",
    "from sklearn.metrics import accuracy_score\n",
    "\n",
    "print(metrics.accuracy_score(y_test,y_pred_nb))\n",
    "print(confusion_matrix (y_test,y_pred_nb))"
   ]
  },
  {
   "cell_type": "markdown",
   "id": "772cdab2",
   "metadata": {},
   "source": [
    "# DecisionTreeClassifier"
   ]
  },
  {
   "cell_type": "code",
   "execution_count": 17,
   "id": "4bce6ab6",
   "metadata": {},
   "outputs": [
    {
     "name": "stdout",
     "output_type": "stream",
     "text": [
      "Predicted_y[0 1 1 1 1] Actual_y[1 1 1 0 0]\n",
      "[[4 4]\n",
      " [3 9]]\n",
      "              precision    recall  f1-score   support\n",
      "\n",
      "           0       0.57      0.50      0.53         8\n",
      "           1       0.69      0.75      0.72        12\n",
      "\n",
      "    accuracy                           0.65        20\n",
      "   macro avg       0.63      0.62      0.63        20\n",
      "weighted avg       0.64      0.65      0.65        20\n",
      "\n",
      "model_score- 0.65 \n",
      "accuracy_score- 0.65 \n"
     ]
    }
   ],
   "source": [
    "from sklearn.tree import DecisionTreeClassifier\n",
    "dtc=DecisionTreeClassifier()\n",
    "dtc.fit(x_train,y_train)\n",
    "y_pred_dtc=dtc.predict(x_test)\n",
    "print(f'Predicted_y{y_pred_dtc[:5]} Actual_y{y_test.values[:5]}')\n",
    "print(confusion_matrix(y_pred_dtc,y_test))\n",
    "from sklearn.metrics import confusion_matrix,classification_report,accuracy_score\n",
    "cm=confusion_matrix(y_pred_dtc,y_test)\n",
    "\n",
    "print(classification_report(y_pred_dtc,y_test))\n",
    "print(f'model_score- {dtc.score(x_test,y_test)} ')\n",
    "print(f'accuracy_score- {accuracy_score(y_pred_dtc,y_test)} ')"
   ]
  },
  {
   "cell_type": "markdown",
   "id": "b2d6e403",
   "metadata": {},
   "source": [
    "# RandomForestClassifier"
   ]
  },
  {
   "cell_type": "code",
   "execution_count": 18,
   "id": "0c0408e3",
   "metadata": {},
   "outputs": [
    {
     "name": "stdout",
     "output_type": "stream",
     "text": [
      " predicted_y-[1 1 1 1 1 0 1 1 1 1 1 1 1 1 1 1 1 1 1 1] actual_y-[1 1 1 0 0 0 1 1 1 1 0 1 1 0 0 1 1 1 0 1]\n",
      "[[ 1  0]\n",
      " [ 6 13]]\n",
      "              precision    recall  f1-score   support\n",
      "\n",
      "           0       0.14      1.00      0.25         1\n",
      "           1       1.00      0.68      0.81        19\n",
      "\n",
      "    accuracy                           0.70        20\n",
      "   macro avg       0.57      0.84      0.53        20\n",
      "weighted avg       0.96      0.70      0.78        20\n",
      "\n",
      "model_score- 0.7 \n",
      "accuracy_score- 0.7 \n"
     ]
    }
   ],
   "source": [
    "from sklearn.ensemble import RandomForestClassifier\n",
    "rfc=RandomForestClassifier()\n",
    "rfc.fit(x_train,y_train)\n",
    "y_pred_rfc=rfc.predict(x_test)\n",
    "print(f' predicted_y-{y_pred_rfc} actual_y-{y_test.values}')\n",
    "print(confusion_matrix(y_pred_rfc,y_test))\n",
    "cm=confusion_matrix(y_pred_rfc,y_test)\n",
    "\n",
    "print(classification_report(y_pred_rfc,y_test))\n",
    "print(f'model_score- {rfc.score(x_test,y_test)} ')\n",
    "print(f'accuracy_score- {accuracy_score(y_pred_rfc,y_test)} ')"
   ]
  },
  {
   "cell_type": "code",
   "execution_count": 19,
   "id": "f5d16ab7",
   "metadata": {},
   "outputs": [
    {
     "data": {
      "text/plain": [
       "(80, 505)"
      ]
     },
     "execution_count": 19,
     "metadata": {},
     "output_type": "execute_result"
    }
   ],
   "source": [
    "x.shape"
   ]
  },
  {
   "cell_type": "markdown",
   "id": "51c34e1c",
   "metadata": {},
   "source": [
    "https://stackoverflow.com/questions/58636087/tensorflow-valueerror-failed-to-convert-a-numpy-array-to-a-tensor-unsupporte"
   ]
  },
  {
   "cell_type": "markdown",
   "id": "c9b5c028",
   "metadata": {},
   "source": [
    "# Rnn "
   ]
  },
  {
   "cell_type": "markdown",
   "id": "89353136",
   "metadata": {},
   "source": [
    "https://medium.com/analytics-vidhya/rnn-vs-gru-vs-lstm-863b0b7b1573"
   ]
  },
  {
   "cell_type": "raw",
   "id": "eb943bf9",
   "metadata": {},
   "source": [
    "https://medium.com/analytics-vidhya/rnn-vs-gru-vs-lstm-863b0b7b1573"
   ]
  },
  {
   "cell_type": "markdown",
   "id": "9179df38",
   "metadata": {},
   "source": [
    "## 2. TF-IDF (Term Frequency-Inverse Document Frequency)"
   ]
  },
  {
   "cell_type": "raw",
   "id": "075250a1",
   "metadata": {},
   "source": [
    "from sklearn.feature_extraction.text import TfidfVectorizer\n",
    "from nltk.tokenize import RegexpTokenizer\n",
    "token = RegexpTokenizer(r'[a-zA-Z0-9]+')\n",
    "cv = CountVectorizer(lowercase=True,stop_words='english',ngram_range=(1,1), tokenizer = token.tokenize)\n",
    "x = cv.fit_transform(df['text'])\n",
    "x"
   ]
  },
  {
   "cell_type": "code",
   "execution_count": 20,
   "id": "83ee392d",
   "metadata": {},
   "outputs": [],
   "source": [
    "x=x.toarray()"
   ]
  },
  {
   "cell_type": "markdown",
   "id": "442f579a",
   "metadata": {},
   "source": [
    "https://stackoverflow.com/questions/56634634/convert-2d-array-to-3d-numpy-array"
   ]
  },
  {
   "cell_type": "code",
   "execution_count": 21,
   "id": "6b07801d",
   "metadata": {},
   "outputs": [
    {
     "data": {
      "text/plain": [
       "array([[0, 0, 0, ..., 0, 0, 0],\n",
       "       [0, 0, 0, ..., 0, 0, 0],\n",
       "       [0, 0, 0, ..., 0, 0, 0],\n",
       "       ...,\n",
       "       [0, 0, 0, ..., 0, 0, 0],\n",
       "       [0, 0, 0, ..., 0, 0, 0],\n",
       "       [0, 0, 0, ..., 0, 0, 0]], dtype=int64)"
      ]
     },
     "execution_count": 21,
     "metadata": {},
     "output_type": "execute_result"
    }
   ],
   "source": [
    "x"
   ]
  },
  {
   "cell_type": "markdown",
   "id": "7d7c3686",
   "metadata": {},
   "source": [
    "import numpy as np\n",
    "\n",
    "x = np.asarray(x).astype(np.float32)"
   ]
  },
  {
   "cell_type": "code",
   "execution_count": null,
   "id": "1aa4d047",
   "metadata": {},
   "outputs": [],
   "source": []
  },
  {
   "cell_type": "code",
   "execution_count": 22,
   "id": "7bb33d16",
   "metadata": {},
   "outputs": [],
   "source": [
    "from sklearn.model_selection import train_test_split\n",
    "x_train,x_test,y_train,y_test=train_test_split(x,npy,test_size=.25, random_state=15)\n"
   ]
  },
  {
   "cell_type": "code",
   "execution_count": 23,
   "id": "f33f1c67",
   "metadata": {},
   "outputs": [
    {
     "name": "stdout",
     "output_type": "stream",
     "text": [
      "(60, 505)\n",
      "(20, 505)\n",
      "(60, 2)\n",
      "(20, 2)\n"
     ]
    }
   ],
   "source": [
    "print(x_train.shape)\n",
    "print(x_test.shape)\n",
    "print(y_train.shape)\n",
    "print(y_test.shape)"
   ]
  },
  {
   "cell_type": "code",
   "execution_count": 24,
   "id": "00c58285",
   "metadata": {},
   "outputs": [],
   "source": [
    "from sklearn.preprocessing import StandardScaler\n",
    "sc = StandardScaler(with_mean=False)\n",
    "x_train = sc.fit_transform(x_train)\n",
    "x_test = sc.transform(x_test)\n"
   ]
  },
  {
   "cell_type": "code",
   "execution_count": 25,
   "id": "4c0a384c",
   "metadata": {},
   "outputs": [
    {
     "name": "stdout",
     "output_type": "stream",
     "text": [
      "(60, 505)\n",
      "(20, 505)\n",
      "(60, 2)\n",
      "(20, 2)\n"
     ]
    }
   ],
   "source": [
    "\n",
    "print(x_train.shape)\n",
    "print(x_test.shape)\n",
    "print(y_train.shape)\n",
    "print(y_test.shape)"
   ]
  },
  {
   "cell_type": "code",
   "execution_count": 26,
   "id": "0acf7469",
   "metadata": {},
   "outputs": [],
   "source": [
    "#data.reshape((data.shape[0], data.shape[1], 1)"
   ]
  },
  {
   "cell_type": "markdown",
   "id": "ab90dcb5",
   "metadata": {},
   "source": [
    "https://stackoverflow.com/questions/56634634/convert-2d-array-to-3d-numpy-array"
   ]
  },
  {
   "cell_type": "code",
   "execution_count": 27,
   "id": "a60774a4",
   "metadata": {},
   "outputs": [
    {
     "data": {
      "text/plain": [
       "array([[[0.        ],\n",
       "        [0.        ],\n",
       "        [0.        ],\n",
       "        ...,\n",
       "        [0.        ],\n",
       "        [0.        ],\n",
       "        [0.        ]],\n",
       "\n",
       "       [[0.        ],\n",
       "        [0.        ],\n",
       "        [0.        ],\n",
       "        ...,\n",
       "        [0.        ],\n",
       "        [0.        ],\n",
       "        [0.        ]],\n",
       "\n",
       "       [[0.        ],\n",
       "        [0.        ],\n",
       "        [0.        ],\n",
       "        ...,\n",
       "        [0.        ],\n",
       "        [0.        ],\n",
       "        [0.        ]],\n",
       "\n",
       "       ...,\n",
       "\n",
       "       [[0.        ],\n",
       "        [0.        ],\n",
       "        [0.        ],\n",
       "        ...,\n",
       "        [0.        ],\n",
       "        [0.        ],\n",
       "        [2.38102737]],\n",
       "\n",
       "       [[0.        ],\n",
       "        [0.        ],\n",
       "        [0.        ],\n",
       "        ...,\n",
       "        [0.        ],\n",
       "        [0.        ],\n",
       "        [0.        ]],\n",
       "\n",
       "       [[0.        ],\n",
       "        [0.        ],\n",
       "        [0.        ],\n",
       "        ...,\n",
       "        [0.        ],\n",
       "        [0.        ],\n",
       "        [0.        ]]])"
      ]
     },
     "execution_count": 27,
     "metadata": {},
     "output_type": "execute_result"
    }
   ],
   "source": [
    "x_train.reshape((x_train.shape[0],x_train.shape[1],1))"
   ]
  },
  {
   "cell_type": "code",
   "execution_count": 28,
   "id": "1940a9af",
   "metadata": {},
   "outputs": [
    {
     "data": {
      "text/plain": [
       "(60, 505)"
      ]
     },
     "execution_count": 28,
     "metadata": {},
     "output_type": "execute_result"
    }
   ],
   "source": [
    "x_train.shape"
   ]
  },
  {
   "cell_type": "markdown",
   "id": "2dda493e",
   "metadata": {},
   "source": [
    "https://stackoverflow.com/questions/44383080/memory-error-using-cv-fit-transformcorpus-toarray"
   ]
  },
  {
   "cell_type": "markdown",
   "id": "015fca75",
   "metadata": {},
   "source": [
    "from keras.utils import pad_sequences"
   ]
  },
  {
   "cell_type": "markdown",
   "id": "fc474edd",
   "metadata": {},
   "source": [
    "sequences=pad_sequences(,padding='post')"
   ]
  },
  {
   "cell_type": "markdown",
   "id": "7fa8851e",
   "metadata": {},
   "source": [
    "x_train=pad_sequences(x_train,paddinng='post',maxlen=50)\n",
    "x_test=pad_sequences(x_test,padding='post',maxlen=50)"
   ]
  },
  {
   "cell_type": "code",
   "execution_count": 29,
   "id": "c2c91e8f",
   "metadata": {},
   "outputs": [
    {
     "name": "stdout",
     "output_type": "stream",
     "text": [
      "Model: \"sequential_1\"\n",
      "_________________________________________________________________\n",
      " Layer (type)                Output Shape              Param #   \n",
      "=================================================================\n",
      " simple_rnn (SimpleRNN)      (None, 16)                288       \n",
      "                                                                 \n",
      " dense_2 (Dense)             (None, 2)                 34        \n",
      "                                                                 \n",
      "=================================================================\n",
      "Total params: 322\n",
      "Trainable params: 322\n",
      "Non-trainable params: 0\n",
      "_________________________________________________________________\n",
      "Epoch 1/100\n",
      "2/2 [==============================] - 1s 37ms/step - loss: 0.7275 - accuracy: 0.4833\n",
      "Epoch 2/100\n",
      "2/2 [==============================] - 0s 37ms/step - loss: 0.7240 - accuracy: 0.6500\n",
      "Epoch 3/100\n",
      "2/2 [==============================] - 0s 41ms/step - loss: 0.7201 - accuracy: 0.7000\n",
      "Epoch 4/100\n",
      "2/2 [==============================] - 0s 39ms/step - loss: 0.7155 - accuracy: 0.7000\n",
      "Epoch 5/100\n",
      "2/2 [==============================] - 0s 35ms/step - loss: 0.7117 - accuracy: 0.7000\n",
      "Epoch 6/100\n",
      "2/2 [==============================] - 0s 44ms/step - loss: 0.7089 - accuracy: 0.7000\n",
      "Epoch 7/100\n",
      "2/2 [==============================] - 0s 42ms/step - loss: 0.7040 - accuracy: 0.6833\n",
      "Epoch 8/100\n",
      "2/2 [==============================] - 0s 37ms/step - loss: 0.6996 - accuracy: 0.7000\n",
      "Epoch 9/100\n",
      "2/2 [==============================] - 0s 39ms/step - loss: 0.6947 - accuracy: 0.7000\n",
      "Epoch 10/100\n",
      "2/2 [==============================] - 0s 34ms/step - loss: 0.6894 - accuracy: 0.7167\n",
      "Epoch 11/100\n",
      "2/2 [==============================] - 0s 38ms/step - loss: 0.6812 - accuracy: 0.7167\n",
      "Epoch 12/100\n",
      "2/2 [==============================] - 0s 37ms/step - loss: 0.6728 - accuracy: 0.7167\n",
      "Epoch 13/100\n",
      "2/2 [==============================] - 0s 39ms/step - loss: 0.6576 - accuracy: 0.7333\n",
      "Epoch 14/100\n",
      "2/2 [==============================] - 0s 33ms/step - loss: 0.6432 - accuracy: 0.7333\n",
      "Epoch 15/100\n",
      "2/2 [==============================] - 0s 36ms/step - loss: 0.7120 - accuracy: 0.7333\n",
      "Epoch 16/100\n",
      "2/2 [==============================] - 0s 38ms/step - loss: 0.6218 - accuracy: 0.7500\n",
      "Epoch 17/100\n",
      "2/2 [==============================] - 0s 39ms/step - loss: 0.6221 - accuracy: 0.7500\n",
      "Epoch 18/100\n",
      "2/2 [==============================] - 0s 37ms/step - loss: 0.6301 - accuracy: 0.7500\n",
      "Epoch 19/100\n",
      "2/2 [==============================] - 0s 40ms/step - loss: 0.6311 - accuracy: 0.7500\n",
      "Epoch 20/100\n",
      "2/2 [==============================] - 0s 33ms/step - loss: 0.6333 - accuracy: 0.7500\n",
      "Epoch 21/100\n",
      "2/2 [==============================] - 0s 35ms/step - loss: 0.6341 - accuracy: 0.7500\n",
      "Epoch 22/100\n",
      "2/2 [==============================] - 0s 35ms/step - loss: 0.6330 - accuracy: 0.7500\n",
      "Epoch 23/100\n",
      "2/2 [==============================] - 0s 41ms/step - loss: 0.6314 - accuracy: 0.7500\n",
      "Epoch 24/100\n",
      "2/2 [==============================] - 0s 38ms/step - loss: 0.6291 - accuracy: 0.7500\n",
      "Epoch 25/100\n",
      "2/2 [==============================] - 0s 32ms/step - loss: 0.6261 - accuracy: 0.7500\n",
      "Epoch 26/100\n",
      "2/2 [==============================] - 0s 36ms/step - loss: 0.6219 - accuracy: 0.7500\n",
      "Epoch 27/100\n",
      "2/2 [==============================] - 0s 36ms/step - loss: 0.6186 - accuracy: 0.7500\n",
      "Epoch 28/100\n",
      "2/2 [==============================] - 0s 34ms/step - loss: 0.6142 - accuracy: 0.7500\n",
      "Epoch 29/100\n",
      "2/2 [==============================] - 0s 37ms/step - loss: 0.6093 - accuracy: 0.7500\n",
      "Epoch 30/100\n",
      "2/2 [==============================] - 0s 43ms/step - loss: 0.6050 - accuracy: 0.7500\n",
      "Epoch 31/100\n",
      "2/2 [==============================] - 0s 38ms/step - loss: 0.6007 - accuracy: 0.7500\n",
      "Epoch 32/100\n",
      "2/2 [==============================] - 0s 36ms/step - loss: 0.5952 - accuracy: 0.7500\n",
      "Epoch 33/100\n",
      "2/2 [==============================] - 0s 43ms/step - loss: 0.5932 - accuracy: 0.7500\n",
      "Epoch 34/100\n",
      "2/2 [==============================] - 0s 39ms/step - loss: 0.5910 - accuracy: 0.7500\n",
      "Epoch 35/100\n",
      "2/2 [==============================] - 0s 36ms/step - loss: 0.5825 - accuracy: 0.7500\n",
      "Epoch 36/100\n",
      "2/2 [==============================] - 0s 40ms/step - loss: 0.5845 - accuracy: 0.7500\n",
      "Epoch 37/100\n",
      "2/2 [==============================] - 0s 35ms/step - loss: 0.5764 - accuracy: 0.7500\n",
      "Epoch 38/100\n",
      "2/2 [==============================] - 0s 36ms/step - loss: 0.5721 - accuracy: 0.7500\n",
      "Epoch 39/100\n",
      "2/2 [==============================] - 0s 38ms/step - loss: 0.5697 - accuracy: 0.7500\n",
      "Epoch 40/100\n",
      "2/2 [==============================] - 0s 35ms/step - loss: 0.5654 - accuracy: 0.7500\n",
      "Epoch 41/100\n",
      "2/2 [==============================] - 0s 36ms/step - loss: 0.5614 - accuracy: 0.7500\n",
      "Epoch 42/100\n",
      "2/2 [==============================] - 0s 36ms/step - loss: 0.5592 - accuracy: 0.7500\n",
      "Epoch 43/100\n",
      "2/2 [==============================] - 0s 36ms/step - loss: 0.5530 - accuracy: 0.7500\n",
      "Epoch 44/100\n",
      "2/2 [==============================] - 0s 36ms/step - loss: 0.5485 - accuracy: 0.7500\n",
      "Epoch 45/100\n",
      "2/2 [==============================] - 0s 37ms/step - loss: 0.5465 - accuracy: 0.7500\n",
      "Epoch 46/100\n",
      "2/2 [==============================] - 0s 36ms/step - loss: 0.5435 - accuracy: 0.7333\n",
      "Epoch 47/100\n",
      "2/2 [==============================] - 0s 35ms/step - loss: 0.5415 - accuracy: 0.7167\n",
      "Epoch 48/100\n",
      "2/2 [==============================] - 0s 38ms/step - loss: 0.5354 - accuracy: 0.7167\n",
      "Epoch 49/100\n",
      "2/2 [==============================] - 0s 39ms/step - loss: 0.5361 - accuracy: 0.7167\n",
      "Epoch 50/100\n",
      "2/2 [==============================] - 0s 33ms/step - loss: 0.5295 - accuracy: 0.7167\n",
      "Epoch 51/100\n",
      "2/2 [==============================] - 0s 41ms/step - loss: 0.5271 - accuracy: 0.7167\n",
      "Epoch 52/100\n",
      "2/2 [==============================] - 0s 35ms/step - loss: 0.5255 - accuracy: 0.7333\n",
      "Epoch 53/100\n",
      "2/2 [==============================] - 0s 33ms/step - loss: 0.5259 - accuracy: 0.7333\n",
      "Epoch 54/100\n",
      "2/2 [==============================] - 0s 36ms/step - loss: 0.5623 - accuracy: 0.7333\n",
      "Epoch 55/100\n",
      "2/2 [==============================] - 0s 38ms/step - loss: 0.5355 - accuracy: 0.7500\n",
      "Epoch 56/100\n",
      "2/2 [==============================] - 0s 35ms/step - loss: 0.5685 - accuracy: 0.7500\n",
      "Epoch 57/100\n",
      "2/2 [==============================] - 0s 38ms/step - loss: 0.5771 - accuracy: 0.7500\n",
      "Epoch 58/100\n",
      "2/2 [==============================] - 0s 34ms/step - loss: 0.5779 - accuracy: 0.7500\n",
      "Epoch 59/100\n",
      "2/2 [==============================] - 0s 43ms/step - loss: 0.5743 - accuracy: 0.7667\n",
      "Epoch 60/100\n",
      "2/2 [==============================] - 0s 44ms/step - loss: 0.5619 - accuracy: 0.7500\n",
      "Epoch 61/100\n",
      "2/2 [==============================] - 0s 48ms/step - loss: 0.5455 - accuracy: 0.7333\n",
      "Epoch 62/100\n",
      "2/2 [==============================] - 0s 54ms/step - loss: 0.5283 - accuracy: 0.7333\n",
      "Epoch 63/100\n",
      "2/2 [==============================] - 0s 44ms/step - loss: 0.5415 - accuracy: 0.7167\n",
      "Epoch 64/100\n",
      "2/2 [==============================] - 0s 48ms/step - loss: 0.5331 - accuracy: 0.7167\n",
      "Epoch 65/100\n",
      "2/2 [==============================] - 0s 67ms/step - loss: 0.5293 - accuracy: 0.7333\n",
      "Epoch 66/100\n",
      "2/2 [==============================] - 0s 59ms/step - loss: 0.5381 - accuracy: 0.7333\n",
      "Epoch 67/100\n",
      "2/2 [==============================] - 0s 49ms/step - loss: 0.5373 - accuracy: 0.7333\n",
      "Epoch 68/100\n",
      "2/2 [==============================] - 0s 59ms/step - loss: 0.5298 - accuracy: 0.7333\n",
      "Epoch 69/100\n",
      "2/2 [==============================] - 0s 41ms/step - loss: 0.5179 - accuracy: 0.7167\n",
      "Epoch 70/100\n",
      "2/2 [==============================] - 0s 39ms/step - loss: 0.5311 - accuracy: 0.7167\n",
      "Epoch 71/100\n",
      "2/2 [==============================] - 0s 38ms/step - loss: 0.5354 - accuracy: 0.7333\n",
      "Epoch 72/100\n",
      "2/2 [==============================] - 0s 36ms/step - loss: 0.5253 - accuracy: 0.7333\n",
      "Epoch 73/100\n",
      "2/2 [==============================] - 0s 39ms/step - loss: 0.5291 - accuracy: 0.7333\n",
      "Epoch 74/100\n",
      "2/2 [==============================] - 0s 34ms/step - loss: 0.5232 - accuracy: 0.7333\n",
      "Epoch 75/100\n",
      "2/2 [==============================] - 0s 36ms/step - loss: 0.5221 - accuracy: 0.7333\n",
      "Epoch 76/100\n",
      "2/2 [==============================] - 0s 37ms/step - loss: 0.5154 - accuracy: 0.7333\n"
     ]
    },
    {
     "name": "stdout",
     "output_type": "stream",
     "text": [
      "Epoch 77/100\n",
      "2/2 [==============================] - 0s 38ms/step - loss: 0.5152 - accuracy: 0.7333\n",
      "Epoch 78/100\n",
      "2/2 [==============================] - 0s 37ms/step - loss: 0.5175 - accuracy: 0.7333\n",
      "Epoch 79/100\n",
      "2/2 [==============================] - 0s 38ms/step - loss: 0.5114 - accuracy: 0.7333\n",
      "Epoch 80/100\n",
      "2/2 [==============================] - 0s 34ms/step - loss: 0.5119 - accuracy: 0.7333\n",
      "Epoch 81/100\n",
      "2/2 [==============================] - 0s 36ms/step - loss: 0.5122 - accuracy: 0.7333\n",
      "Epoch 82/100\n",
      "2/2 [==============================] - 0s 31ms/step - loss: 0.5083 - accuracy: 0.7500\n",
      "Epoch 83/100\n",
      "2/2 [==============================] - 0s 33ms/step - loss: 0.5135 - accuracy: 0.7500\n",
      "Epoch 84/100\n",
      "2/2 [==============================] - 0s 33ms/step - loss: 0.5065 - accuracy: 0.7500\n",
      "Epoch 85/100\n",
      "2/2 [==============================] - 0s 38ms/step - loss: 0.5087 - accuracy: 0.7500\n",
      "Epoch 86/100\n",
      "2/2 [==============================] - 0s 39ms/step - loss: 0.5060 - accuracy: 0.7500\n",
      "Epoch 87/100\n",
      "2/2 [==============================] - 0s 33ms/step - loss: 0.5091 - accuracy: 0.7500\n",
      "Epoch 88/100\n",
      "2/2 [==============================] - 0s 34ms/step - loss: 0.5041 - accuracy: 0.7667\n",
      "Epoch 89/100\n",
      "2/2 [==============================] - 0s 34ms/step - loss: 0.5186 - accuracy: 0.7500\n",
      "Epoch 90/100\n",
      "2/2 [==============================] - 0s 39ms/step - loss: 0.5045 - accuracy: 0.7667\n",
      "Epoch 91/100\n",
      "2/2 [==============================] - 0s 34ms/step - loss: 0.5089 - accuracy: 0.7667\n",
      "Epoch 92/100\n",
      "2/2 [==============================] - 0s 40ms/step - loss: 0.5319 - accuracy: 0.7500\n",
      "Epoch 93/100\n",
      "2/2 [==============================] - 0s 35ms/step - loss: 0.5033 - accuracy: 0.7500\n",
      "Epoch 94/100\n",
      "2/2 [==============================] - 0s 33ms/step - loss: 0.5061 - accuracy: 0.7500\n",
      "Epoch 95/100\n",
      "2/2 [==============================] - 0s 35ms/step - loss: 0.5110 - accuracy: 0.7500\n",
      "Epoch 96/100\n",
      "2/2 [==============================] - 0s 38ms/step - loss: 0.5068 - accuracy: 0.7500\n",
      "Epoch 97/100\n",
      "2/2 [==============================] - 0s 34ms/step - loss: 0.5035 - accuracy: 0.7500\n",
      "Epoch 98/100\n",
      "2/2 [==============================] - 0s 38ms/step - loss: 0.5145 - accuracy: 0.7667\n",
      "Epoch 99/100\n",
      "2/2 [==============================] - 0s 37ms/step - loss: 0.4981 - accuracy: 0.7667\n",
      "Epoch 100/100\n",
      "2/2 [==============================] - 0s 38ms/step - loss: 0.5064 - accuracy: 0.7667\n"
     ]
    },
    {
     "data": {
      "text/plain": [
       "<keras.callbacks.History at 0x1611139ec10>"
      ]
     },
     "execution_count": 29,
     "metadata": {},
     "output_type": "execute_result"
    }
   ],
   "source": [
    "\n",
    "import tensorflow as tf\n",
    "from tensorflow import keras\n",
    "from keras.models import Sequential\n",
    "from keras.layers import Dense,Activation,Dropout\n",
    "from keras.layers import SimpleRNN, Embedding, Flatten\n",
    "from keras.optimizers import Adam\n",
    "from keras.metrics import categorical_crossentropy\n",
    "\n",
    "model = Sequential()\n",
    "model.add(SimpleRNN(units=16,activation='relu', input_shape=(505,1), return_sequences=False)) \n",
    "model.add(Dense(units=2,activation='sigmoid'))\n",
    "\n",
    "\n",
    "model.compile(optimizer= 'Adam', loss='binary_crossentropy',metrics=['accuracy'])\n",
    "\n",
    "\n",
    "model.summary()\n",
    "\n",
    "model.fit(x_train,y_train, epochs=100, verbose=1)"
   ]
  },
  {
   "cell_type": "code",
   "execution_count": 30,
   "id": "1c4c5523",
   "metadata": {},
   "outputs": [
    {
     "name": "stdout",
     "output_type": "stream",
     "text": [
      "1/1 [==============================] - 0s 118ms/step\n"
     ]
    },
    {
     "data": {
      "text/plain": [
       "array([[0.44554797, 0.5082591 ],\n",
       "       [0.00200743, 0.9985292 ],\n",
       "       [0.4028237 , 0.5233088 ],\n",
       "       [0.3143194 , 0.2251133 ],\n",
       "       [0.12363624, 0.8896469 ],\n",
       "       [0.07748765, 0.9326416 ],\n",
       "       [0.27747577, 0.73839784],\n",
       "       [0.06107333, 0.94758236],\n",
       "       [0.0086959 , 0.9932025 ],\n",
       "       [0.2269269 , 0.7896671 ],\n",
       "       [0.4466747 , 0.22622357],\n",
       "       [0.49946702, 0.4481244 ],\n",
       "       [0.38941324, 0.625926  ],\n",
       "       [0.03892559, 0.96736944],\n",
       "       [0.11870331, 0.8943035 ],\n",
       "       [0.00812426, 0.9936687 ],\n",
       "       [0.01481788, 0.98814094],\n",
       "       [0.00529223, 0.9959538 ],\n",
       "       [0.20647737, 0.809792  ],\n",
       "       [0.00137774, 0.9990069 ]], dtype=float32)"
      ]
     },
     "execution_count": 30,
     "metadata": {},
     "output_type": "execute_result"
    }
   ],
   "source": [
    "y_pred=model.predict(x_test)\n",
    "y_pred"
   ]
  },
  {
   "cell_type": "code",
   "execution_count": 31,
   "id": "b95dbd88",
   "metadata": {},
   "outputs": [],
   "source": [
    "y_pred=np.argmax(y_pred,axis=1) \n",
    "y_test=np.argmax(y_test,axis=1) "
   ]
  },
  {
   "cell_type": "code",
   "execution_count": 32,
   "id": "916b7c07",
   "metadata": {},
   "outputs": [
    {
     "data": {
      "text/plain": [
       "(array([1, 1, 1, 0, 1, 1, 1, 1, 1, 1, 0, 0, 1, 1, 1, 1, 1, 1, 1, 1],\n",
       "       dtype=int64),\n",
       " array([0, 1, 0, 0, 0, 0, 0, 1, 1, 1, 0, 1, 0, 1, 1, 1, 1, 1, 1, 1],\n",
       "       dtype=int64))"
      ]
     },
     "execution_count": 32,
     "metadata": {},
     "output_type": "execute_result"
    }
   ],
   "source": [
    "y_pred,y_test"
   ]
  },
  {
   "cell_type": "markdown",
   "id": "9b5891ac",
   "metadata": {},
   "source": [
    "https://www.geeksforgeeks.org/python-word-embedding-using-word2vec/"
   ]
  },
  {
   "cell_type": "code",
   "execution_count": 33,
   "id": "d122a6d4",
   "metadata": {},
   "outputs": [
    {
     "name": "stdout",
     "output_type": "stream",
     "text": [
      "0.65\n",
      "[[ 2  6]\n",
      " [ 1 11]]\n",
      "accuracy_score- 0.65 \n",
      "              precision    recall  f1-score   support\n",
      "\n",
      "           0       0.25      0.67      0.36         3\n",
      "           1       0.92      0.65      0.76        17\n",
      "\n",
      "    accuracy                           0.65        20\n",
      "   macro avg       0.58      0.66      0.56        20\n",
      "weighted avg       0.82      0.65      0.70        20\n",
      "\n"
     ]
    }
   ],
   "source": [
    "\n",
    "from sklearn.metrics import confusion_matrix\n",
    "from sklearn.metrics import classification_report\n",
    "from sklearn.metrics import accuracy_score\n",
    "print(accuracy_score(y_test,y_pred))\n",
    "print(confusion_matrix (y_test,y_pred))\n",
    "print(f'accuracy_score- {accuracy_score(y_pred,y_test)} ')\n",
    "print(classification_report(y_pred,y_test))\n"
   ]
  },
  {
   "cell_type": "markdown",
   "id": "8ff2764f",
   "metadata": {},
   "source": [
    "https://machinelearningmastery.com/how-to-develop-lstm-models-for-time-series-forecasting/"
   ]
  },
  {
   "cell_type": "markdown",
   "id": "12042d5d",
   "metadata": {},
   "source": [
    "# LSTM"
   ]
  },
  {
   "cell_type": "raw",
   "id": "ab732689",
   "metadata": {},
   "source": [
    "https://machinelearningmastery.com/how-to-develop-lstm-models-for-time-series-forecasting/"
   ]
  },
  {
   "cell_type": "code",
   "execution_count": 34,
   "id": "cf9938c5",
   "metadata": {},
   "outputs": [
    {
     "name": "stdout",
     "output_type": "stream",
     "text": [
      "Model: \"sequential_2\"\n",
      "_________________________________________________________________\n",
      " Layer (type)                Output Shape              Param #   \n",
      "=================================================================\n",
      " lstm (LSTM)                 (None, 16)                1152      \n",
      "                                                                 \n",
      " dense_3 (Dense)             (None, 2)                 34        \n",
      "                                                                 \n",
      "=================================================================\n",
      "Total params: 1,186\n",
      "Trainable params: 1,186\n",
      "Non-trainable params: 0\n",
      "_________________________________________________________________\n",
      "Epoch 1/100\n",
      "2/2 [==============================] - 1s 92ms/step - loss: 0.6977 - accuracy: 0.6667\n",
      "Epoch 2/100\n",
      "2/2 [==============================] - 0s 90ms/step - loss: 0.6962 - accuracy: 0.7167\n",
      "Epoch 3/100\n",
      "2/2 [==============================] - 0s 87ms/step - loss: 0.6946 - accuracy: 0.7167\n",
      "Epoch 4/100\n",
      "2/2 [==============================] - 0s 89ms/step - loss: 0.6929 - accuracy: 0.7167\n",
      "Epoch 5/100\n",
      "2/2 [==============================] - 0s 87ms/step - loss: 0.6914 - accuracy: 0.7167\n",
      "Epoch 6/100\n",
      "2/2 [==============================] - 0s 89ms/step - loss: 0.6897 - accuracy: 0.7167\n",
      "Epoch 7/100\n",
      "2/2 [==============================] - 0s 96ms/step - loss: 0.6881 - accuracy: 0.7167\n",
      "Epoch 8/100\n",
      "2/2 [==============================] - 0s 89ms/step - loss: 0.6862 - accuracy: 0.7167\n",
      "Epoch 9/100\n",
      "2/2 [==============================] - 0s 89ms/step - loss: 0.6843 - accuracy: 0.7167\n",
      "Epoch 10/100\n",
      "2/2 [==============================] - 0s 89ms/step - loss: 0.6824 - accuracy: 0.7167\n",
      "Epoch 11/100\n",
      "2/2 [==============================] - 0s 92ms/step - loss: 0.6803 - accuracy: 0.7167\n",
      "Epoch 12/100\n",
      "2/2 [==============================] - 0s 90ms/step - loss: 0.6783 - accuracy: 0.7167\n",
      "Epoch 13/100\n",
      "2/2 [==============================] - 0s 96ms/step - loss: 0.6761 - accuracy: 0.7167\n",
      "Epoch 14/100\n",
      "2/2 [==============================] - 0s 88ms/step - loss: 0.6739 - accuracy: 0.7167\n",
      "Epoch 15/100\n",
      "2/2 [==============================] - 0s 90ms/step - loss: 0.6711 - accuracy: 0.7167\n",
      "Epoch 16/100\n",
      "2/2 [==============================] - 0s 91ms/step - loss: 0.6686 - accuracy: 0.7167\n",
      "Epoch 17/100\n",
      "2/2 [==============================] - 0s 89ms/step - loss: 0.6653 - accuracy: 0.7167\n",
      "Epoch 18/100\n",
      "2/2 [==============================] - 0s 88ms/step - loss: 0.6626 - accuracy: 0.7167\n",
      "Epoch 19/100\n",
      "2/2 [==============================] - 0s 93ms/step - loss: 0.6585 - accuracy: 0.7167\n",
      "Epoch 20/100\n",
      "2/2 [==============================] - 0s 93ms/step - loss: 0.6545 - accuracy: 0.7167\n",
      "Epoch 21/100\n",
      "2/2 [==============================] - 0s 87ms/step - loss: 0.6502 - accuracy: 0.7167\n",
      "Epoch 22/100\n",
      "2/2 [==============================] - 0s 92ms/step - loss: 0.6455 - accuracy: 0.7167\n",
      "Epoch 23/100\n",
      "2/2 [==============================] - 0s 89ms/step - loss: 0.6370 - accuracy: 0.7167\n",
      "Epoch 24/100\n",
      "2/2 [==============================] - 0s 101ms/step - loss: 0.6289 - accuracy: 0.7167\n",
      "Epoch 25/100\n",
      "2/2 [==============================] - 0s 86ms/step - loss: 0.6135 - accuracy: 0.7167\n",
      "Epoch 26/100\n",
      "2/2 [==============================] - 0s 91ms/step - loss: nan - accuracy: 0.5833\n",
      "Epoch 27/100\n",
      "2/2 [==============================] - 0s 94ms/step - loss: nan - accuracy: 0.2833\n",
      "Epoch 28/100\n",
      "2/2 [==============================] - 0s 89ms/step - loss: nan - accuracy: 0.2833\n",
      "Epoch 29/100\n",
      "2/2 [==============================] - 0s 93ms/step - loss: nan - accuracy: 0.2833\n",
      "Epoch 30/100\n",
      "2/2 [==============================] - 0s 87ms/step - loss: nan - accuracy: 0.2833\n",
      "Epoch 31/100\n",
      "2/2 [==============================] - 0s 85ms/step - loss: nan - accuracy: 0.2833\n",
      "Epoch 32/100\n",
      "2/2 [==============================] - 0s 85ms/step - loss: nan - accuracy: 0.2833\n",
      "Epoch 33/100\n",
      "2/2 [==============================] - 0s 86ms/step - loss: nan - accuracy: 0.2833\n",
      "Epoch 34/100\n",
      "2/2 [==============================] - 0s 91ms/step - loss: nan - accuracy: 0.2833\n",
      "Epoch 35/100\n",
      "2/2 [==============================] - 0s 96ms/step - loss: nan - accuracy: 0.2833\n",
      "Epoch 36/100\n",
      "2/2 [==============================] - 0s 89ms/step - loss: nan - accuracy: 0.2833\n",
      "Epoch 37/100\n",
      "2/2 [==============================] - 0s 88ms/step - loss: nan - accuracy: 0.2833\n",
      "Epoch 38/100\n",
      "2/2 [==============================] - 0s 94ms/step - loss: nan - accuracy: 0.2833\n",
      "Epoch 39/100\n",
      "2/2 [==============================] - 0s 90ms/step - loss: nan - accuracy: 0.2833\n",
      "Epoch 40/100\n",
      "2/2 [==============================] - 0s 89ms/step - loss: nan - accuracy: 0.2833\n",
      "Epoch 41/100\n",
      "2/2 [==============================] - 0s 85ms/step - loss: nan - accuracy: 0.2833\n",
      "Epoch 42/100\n",
      "2/2 [==============================] - 0s 95ms/step - loss: nan - accuracy: 0.2833\n",
      "Epoch 43/100\n",
      "2/2 [==============================] - 0s 91ms/step - loss: nan - accuracy: 0.2833\n",
      "Epoch 44/100\n",
      "2/2 [==============================] - 0s 84ms/step - loss: nan - accuracy: 0.2833\n",
      "Epoch 45/100\n",
      "2/2 [==============================] - 0s 90ms/step - loss: nan - accuracy: 0.2833\n",
      "Epoch 46/100\n",
      "2/2 [==============================] - 0s 89ms/step - loss: nan - accuracy: 0.2833\n",
      "Epoch 47/100\n",
      "2/2 [==============================] - 0s 92ms/step - loss: nan - accuracy: 0.2833\n",
      "Epoch 48/100\n",
      "2/2 [==============================] - 0s 94ms/step - loss: nan - accuracy: 0.2833\n",
      "Epoch 49/100\n",
      "2/2 [==============================] - 0s 91ms/step - loss: nan - accuracy: 0.2833\n",
      "Epoch 50/100\n",
      "2/2 [==============================] - 0s 85ms/step - loss: nan - accuracy: 0.2833\n",
      "Epoch 51/100\n",
      "2/2 [==============================] - 0s 92ms/step - loss: nan - accuracy: 0.2833\n",
      "Epoch 52/100\n",
      "2/2 [==============================] - 0s 98ms/step - loss: nan - accuracy: 0.2833\n",
      "Epoch 53/100\n",
      "2/2 [==============================] - 0s 88ms/step - loss: nan - accuracy: 0.2833\n",
      "Epoch 54/100\n",
      "2/2 [==============================] - 0s 87ms/step - loss: nan - accuracy: 0.2833\n",
      "Epoch 55/100\n",
      "2/2 [==============================] - 0s 84ms/step - loss: nan - accuracy: 0.2833\n",
      "Epoch 56/100\n",
      "2/2 [==============================] - 0s 88ms/step - loss: nan - accuracy: 0.2833\n",
      "Epoch 57/100\n",
      "2/2 [==============================] - 0s 102ms/step - loss: nan - accuracy: 0.2833\n",
      "Epoch 58/100\n",
      "2/2 [==============================] - 0s 115ms/step - loss: nan - accuracy: 0.2833\n",
      "Epoch 59/100\n",
      "2/2 [==============================] - 0s 107ms/step - loss: nan - accuracy: 0.2833\n",
      "Epoch 60/100\n",
      "2/2 [==============================] - 0s 110ms/step - loss: nan - accuracy: 0.2833\n",
      "Epoch 61/100\n",
      "2/2 [==============================] - 0s 103ms/step - loss: nan - accuracy: 0.2833\n",
      "Epoch 62/100\n",
      "2/2 [==============================] - 0s 106ms/step - loss: nan - accuracy: 0.2833\n",
      "Epoch 63/100\n",
      "2/2 [==============================] - 0s 88ms/step - loss: nan - accuracy: 0.2833\n",
      "Epoch 64/100\n",
      "2/2 [==============================] - 0s 90ms/step - loss: nan - accuracy: 0.2833\n",
      "Epoch 65/100\n",
      "2/2 [==============================] - 0s 91ms/step - loss: nan - accuracy: 0.2833\n",
      "Epoch 66/100\n",
      "2/2 [==============================] - 0s 87ms/step - loss: nan - accuracy: 0.2833\n",
      "Epoch 67/100\n",
      "2/2 [==============================] - 0s 94ms/step - loss: nan - accuracy: 0.2833\n",
      "Epoch 68/100\n",
      "2/2 [==============================] - 0s 92ms/step - loss: nan - accuracy: 0.2833\n",
      "Epoch 69/100\n",
      "2/2 [==============================] - 0s 92ms/step - loss: nan - accuracy: 0.2833\n",
      "Epoch 70/100\n",
      "2/2 [==============================] - 0s 85ms/step - loss: nan - accuracy: 0.2833\n",
      "Epoch 71/100\n",
      "2/2 [==============================] - 0s 103ms/step - loss: nan - accuracy: 0.2833\n",
      "Epoch 72/100\n",
      "2/2 [==============================] - 0s 91ms/step - loss: nan - accuracy: 0.2833\n",
      "Epoch 73/100\n",
      "2/2 [==============================] - 0s 86ms/step - loss: nan - accuracy: 0.2833\n",
      "Epoch 74/100\n",
      "2/2 [==============================] - 0s 92ms/step - loss: nan - accuracy: 0.2833\n",
      "Epoch 75/100\n",
      "2/2 [==============================] - 0s 84ms/step - loss: nan - accuracy: 0.2833\n",
      "Epoch 76/100\n",
      "2/2 [==============================] - 0s 93ms/step - loss: nan - accuracy: 0.2833\n",
      "Epoch 77/100\n",
      "2/2 [==============================] - 0s 91ms/step - loss: nan - accuracy: 0.2833\n",
      "Epoch 78/100\n"
     ]
    },
    {
     "name": "stdout",
     "output_type": "stream",
     "text": [
      "2/2 [==============================] - 0s 88ms/step - loss: nan - accuracy: 0.2833\n",
      "Epoch 79/100\n",
      "2/2 [==============================] - 0s 88ms/step - loss: nan - accuracy: 0.2833\n",
      "Epoch 80/100\n",
      "2/2 [==============================] - 0s 89ms/step - loss: nan - accuracy: 0.2833\n",
      "Epoch 81/100\n",
      "2/2 [==============================] - 0s 86ms/step - loss: nan - accuracy: 0.2833\n",
      "Epoch 82/100\n",
      "2/2 [==============================] - 0s 92ms/step - loss: nan - accuracy: 0.2833\n",
      "Epoch 83/100\n",
      "2/2 [==============================] - 0s 94ms/step - loss: nan - accuracy: 0.2833\n",
      "Epoch 84/100\n",
      "2/2 [==============================] - 0s 89ms/step - loss: nan - accuracy: 0.2833\n",
      "Epoch 85/100\n",
      "2/2 [==============================] - 0s 87ms/step - loss: nan - accuracy: 0.2833\n",
      "Epoch 86/100\n",
      "2/2 [==============================] - 0s 88ms/step - loss: nan - accuracy: 0.2833\n",
      "Epoch 87/100\n",
      "2/2 [==============================] - 0s 81ms/step - loss: nan - accuracy: 0.2833\n",
      "Epoch 88/100\n",
      "2/2 [==============================] - 0s 88ms/step - loss: nan - accuracy: 0.2833\n",
      "Epoch 89/100\n",
      "2/2 [==============================] - 0s 85ms/step - loss: nan - accuracy: 0.2833\n",
      "Epoch 90/100\n",
      "2/2 [==============================] - 0s 91ms/step - loss: nan - accuracy: 0.2833\n",
      "Epoch 91/100\n",
      "2/2 [==============================] - 0s 86ms/step - loss: nan - accuracy: 0.2833\n",
      "Epoch 92/100\n",
      "2/2 [==============================] - 0s 90ms/step - loss: nan - accuracy: 0.2833\n",
      "Epoch 93/100\n",
      "2/2 [==============================] - 0s 88ms/step - loss: nan - accuracy: 0.2833\n",
      "Epoch 94/100\n",
      "2/2 [==============================] - 0s 95ms/step - loss: nan - accuracy: 0.2833\n",
      "Epoch 95/100\n",
      "2/2 [==============================] - 0s 89ms/step - loss: nan - accuracy: 0.2833\n",
      "Epoch 96/100\n",
      "2/2 [==============================] - 0s 98ms/step - loss: nan - accuracy: 0.2833\n",
      "Epoch 97/100\n",
      "2/2 [==============================] - 0s 88ms/step - loss: nan - accuracy: 0.2833\n",
      "Epoch 98/100\n",
      "2/2 [==============================] - 0s 90ms/step - loss: nan - accuracy: 0.2833\n",
      "Epoch 99/100\n",
      "2/2 [==============================] - 0s 87ms/step - loss: nan - accuracy: 0.2833\n",
      "Epoch 100/100\n",
      "2/2 [==============================] - 0s 93ms/step - loss: nan - accuracy: 0.2833\n"
     ]
    },
    {
     "data": {
      "text/plain": [
       "<keras.callbacks.History at 0x161201a2df0>"
      ]
     },
     "execution_count": 34,
     "metadata": {},
     "output_type": "execute_result"
    }
   ],
   "source": [
    "import tensorflow as tf\n",
    "from tensorflow import keras\n",
    "from keras.models import Sequential\n",
    "from keras.layers import Dense,Activation,Dropout\n",
    "from keras.layers import SimpleRNN, Embedding, Flatten,LSTM\n",
    "from keras.optimizers import Adam\n",
    "from keras.metrics import categorical_crossentropy\n",
    "\n",
    "model = Sequential()\n",
    "model.add(LSTM(units=16,activation='relu', input_shape=(505,1), return_sequences=False)) \n",
    "model.add(Dense(units=2,activation='sigmoid'))\n",
    "\n",
    "\n",
    "model.compile(optimizer= 'Adam', loss='binary_crossentropy',metrics=['accuracy'])\n",
    "\n",
    "\n",
    "model.summary()\n",
    "\n",
    "model.fit(x_train,y_train, epochs=100, verbose=1)"
   ]
  },
  {
   "cell_type": "code",
   "execution_count": 35,
   "id": "307cdc65",
   "metadata": {},
   "outputs": [
    {
     "name": "stdout",
     "output_type": "stream",
     "text": [
      "1/1 [==============================] - 0s 142ms/step\n"
     ]
    },
    {
     "data": {
      "text/plain": [
       "array([[nan, nan],\n",
       "       [nan, nan],\n",
       "       [nan, nan],\n",
       "       [nan, nan],\n",
       "       [nan, nan],\n",
       "       [nan, nan],\n",
       "       [nan, nan],\n",
       "       [nan, nan],\n",
       "       [nan, nan],\n",
       "       [nan, nan],\n",
       "       [nan, nan],\n",
       "       [nan, nan],\n",
       "       [nan, nan],\n",
       "       [nan, nan],\n",
       "       [nan, nan],\n",
       "       [nan, nan],\n",
       "       [nan, nan],\n",
       "       [nan, nan],\n",
       "       [nan, nan],\n",
       "       [nan, nan]], dtype=float32)"
      ]
     },
     "execution_count": 35,
     "metadata": {},
     "output_type": "execute_result"
    }
   ],
   "source": [
    "y_pred=model.predict(x_test)\n",
    "y_pred"
   ]
  },
  {
   "cell_type": "code",
   "execution_count": 36,
   "id": "221780c6",
   "metadata": {},
   "outputs": [],
   "source": [
    "y_pred=np.argmax(y_pred,axis=1) \n",
    "#y_test=np.argmax(y_test,axis=1)"
   ]
  },
  {
   "cell_type": "code",
   "execution_count": 37,
   "id": "a59b98d5",
   "metadata": {},
   "outputs": [
    {
     "data": {
      "text/plain": [
       "(array([0, 0, 0, 0, 0, 0, 0, 0, 0, 0, 0, 0, 0, 0, 0, 0, 0, 0, 0, 0],\n",
       "       dtype=int64),\n",
       " array([0, 1, 0, 0, 0, 0, 0, 1, 1, 1, 0, 1, 0, 1, 1, 1, 1, 1, 1, 1],\n",
       "       dtype=int64))"
      ]
     },
     "execution_count": 37,
     "metadata": {},
     "output_type": "execute_result"
    }
   ],
   "source": [
    "y_pred,y_test"
   ]
  },
  {
   "cell_type": "code",
   "execution_count": 38,
   "id": "a85daf96",
   "metadata": {},
   "outputs": [
    {
     "name": "stdout",
     "output_type": "stream",
     "text": [
      "0.4\n",
      "[[ 8  0]\n",
      " [12  0]]\n",
      "accuracy_score- 0.4 \n",
      "              precision    recall  f1-score   support\n",
      "\n",
      "           0       1.00      0.40      0.57        20\n",
      "           1       0.00      0.00      0.00         0\n",
      "\n",
      "    accuracy                           0.40        20\n",
      "   macro avg       0.50      0.20      0.29        20\n",
      "weighted avg       1.00      0.40      0.57        20\n",
      "\n"
     ]
    },
    {
     "name": "stderr",
     "output_type": "stream",
     "text": [
      "C:\\ProgramData\\Anaconda3\\lib\\site-packages\\sklearn\\metrics\\_classification.py:1248: UndefinedMetricWarning: Recall and F-score are ill-defined and being set to 0.0 in labels with no true samples. Use `zero_division` parameter to control this behavior.\n",
      "  _warn_prf(average, modifier, msg_start, len(result))\n",
      "C:\\ProgramData\\Anaconda3\\lib\\site-packages\\sklearn\\metrics\\_classification.py:1248: UndefinedMetricWarning: Recall and F-score are ill-defined and being set to 0.0 in labels with no true samples. Use `zero_division` parameter to control this behavior.\n",
      "  _warn_prf(average, modifier, msg_start, len(result))\n",
      "C:\\ProgramData\\Anaconda3\\lib\\site-packages\\sklearn\\metrics\\_classification.py:1248: UndefinedMetricWarning: Recall and F-score are ill-defined and being set to 0.0 in labels with no true samples. Use `zero_division` parameter to control this behavior.\n",
      "  _warn_prf(average, modifier, msg_start, len(result))\n"
     ]
    }
   ],
   "source": [
    "from sklearn.metrics import confusion_matrix\n",
    "from sklearn.metrics import classification_report\n",
    "from sklearn.metrics import accuracy_score\n",
    "print(accuracy_score(y_test,y_pred))\n",
    "print(confusion_matrix (y_test,y_pred))\n",
    "print(f'accuracy_score- {accuracy_score(y_pred,y_test)} ')\n",
    "print(classification_report(y_pred,y_test))"
   ]
  },
  {
   "cell_type": "code",
   "execution_count": null,
   "id": "b18328fe",
   "metadata": {},
   "outputs": [],
   "source": [
    "\n",
    "\n",
    "\n"
   ]
  },
  {
   "cell_type": "markdown",
   "id": "706f708c",
   "metadata": {},
   "source": [
    "# GRU"
   ]
  },
  {
   "cell_type": "markdown",
   "id": "cf1f565e",
   "metadata": {},
   "source": [
    "https://keras.io/api/layers/recurrent_layers/gru/"
   ]
  },
  {
   "cell_type": "raw",
   "id": "d1a00b39",
   "metadata": {},
   "source": []
  },
  {
   "cell_type": "code",
   "execution_count": 39,
   "id": "c62d14fe",
   "metadata": {},
   "outputs": [
    {
     "name": "stdout",
     "output_type": "stream",
     "text": [
      "Model: \"sequential_3\"\n",
      "_________________________________________________________________\n",
      " Layer (type)                Output Shape              Param #   \n",
      "=================================================================\n",
      " gru (GRU)                   (None, 16)                912       \n",
      "                                                                 \n",
      " dense_4 (Dense)             (None, 2)                 34        \n",
      "                                                                 \n",
      "=================================================================\n",
      "Total params: 946\n",
      "Trainable params: 946\n",
      "Non-trainable params: 0\n",
      "_________________________________________________________________\n",
      "Epoch 1/100\n",
      "2/2 [==============================] - 1s 105ms/step - loss: 0.6915 - accuracy: 0.5833\n",
      "Epoch 2/100\n",
      "2/2 [==============================] - 0s 101ms/step - loss: 0.6903 - accuracy: 0.7000\n",
      "Epoch 3/100\n",
      "2/2 [==============================] - 0s 105ms/step - loss: 0.6890 - accuracy: 0.7167\n",
      "Epoch 4/100\n",
      "2/2 [==============================] - 0s 106ms/step - loss: 0.6876 - accuracy: 0.7000\n",
      "Epoch 5/100\n",
      "2/2 [==============================] - 0s 102ms/step - loss: 0.6862 - accuracy: 0.7000\n",
      "Epoch 6/100\n",
      "2/2 [==============================] - 0s 104ms/step - loss: 0.6847 - accuracy: 0.7333\n",
      "Epoch 7/100\n",
      "2/2 [==============================] - 0s 106ms/step - loss: 0.6831 - accuracy: 0.7333\n",
      "Epoch 8/100\n",
      "2/2 [==============================] - 0s 107ms/step - loss: 0.6816 - accuracy: 0.7333\n",
      "Epoch 9/100\n",
      "2/2 [==============================] - 0s 102ms/step - loss: 0.6801 - accuracy: 0.7333\n",
      "Epoch 10/100\n",
      "2/2 [==============================] - 0s 104ms/step - loss: 0.6786 - accuracy: 0.7333\n",
      "Epoch 11/100\n",
      "2/2 [==============================] - 0s 105ms/step - loss: 0.6769 - accuracy: 0.7333\n",
      "Epoch 12/100\n",
      "2/2 [==============================] - 0s 111ms/step - loss: 0.6752 - accuracy: 0.7333\n",
      "Epoch 13/100\n",
      "2/2 [==============================] - 0s 107ms/step - loss: 0.6737 - accuracy: 0.7333\n",
      "Epoch 14/100\n",
      "2/2 [==============================] - 0s 107ms/step - loss: 0.6718 - accuracy: 0.7333\n",
      "Epoch 15/100\n",
      "2/2 [==============================] - 0s 103ms/step - loss: 0.6705 - accuracy: 0.7333\n",
      "Epoch 16/100\n",
      "2/2 [==============================] - 0s 107ms/step - loss: 0.6686 - accuracy: 0.7333\n",
      "Epoch 17/100\n",
      "2/2 [==============================] - 0s 105ms/step - loss: 0.6668 - accuracy: 0.7333\n",
      "Epoch 18/100\n",
      "2/2 [==============================] - 0s 104ms/step - loss: 0.6649 - accuracy: 0.7333\n",
      "Epoch 19/100\n",
      "2/2 [==============================] - 0s 102ms/step - loss: 0.6631 - accuracy: 0.7333\n",
      "Epoch 20/100\n",
      "2/2 [==============================] - 0s 104ms/step - loss: 0.6613 - accuracy: 0.7333\n",
      "Epoch 21/100\n",
      "2/2 [==============================] - 0s 102ms/step - loss: 0.6594 - accuracy: 0.7333\n",
      "Epoch 22/100\n",
      "2/2 [==============================] - 0s 104ms/step - loss: 0.6573 - accuracy: 0.7333\n",
      "Epoch 23/100\n",
      "2/2 [==============================] - 0s 107ms/step - loss: 0.6554 - accuracy: 0.7333\n",
      "Epoch 24/100\n",
      "2/2 [==============================] - 0s 111ms/step - loss: 0.6534 - accuracy: 0.7333\n",
      "Epoch 25/100\n",
      "2/2 [==============================] - 0s 108ms/step - loss: 0.6511 - accuracy: 0.7333\n",
      "Epoch 26/100\n",
      "2/2 [==============================] - 0s 104ms/step - loss: 0.6492 - accuracy: 0.7333\n",
      "Epoch 27/100\n",
      "2/2 [==============================] - 0s 117ms/step - loss: 0.6467 - accuracy: 0.7333\n",
      "Epoch 28/100\n",
      "2/2 [==============================] - 0s 124ms/step - loss: 0.6444 - accuracy: 0.7333\n",
      "Epoch 29/100\n",
      "2/2 [==============================] - 0s 130ms/step - loss: 0.6419 - accuracy: 0.7333\n",
      "Epoch 30/100\n",
      "2/2 [==============================] - 0s 126ms/step - loss: 0.6397 - accuracy: 0.7333\n",
      "Epoch 31/100\n",
      "2/2 [==============================] - 0s 147ms/step - loss: 0.6369 - accuracy: 0.7333\n",
      "Epoch 32/100\n",
      "2/2 [==============================] - 0s 105ms/step - loss: 0.6349 - accuracy: 0.7333\n",
      "Epoch 33/100\n",
      "2/2 [==============================] - 0s 114ms/step - loss: 0.6321 - accuracy: 0.7333\n",
      "Epoch 34/100\n",
      "2/2 [==============================] - 0s 109ms/step - loss: 0.6293 - accuracy: 0.7333\n",
      "Epoch 35/100\n",
      "2/2 [==============================] - 0s 121ms/step - loss: 0.6271 - accuracy: 0.7333\n",
      "Epoch 36/100\n",
      "2/2 [==============================] - 0s 111ms/step - loss: 0.6240 - accuracy: 0.7333\n",
      "Epoch 37/100\n",
      "2/2 [==============================] - 0s 109ms/step - loss: 0.6214 - accuracy: 0.7333\n",
      "Epoch 38/100\n",
      "2/2 [==============================] - 0s 106ms/step - loss: 0.6183 - accuracy: 0.7333\n",
      "Epoch 39/100\n",
      "2/2 [==============================] - 0s 111ms/step - loss: 0.6162 - accuracy: 0.7333\n",
      "Epoch 40/100\n",
      "2/2 [==============================] - 0s 105ms/step - loss: 0.6126 - accuracy: 0.7333\n",
      "Epoch 41/100\n",
      "2/2 [==============================] - 0s 102ms/step - loss: 0.6100 - accuracy: 0.7333\n",
      "Epoch 42/100\n",
      "2/2 [==============================] - 0s 120ms/step - loss: 0.6076 - accuracy: 0.7333\n",
      "Epoch 43/100\n",
      "2/2 [==============================] - 0s 102ms/step - loss: 0.6044 - accuracy: 0.7333\n",
      "Epoch 44/100\n",
      "2/2 [==============================] - 0s 115ms/step - loss: 0.6018 - accuracy: 0.7333\n",
      "Epoch 45/100\n",
      "2/2 [==============================] - 0s 116ms/step - loss: 0.5984 - accuracy: 0.7333\n",
      "Epoch 46/100\n",
      "2/2 [==============================] - 0s 111ms/step - loss: 0.5954 - accuracy: 0.7333\n",
      "Epoch 47/100\n",
      "2/2 [==============================] - 0s 111ms/step - loss: 0.5930 - accuracy: 0.7333\n",
      "Epoch 48/100\n",
      "2/2 [==============================] - 0s 120ms/step - loss: 0.5916 - accuracy: 0.7333\n",
      "Epoch 49/100\n",
      "2/2 [==============================] - 0s 104ms/step - loss: 0.5876 - accuracy: 0.7333\n",
      "Epoch 50/100\n",
      "2/2 [==============================] - 0s 106ms/step - loss: 0.5866 - accuracy: 0.7333\n",
      "Epoch 51/100\n",
      "2/2 [==============================] - 0s 106ms/step - loss: 0.5859 - accuracy: 0.7333\n",
      "Epoch 52/100\n",
      "2/2 [==============================] - 0s 105ms/step - loss: 0.5828 - accuracy: 0.7333\n",
      "Epoch 53/100\n",
      "2/2 [==============================] - 0s 104ms/step - loss: 0.5810 - accuracy: 0.7333\n",
      "Epoch 54/100\n",
      "2/2 [==============================] - 0s 104ms/step - loss: 0.5811 - accuracy: 0.7333\n",
      "Epoch 55/100\n",
      "2/2 [==============================] - 0s 105ms/step - loss: 0.5811 - accuracy: 0.7333\n",
      "Epoch 56/100\n",
      "2/2 [==============================] - 0s 105ms/step - loss: 0.5797 - accuracy: 0.7333\n",
      "Epoch 57/100\n",
      "2/2 [==============================] - 0s 123ms/step - loss: 0.5791 - accuracy: 0.7333\n",
      "Epoch 58/100\n",
      "2/2 [==============================] - 0s 104ms/step - loss: 0.5790 - accuracy: 0.7333\n",
      "Epoch 59/100\n",
      "2/2 [==============================] - 0s 106ms/step - loss: 0.5785 - accuracy: 0.7333\n",
      "Epoch 60/100\n",
      "2/2 [==============================] - 0s 104ms/step - loss: 0.5778 - accuracy: 0.7333\n",
      "Epoch 61/100\n",
      "2/2 [==============================] - 0s 112ms/step - loss: 0.5769 - accuracy: 0.7333\n",
      "Epoch 62/100\n",
      "2/2 [==============================] - 0s 107ms/step - loss: 0.5765 - accuracy: 0.7333\n",
      "Epoch 63/100\n",
      "2/2 [==============================] - 0s 113ms/step - loss: 0.5760 - accuracy: 0.7333\n",
      "Epoch 64/100\n",
      "2/2 [==============================] - 0s 104ms/step - loss: 0.5766 - accuracy: 0.7333\n",
      "Epoch 65/100\n",
      "2/2 [==============================] - 0s 105ms/step - loss: 0.5748 - accuracy: 0.7333\n",
      "Epoch 66/100\n",
      "2/2 [==============================] - 0s 112ms/step - loss: 0.5748 - accuracy: 0.7333\n",
      "Epoch 67/100\n",
      "2/2 [==============================] - 0s 117ms/step - loss: 0.5742 - accuracy: 0.7333\n",
      "Epoch 68/100\n",
      "2/2 [==============================] - 0s 107ms/step - loss: 0.5733 - accuracy: 0.7333\n",
      "Epoch 69/100\n",
      "2/2 [==============================] - 0s 105ms/step - loss: 0.5731 - accuracy: 0.7333\n",
      "Epoch 70/100\n",
      "2/2 [==============================] - 0s 105ms/step - loss: 0.5725 - accuracy: 0.7333\n",
      "Epoch 71/100\n",
      "2/2 [==============================] - 0s 105ms/step - loss: 0.5724 - accuracy: 0.7333\n",
      "Epoch 72/100\n",
      "2/2 [==============================] - 0s 105ms/step - loss: 0.5712 - accuracy: 0.7333\n",
      "Epoch 73/100\n",
      "2/2 [==============================] - 0s 117ms/step - loss: 0.5707 - accuracy: 0.7333\n",
      "Epoch 74/100\n",
      "2/2 [==============================] - 0s 111ms/step - loss: 0.5695 - accuracy: 0.7500\n",
      "Epoch 75/100\n",
      "2/2 [==============================] - 0s 104ms/step - loss: 0.5690 - accuracy: 0.7500\n",
      "Epoch 76/100\n"
     ]
    },
    {
     "name": "stdout",
     "output_type": "stream",
     "text": [
      "2/2 [==============================] - 0s 113ms/step - loss: 0.5686 - accuracy: 0.7500\n",
      "Epoch 77/100\n",
      "2/2 [==============================] - 0s 107ms/step - loss: 0.5682 - accuracy: 0.7500\n",
      "Epoch 78/100\n",
      "2/2 [==============================] - 0s 111ms/step - loss: 0.5671 - accuracy: 0.7500\n",
      "Epoch 79/100\n",
      "2/2 [==============================] - 0s 111ms/step - loss: 0.5674 - accuracy: 0.7500\n",
      "Epoch 80/100\n",
      "2/2 [==============================] - 0s 114ms/step - loss: 0.5663 - accuracy: 0.7500\n",
      "Epoch 81/100\n",
      "2/2 [==============================] - 0s 111ms/step - loss: 0.5647 - accuracy: 0.7500\n",
      "Epoch 82/100\n",
      "2/2 [==============================] - 0s 108ms/step - loss: 0.5646 - accuracy: 0.7500\n",
      "Epoch 83/100\n",
      "2/2 [==============================] - 0s 110ms/step - loss: 0.5634 - accuracy: 0.7500\n",
      "Epoch 84/100\n",
      "2/2 [==============================] - 0s 108ms/step - loss: 0.5625 - accuracy: 0.7500\n",
      "Epoch 85/100\n",
      "2/2 [==============================] - 0s 102ms/step - loss: 0.5624 - accuracy: 0.7500\n",
      "Epoch 86/100\n",
      "2/2 [==============================] - 0s 107ms/step - loss: 0.5618 - accuracy: 0.7500\n",
      "Epoch 87/100\n",
      "2/2 [==============================] - 0s 102ms/step - loss: 0.5622 - accuracy: 0.7500\n",
      "Epoch 88/100\n",
      "2/2 [==============================] - 0s 108ms/step - loss: 0.5589 - accuracy: 0.7500\n",
      "Epoch 89/100\n",
      "2/2 [==============================] - 0s 111ms/step - loss: 0.5577 - accuracy: 0.7500\n",
      "Epoch 90/100\n",
      "2/2 [==============================] - 0s 109ms/step - loss: 0.5559 - accuracy: 0.7500\n",
      "Epoch 91/100\n",
      "2/2 [==============================] - 0s 109ms/step - loss: 0.5496 - accuracy: 0.7500\n",
      "Epoch 92/100\n",
      "2/2 [==============================] - 0s 103ms/step - loss: 0.5468 - accuracy: 0.7500\n",
      "Epoch 93/100\n",
      "2/2 [==============================] - 0s 109ms/step - loss: 0.5533 - accuracy: 0.7333\n",
      "Epoch 94/100\n",
      "2/2 [==============================] - 0s 154ms/step - loss: 0.5579 - accuracy: 0.7333\n",
      "Epoch 95/100\n",
      "2/2 [==============================] - 0s 149ms/step - loss: 0.5600 - accuracy: 0.7333\n",
      "Epoch 96/100\n",
      "2/2 [==============================] - 0s 141ms/step - loss: 0.5606 - accuracy: 0.7333\n",
      "Epoch 97/100\n",
      "2/2 [==============================] - 0s 129ms/step - loss: 0.5596 - accuracy: 0.7333\n",
      "Epoch 98/100\n",
      "2/2 [==============================] - 0s 133ms/step - loss: 0.5570 - accuracy: 0.7333\n",
      "Epoch 99/100\n",
      "2/2 [==============================] - 0s 124ms/step - loss: 0.5547 - accuracy: 0.7333\n",
      "Epoch 100/100\n",
      "2/2 [==============================] - 0s 99ms/step - loss: 0.5493 - accuracy: 0.7333\n"
     ]
    },
    {
     "data": {
      "text/plain": [
       "<keras.callbacks.History at 0x161234753a0>"
      ]
     },
     "execution_count": 39,
     "metadata": {},
     "output_type": "execute_result"
    }
   ],
   "source": [
    "import tensorflow as tf\n",
    "from tensorflow import keras\n",
    "from keras.models import Sequential\n",
    "from keras.layers import Dense,Activation,Dropout\n",
    "from keras.layers import SimpleRNN, Embedding, Flatten,LSTM,GRU\n",
    "from keras.optimizers import Adam\n",
    "from keras.metrics import categorical_crossentropy\n",
    "\n",
    "model = Sequential()\n",
    "model.add(GRU(units=16,activation='relu', input_shape=(505,1), return_sequences=False)) \n",
    "model.add(Dense(units=2,activation='sigmoid'))\n",
    "\n",
    "\n",
    "model.compile(optimizer= 'Adam', loss='binary_crossentropy',metrics=['accuracy'])\n",
    "\n",
    "\n",
    "model.summary()\n",
    "\n",
    "model.fit(x_train,y_train, epochs=100, verbose=1)"
   ]
  },
  {
   "cell_type": "code",
   "execution_count": 40,
   "id": "dcd4f80f",
   "metadata": {},
   "outputs": [
    {
     "name": "stdout",
     "output_type": "stream",
     "text": [
      "1/1 [==============================] - 0s 156ms/step\n"
     ]
    },
    {
     "data": {
      "text/plain": [
       "array([[0.29670092, 0.6961833 ],\n",
       "       [0.11083812, 0.88630897],\n",
       "       [0.28601623, 0.70755064],\n",
       "       [0.58587563, 0.3691424 ],\n",
       "       [0.16532816, 0.83468646],\n",
       "       [0.14058456, 0.8578391 ],\n",
       "       [0.17244563, 0.82796663],\n",
       "       [0.14961837, 0.849338  ],\n",
       "       [0.141444  , 0.85702777],\n",
       "       [0.18862319, 0.81321305],\n",
       "       [0.5374383 , 0.40817344],\n",
       "       [0.35564858, 0.6464033 ],\n",
       "       [0.2116094 , 0.7922293 ],\n",
       "       [0.14127912, 0.8571783 ],\n",
       "       [0.15363869, 0.8455734 ],\n",
       "       [0.21538925, 0.78879493],\n",
       "       [0.21345772, 0.79054934],\n",
       "       [0.11205591, 0.8851269 ],\n",
       "       [0.18560824, 0.81597793],\n",
       "       [0.07772663, 0.9190981 ]], dtype=float32)"
      ]
     },
     "execution_count": 40,
     "metadata": {},
     "output_type": "execute_result"
    }
   ],
   "source": [
    "y_pred=model.predict(x_test)\n",
    "y_pred"
   ]
  },
  {
   "cell_type": "code",
   "execution_count": 41,
   "id": "04a761e6",
   "metadata": {},
   "outputs": [],
   "source": [
    "y_pred=np.argmax(y_pred,axis=1) \n",
    "#y_test=np.argmax(y_test,axis=1)"
   ]
  },
  {
   "cell_type": "code",
   "execution_count": 42,
   "id": "a3523403",
   "metadata": {},
   "outputs": [
    {
     "data": {
      "text/plain": [
       "(array([1, 1, 1, 0, 1, 1, 1, 1, 1, 1, 0, 1, 1, 1, 1, 1, 1, 1, 1, 1],\n",
       "       dtype=int64),\n",
       " array([0, 1, 0, 0, 0, 0, 0, 1, 1, 1, 0, 1, 0, 1, 1, 1, 1, 1, 1, 1],\n",
       "       dtype=int64))"
      ]
     },
     "execution_count": 42,
     "metadata": {},
     "output_type": "execute_result"
    }
   ],
   "source": [
    "y_pred,y_test"
   ]
  },
  {
   "cell_type": "code",
   "execution_count": 43,
   "id": "c0ac6fea",
   "metadata": {},
   "outputs": [
    {
     "name": "stdout",
     "output_type": "stream",
     "text": [
      "0.7\n",
      "[[ 2  6]\n",
      " [ 0 12]]\n",
      "accuracy_score- 0.7 \n",
      "              precision    recall  f1-score   support\n",
      "\n",
      "           0       0.25      1.00      0.40         2\n",
      "           1       1.00      0.67      0.80        18\n",
      "\n",
      "    accuracy                           0.70        20\n",
      "   macro avg       0.62      0.83      0.60        20\n",
      "weighted avg       0.93      0.70      0.76        20\n",
      "\n"
     ]
    }
   ],
   "source": [
    "from sklearn.metrics import confusion_matrix\n",
    "from sklearn.metrics import classification_report\n",
    "from sklearn.metrics import accuracy_score\n",
    "print(accuracy_score(y_test,y_pred))\n",
    "print(confusion_matrix (y_test,y_pred))\n",
    "print(f'accuracy_score- {accuracy_score(y_pred,y_test)} ')\n",
    "print(classification_report(y_pred,y_test))"
   ]
  },
  {
   "cell_type": "code",
   "execution_count": null,
   "id": "483007c1",
   "metadata": {},
   "outputs": [],
   "source": []
  }
 ],
 "metadata": {
  "kernelspec": {
   "display_name": "Python 3 (ipykernel)",
   "language": "python",
   "name": "python3"
  },
  "language_info": {
   "codemirror_mode": {
    "name": "ipython",
    "version": 3
   },
   "file_extension": ".py",
   "mimetype": "text/x-python",
   "name": "python",
   "nbconvert_exporter": "python",
   "pygments_lexer": "ipython3",
   "version": "3.9.7"
  }
 },
 "nbformat": 4,
 "nbformat_minor": 5
}
